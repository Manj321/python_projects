{
 "cells": [
  {
   "cell_type": "markdown",
   "metadata": {},
   "source": [
    "## Predicting Covid-19 Antibody Epitopes for Potential Vaccine Development\n",
    "\n",
    "The Covid-19 pandemic that began in 2019 has become a global health crisis. Hopes of ending the pandemic is pinned on the effectiveness of currently available vaccines. However, all avenues of vaccine development need to be continuously evaluated to help develop vaccines rapidly to blunt the spread of such highly virulent strains of viruses in the future.   \n",
    "   \n",
    "The project described in this notebook uses a dataset from kaggle titled : 'COVID-19/SARS B-cell Epitope Prediction.A simple dataset for epitope prediction used in vaccine development' (https://www.kaggle.com/futurecorporation/epitope-prediction). It was used to predict covid-19 (Sars-coV2) spike protein epitopes with (potential) antibody inducing capabilities. Being able to design vaccines in-silico, prior to starting any pre-clinical bench work, can be expected to expedite the process, especially when time is of the essence.    \n",
    "   \n",
    "The dataset consist of three csv files with peptide data;   \n",
    "1) input_bcell.csv - range of different peptides that can or cannot induce B-cell activation and neutralizing antibody release   \n",
    "2) input_sars.csv - range of different peptides obtained from the Sars-Cov1 spike protein that can or cannot induce B-cell    \n",
    "                 activation.    \n",
    "3) input_covid.csv - range of different peptides obtained from the Sars-Cov2 (covid-19) spike protein. They serve as test                            peptide samples for a machine learning model trained on bcell and sars data in the above csv files."
   ]
  },
  {
   "cell_type": "markdown",
   "metadata": {},
   "source": [
    "## Import libraries"
   ]
  },
  {
   "cell_type": "code",
   "execution_count": 5,
   "metadata": {},
   "outputs": [],
   "source": [
    "import pandas as pd\n",
    "import numpy as np\n",
    "import seaborn as sns\n",
    "import matplotlib.pyplot as plt\n",
    "%matplotlib inline\n",
    "from sklearn.model_selection import GroupKFold\n",
    "from sklearn.linear_model import LogisticRegression\n",
    "from sklearn.ensemble import RandomForestClassifier\n",
    "from sklearn.metrics import accuracy_score, classification_report"
   ]
  },
  {
   "cell_type": "markdown",
   "metadata": {},
   "source": [
    "## Read csv files into dataframes"
   ]
  },
  {
   "cell_type": "code",
   "execution_count": 6,
   "metadata": {},
   "outputs": [],
   "source": [
    "bcell = pd.read_csv('input_bcell.csv') #B cell dataset\n",
    "sars = pd.read_csv('input_sars.csv') # sars dataset\n",
    "bcell_sars = pd.concat([bcell,sars], axis=0, ignore_index = True) # B cell and sars datasets combined\n",
    "covid = pd.read_csv('input_covid.csv') #covid-19 dataset"
   ]
  },
  {
   "cell_type": "code",
   "execution_count": 7,
   "metadata": {},
   "outputs": [],
   "source": [
    "#create 'length' column in the dfs\n",
    "# this column will hold the amino acid length of each of the peptides\n",
    "for df in [bcell, sars, covid, bcell_sars]:\n",
    "    df['length'] = df['end_position'] - df['start_position']+1"
   ]
  },
  {
   "cell_type": "markdown",
   "metadata": {},
   "source": [
    "# Exploratory Data Analysis"
   ]
  },
  {
   "cell_type": "code",
   "execution_count": 8,
   "metadata": {},
   "outputs": [
    {
     "data": {
      "text/html": [
       "<div>\n",
       "<style scoped>\n",
       "    .dataframe tbody tr th:only-of-type {\n",
       "        vertical-align: middle;\n",
       "    }\n",
       "\n",
       "    .dataframe tbody tr th {\n",
       "        vertical-align: top;\n",
       "    }\n",
       "\n",
       "    .dataframe thead th {\n",
       "        text-align: right;\n",
       "    }\n",
       "</style>\n",
       "<table border=\"1\" class=\"dataframe\">\n",
       "  <thead>\n",
       "    <tr style=\"text-align: right;\">\n",
       "      <th></th>\n",
       "      <th>parent_protein_id</th>\n",
       "      <th>protein_seq</th>\n",
       "      <th>start_position</th>\n",
       "      <th>end_position</th>\n",
       "      <th>peptide_seq</th>\n",
       "      <th>chou_fasman</th>\n",
       "      <th>emini</th>\n",
       "      <th>kolaskar_tongaonkar</th>\n",
       "      <th>parker</th>\n",
       "      <th>isoelectric_point</th>\n",
       "      <th>aromaticity</th>\n",
       "      <th>hydrophobicity</th>\n",
       "      <th>stability</th>\n",
       "      <th>target</th>\n",
       "      <th>length</th>\n",
       "    </tr>\n",
       "  </thead>\n",
       "  <tbody>\n",
       "    <tr>\n",
       "      <th>0</th>\n",
       "      <td>A2T3T0</td>\n",
       "      <td>MDVLYSLSKTLKDARDKIVEGTLYSNVSDLIQQFNQMIITMNGNEF...</td>\n",
       "      <td>161</td>\n",
       "      <td>165</td>\n",
       "      <td>SASFT</td>\n",
       "      <td>1.016</td>\n",
       "      <td>0.703</td>\n",
       "      <td>1.018</td>\n",
       "      <td>2.22</td>\n",
       "      <td>5.810364</td>\n",
       "      <td>0.103275</td>\n",
       "      <td>-0.143829</td>\n",
       "      <td>40.273300</td>\n",
       "      <td>1</td>\n",
       "      <td>5</td>\n",
       "    </tr>\n",
       "    <tr>\n",
       "      <th>1</th>\n",
       "      <td>F0V2I4</td>\n",
       "      <td>MTIHKVAINGFGRIGRLLFRNLLSSQGVQVVAVNDVVDIKVLTHLL...</td>\n",
       "      <td>251</td>\n",
       "      <td>255</td>\n",
       "      <td>LCLKI</td>\n",
       "      <td>0.770</td>\n",
       "      <td>0.179</td>\n",
       "      <td>1.199</td>\n",
       "      <td>-3.86</td>\n",
       "      <td>6.210876</td>\n",
       "      <td>0.065476</td>\n",
       "      <td>-0.036905</td>\n",
       "      <td>24.998512</td>\n",
       "      <td>1</td>\n",
       "      <td>5</td>\n",
       "    </tr>\n",
       "    <tr>\n",
       "      <th>2</th>\n",
       "      <td>O75508</td>\n",
       "      <td>MVATCLQVVGFVTSFVGWIGVIVTTSTNDWVVTCGYTIPTCRKLDE...</td>\n",
       "      <td>145</td>\n",
       "      <td>149</td>\n",
       "      <td>AHRET</td>\n",
       "      <td>0.852</td>\n",
       "      <td>3.427</td>\n",
       "      <td>0.960</td>\n",
       "      <td>4.28</td>\n",
       "      <td>8.223938</td>\n",
       "      <td>0.091787</td>\n",
       "      <td>0.879227</td>\n",
       "      <td>27.863333</td>\n",
       "      <td>1</td>\n",
       "      <td>5</td>\n",
       "    </tr>\n",
       "    <tr>\n",
       "      <th>3</th>\n",
       "      <td>O84462</td>\n",
       "      <td>MTNSISGYQPTVTTSTSSTTSASGASGSLGASSVSTTANATVTQTA...</td>\n",
       "      <td>152</td>\n",
       "      <td>156</td>\n",
       "      <td>SNYDD</td>\n",
       "      <td>1.410</td>\n",
       "      <td>2.548</td>\n",
       "      <td>0.936</td>\n",
       "      <td>6.32</td>\n",
       "      <td>4.237976</td>\n",
       "      <td>0.044776</td>\n",
       "      <td>-0.521393</td>\n",
       "      <td>30.765373</td>\n",
       "      <td>1</td>\n",
       "      <td>5</td>\n",
       "    </tr>\n",
       "    <tr>\n",
       "      <th>4</th>\n",
       "      <td>P00918</td>\n",
       "      <td>MSHHWGYGKHNGPEHWHKDFPIAKGERQSPVDIDTHTAKYDPSLKP...</td>\n",
       "      <td>85</td>\n",
       "      <td>89</td>\n",
       "      <td>DGTYR</td>\n",
       "      <td>1.214</td>\n",
       "      <td>1.908</td>\n",
       "      <td>0.937</td>\n",
       "      <td>4.64</td>\n",
       "      <td>6.867493</td>\n",
       "      <td>0.103846</td>\n",
       "      <td>-0.578846</td>\n",
       "      <td>21.684615</td>\n",
       "      <td>1</td>\n",
       "      <td>5</td>\n",
       "    </tr>\n",
       "  </tbody>\n",
       "</table>\n",
       "</div>"
      ],
      "text/plain": [
       "  parent_protein_id                                        protein_seq  \\\n",
       "0            A2T3T0  MDVLYSLSKTLKDARDKIVEGTLYSNVSDLIQQFNQMIITMNGNEF...   \n",
       "1            F0V2I4  MTIHKVAINGFGRIGRLLFRNLLSSQGVQVVAVNDVVDIKVLTHLL...   \n",
       "2            O75508  MVATCLQVVGFVTSFVGWIGVIVTTSTNDWVVTCGYTIPTCRKLDE...   \n",
       "3            O84462  MTNSISGYQPTVTTSTSSTTSASGASGSLGASSVSTTANATVTQTA...   \n",
       "4            P00918  MSHHWGYGKHNGPEHWHKDFPIAKGERQSPVDIDTHTAKYDPSLKP...   \n",
       "\n",
       "   start_position  end_position peptide_seq  chou_fasman  emini  \\\n",
       "0             161           165       SASFT        1.016  0.703   \n",
       "1             251           255       LCLKI        0.770  0.179   \n",
       "2             145           149       AHRET        0.852  3.427   \n",
       "3             152           156       SNYDD        1.410  2.548   \n",
       "4              85            89       DGTYR        1.214  1.908   \n",
       "\n",
       "   kolaskar_tongaonkar  parker  isoelectric_point  aromaticity  \\\n",
       "0                1.018    2.22           5.810364     0.103275   \n",
       "1                1.199   -3.86           6.210876     0.065476   \n",
       "2                0.960    4.28           8.223938     0.091787   \n",
       "3                0.936    6.32           4.237976     0.044776   \n",
       "4                0.937    4.64           6.867493     0.103846   \n",
       "\n",
       "   hydrophobicity  stability  target  length  \n",
       "0       -0.143829  40.273300       1       5  \n",
       "1       -0.036905  24.998512       1       5  \n",
       "2        0.879227  27.863333       1       5  \n",
       "3       -0.521393  30.765373       1       5  \n",
       "4       -0.578846  21.684615       1       5  "
      ]
     },
     "execution_count": 8,
     "metadata": {},
     "output_type": "execute_result"
    }
   ],
   "source": [
    "bcell_sars.head()"
   ]
  },
  {
   "cell_type": "markdown",
   "metadata": {},
   "source": [
    "##  1) Distribution of peptide features\n",
    "   \n",
    "Plot the histograms for the following peptide features:   \n",
    "\n",
    "1) chou_fasman : peptide feature, β turn   \n",
    "2) emini : peptide feature, relative surface accessibility   \n",
    "3) kolaskar_tongaonkar : peptide feature, antigenicity   \n",
    "4) parker : peptide feature, hydrophobicity   "
   ]
  },
  {
   "cell_type": "code",
   "execution_count": 9,
   "metadata": {
    "hide_input": false
   },
   "outputs": [
    {
     "data": {
      "image/png": "[encoded data removed]",
      "text/plain": [
       "<Figure size 1152x576 with 4 Axes>"
      ]
     },
     "metadata": {
      "needs_background": "light"
     },
     "output_type": "display_data"
    }
   ],
   "source": [
    "fig, axes = plt.subplots(2, 2,figsize=(16,8))\n",
    "axes = [x for a in axes for x in a]\n",
    "for ind, prop in enumerate ([\"chou_fasman\",\"emini\",\"kolaskar_tongaonkar\",\"parker\"]):\n",
    "    sns.histplot(x=bcell[prop], hue=bcell['target'],stat=\"density\", common_norm=False, kde=True, ax=axes[ind])"
   ]
  },
  {
   "cell_type": "markdown",
   "metadata": {},
   "source": [
    "For the four peptide features, there are no discernible differences between peptides that can or cannot induce neutralizing antibodies (i.e. target 1 vs. 0)."
   ]
  },
  {
   "cell_type": "markdown",
   "metadata": {},
   "source": [
    "## 2) Distribution of protein features\n",
    "   \n",
    "Plot the histograms for the following protein features:   \n",
    "   \n",
    "1) isoelectric_point : protein feature, the pH at which the protein has no net charge   \n",
    "2) aromacity: protein feature, presence of aromatic amino acids (phenylalanine, tyrosine, tryptophan and histidine)   \n",
    "3) hydrophobicity : protein feature, a measure of polarity and ability to interact with water molecules   \n",
    "4) stability : protein feature, can it exist in its folded conformation or does it easily denature?   "
   ]
  },
  {
   "cell_type": "code",
   "execution_count": 11,
   "metadata": {
    "hide_input": false,
    "scrolled": false
   },
   "outputs": [
    {
     "data": {
      "image/png": "[encoded data removed]",
      "text/plain": [
       "<Figure size 1152x576 with 4 Axes>"
      ]
     },
     "metadata": {
      "needs_background": "light"
     },
     "output_type": "display_data"
    }
   ],
   "source": [
    "fig, axes = plt.subplots(2, 2,figsize=(16,8))\n",
    "axes = [x for a in axes for x in a]\n",
    "for ind, prop in enumerate ([\"isoelectric_point\", \"aromaticity\", \"hydrophobicity\", \"stability\"]):\n",
    "    sns.histplot(x=bcell[prop], hue=bcell['target'],stat=\"density\", common_norm=False, kde=True, ax=axes[ind])"
   ]
  },
  {
   "cell_type": "markdown",
   "metadata": {},
   "source": [
    "There is also no clear differentiation between the protein features of those peptides that can or cannot induce neutralizing antibodies (i.e. target 1 vs. 0)."
   ]
  },
  {
   "cell_type": "markdown",
   "metadata": {},
   "source": [
    "# Train Logistic Regression model with B-cell data and predict antibody induction with sars-derived peptides"
   ]
  },
  {
   "cell_type": "code",
   "execution_count": 12,
   "metadata": {},
   "outputs": [],
   "source": [
    "gkf = GroupKFold(n_splits=5)#create GroupKFold object with 5 splits of the data"
   ]
  },
  {
   "cell_type": "code",
   "execution_count": 13,
   "metadata": {
    "hide_input": false
   },
   "outputs": [],
   "source": [
    "#create training, testing and prediction datasets\n",
    "X_bcell=bcell.drop(['parent_protein_id', 'protein_seq', 'start_position', 'end_position', 'peptide_seq', 'target'], axis=1)\n",
    "y_bcell=bcell.target\n",
    "X_sars=sars.drop(['parent_protein_id', 'protein_seq', 'start_position', 'end_position', 'peptide_seq', 'target'], axis=1)"
   ]
  },
  {
   "cell_type": "markdown",
   "metadata": {},
   "source": [
    "## Model training and predicting procedure\n",
    "\n",
    "1) Split the dataframe containing B-cell data using GroupKFold since there are groups of peptides derived\n",
    "from several parent proteins. GroupKFold prevents mixing of groups between training and testing data sets.   \n",
    "2) Train and test the LogisticRegression model.   \n",
    "3) For each training run, predict antibody induction using the whole sars dataset.   \n",
    "4) Calculate the average classification over the number of repetitions (i.e. number of folds trained on).   \n",
    "\n",
    "Here an assumption was made where an average calssification value of 1 indicates a 'strong candidate' for induction of neutralizing antibodies (i.e. prediction of 1 for each training/predicting run - see below)    \n",
    "Code adapted and modified from Future Corporation notebook on kaggle  "
   ]
  },
  {
   "cell_type": "code",
   "execution_count": 14,
   "metadata": {
    "hide_input": false
   },
   "outputs": [
    {
     "name": "stdout",
     "output_type": "stream",
     "text": [
      "LogisticRegression mean score:  0.7280191825947953\n",
      "[0.  0.  0.  0.  0.  0.  0.  0.  0.4 0.2 0.  0.  0.4 0.2 0.  0.  0.2 0.\n",
      " 0.2 0.  0.  0.  0.  0.  0.  0.  0.  0.  0.  0.  0.  0.  0.  0.  0.  0.2\n",
      " 0.  0.  0.  0.  0.  0.  0.  0.  0.  0.  0.  0.  0.  0.  0.  0.  0.  0.\n",
      " 0.  0.  0.  0.  0.2 0.4 0.  0.  0.  0.  0.  0.  0.  0.  0.2 0.  0.  0.\n",
      " 0.  0.  0.  0.  0.  0.  0.  0.  0.  0.  0.  0.  0.  0.  0.  0.  0.2 0.2\n",
      " 0.  0.  0.  0.  0.  0.  0.  0.  0.2 0.  0.4 0.  0.  0.  0.  0.  0.  0.\n",
      " 0.  0.  0.  0.  0.2 0.  0.  0.  0.  0.  0.  0.  0.  0.  0.  0.  0.  0.\n",
      " 0.  0.8 0.8 0.8 0.8 0.  0.  0.  0.  0.  0.  0.  0.  0.  0.  0.  0.  0.\n",
      " 0.  0.  0.  0.  0.  0.  0.  0.  0.  0.  0.  0.  0.  0.  0.  0.  0.  0.\n",
      " 0.  0.  0.  0.  0.  0.  0.  0.  0.  1.  0.8 0.6 1.  1.  1.  1.  1.  1.\n",
      " 1.  0.8 1.  1.  1.  0.  1.  1.  1.  1.  0.  0.  0.8 0.8 0.2 0.  0.  0.\n",
      " 0.  0.2 0.  0.  0.  0.2 0.  0.  0.  0.  0.  0.  0.  0.  0.  0.  0.  0.\n",
      " 0.6 0.8 0.  0. ]\n"
     ]
    }
   ],
   "source": [
    "scores_logreg = []\n",
    "model_logreg=LogisticRegression(max_iter=500,C=1)\n",
    "predict=np.zeros(len(sars))\n",
    "\n",
    "i=0\n",
    "for train_index, test_index in gkf.split(X_bcell, y_bcell, bcell['parent_protein_id']): #loop through the 5 GroupKFolds where the groups are the 'parent_protein_id'\n",
    "    X_train = X_bcell.loc[train_index].values\n",
    "    y_train = y_bcell.loc[train_index].values\n",
    "    X_test = X_bcell.loc[test_index].values\n",
    "    y_test = y_bcell.loc[test_index].values\n",
    "    model_logreg.fit(X_train, y_train)\n",
    "    scores_logreg.append(model_logreg.score(X_test, y_test))\n",
    "    predict+=model_logreg.predict(X_sars.values)\n",
    "    i+=1\n",
    "    if i==gkf.n_splits:\n",
    "        predict=predict/gkf.n_splits\n",
    "    \n",
    "    \n",
    "print('LogisticRegression mean score: ', np.mean(scores_logreg))\n",
    "print(predict[:220])#display a portion of the output array to show the various clssification values"
   ]
  },
  {
   "cell_type": "code",
   "execution_count": 15,
   "metadata": {},
   "outputs": [
    {
     "name": "stdout",
     "output_type": "stream",
     "text": [
      "Accuracy: 0.7653846153846153\n",
      "              precision    recall  f1-score   support\n",
      "\n",
      "           0       0.77      0.97      0.86       380\n",
      "           1       0.72      0.21      0.32       140\n",
      "\n",
      "    accuracy                           0.77       520\n",
      "   macro avg       0.75      0.59      0.59       520\n",
      "weighted avg       0.76      0.77      0.71       520\n",
      "\n"
     ]
    }
   ],
   "source": [
    "#How well did the B-cell data help predict the antibody responses of sars peptides?\n",
    "#Convert all classification values of the array that are >= 0.5 to an integer (i.e. 1)\n",
    "#Code modified from Future Corporation notebook\n",
    "print(\"Accuracy:\", accuracy_score(sars[\"target\"].values, np.int32(predict >= 0.5)))\n",
    "print(classification_report(sars[\"target\"].values, np.int32(predict >= 0.5)))"
   ]
  },
  {
   "cell_type": "markdown",
   "metadata": {},
   "source": [
    "Precision is acceptable but not recall and F1-score for those peptides predicted to induce antibody reactions (i.e. Class 1). Thus, misclassification of true positives but not true negatives may have a negative impact on covid-19 antibody prediction capabilities below."
   ]
  },
  {
   "cell_type": "markdown",
   "metadata": {},
   "source": [
    "# Train Logistic Regression model with B-cell + sars data and predict antibody induction with covid-19-derived peptides"
   ]
  },
  {
   "cell_type": "code",
   "execution_count": 16,
   "metadata": {},
   "outputs": [
    {
     "data": {
      "text/html": [
       "<div>\n",
       "<style scoped>\n",
       "    .dataframe tbody tr th:only-of-type {\n",
       "        vertical-align: middle;\n",
       "    }\n",
       "\n",
       "    .dataframe tbody tr th {\n",
       "        vertical-align: top;\n",
       "    }\n",
       "\n",
       "    .dataframe thead th {\n",
       "        text-align: right;\n",
       "    }\n",
       "</style>\n",
       "<table border=\"1\" class=\"dataframe\">\n",
       "  <thead>\n",
       "    <tr style=\"text-align: right;\">\n",
       "      <th></th>\n",
       "      <th>parent_protein_id</th>\n",
       "      <th>protein_seq</th>\n",
       "      <th>start_position</th>\n",
       "      <th>end_position</th>\n",
       "      <th>peptide_seq</th>\n",
       "      <th>chou_fasman</th>\n",
       "      <th>emini</th>\n",
       "      <th>kolaskar_tongaonkar</th>\n",
       "      <th>parker</th>\n",
       "      <th>isoelectric_point</th>\n",
       "      <th>aromaticity</th>\n",
       "      <th>hydrophobicity</th>\n",
       "      <th>stability</th>\n",
       "      <th>length</th>\n",
       "    </tr>\n",
       "  </thead>\n",
       "  <tbody>\n",
       "    <tr>\n",
       "      <th>0</th>\n",
       "      <td>6VYB_A</td>\n",
       "      <td>MGILPSPGMPALLSLVSLLSVLLMGCVAETGTQCVNLTTRTQLPPA...</td>\n",
       "      <td>1</td>\n",
       "      <td>5</td>\n",
       "      <td>MGILP</td>\n",
       "      <td>0.948</td>\n",
       "      <td>0.280</td>\n",
       "      <td>1.033</td>\n",
       "      <td>-2.72</td>\n",
       "      <td>6.03595</td>\n",
       "      <td>0.10929</td>\n",
       "      <td>-0.138642</td>\n",
       "      <td>31.377603</td>\n",
       "      <td>5</td>\n",
       "    </tr>\n",
       "    <tr>\n",
       "      <th>1</th>\n",
       "      <td>6VYB_A</td>\n",
       "      <td>MGILPSPGMPALLSLVSLLSVLLMGCVAETGTQCVNLTTRTQLPPA...</td>\n",
       "      <td>2</td>\n",
       "      <td>6</td>\n",
       "      <td>GILPS</td>\n",
       "      <td>1.114</td>\n",
       "      <td>0.379</td>\n",
       "      <td>1.070</td>\n",
       "      <td>-0.58</td>\n",
       "      <td>6.03595</td>\n",
       "      <td>0.10929</td>\n",
       "      <td>-0.138642</td>\n",
       "      <td>31.377603</td>\n",
       "      <td>5</td>\n",
       "    </tr>\n",
       "    <tr>\n",
       "      <th>2</th>\n",
       "      <td>6VYB_A</td>\n",
       "      <td>MGILPSPGMPALLSLVSLLSVLLMGCVAETGTQCVNLTTRTQLPPA...</td>\n",
       "      <td>3</td>\n",
       "      <td>7</td>\n",
       "      <td>ILPSP</td>\n",
       "      <td>1.106</td>\n",
       "      <td>0.592</td>\n",
       "      <td>1.108</td>\n",
       "      <td>-1.30</td>\n",
       "      <td>6.03595</td>\n",
       "      <td>0.10929</td>\n",
       "      <td>-0.138642</td>\n",
       "      <td>31.377603</td>\n",
       "      <td>5</td>\n",
       "    </tr>\n",
       "    <tr>\n",
       "      <th>3</th>\n",
       "      <td>6VYB_A</td>\n",
       "      <td>MGILPSPGMPALLSLVSLLSVLLMGCVAETGTQCVNLTTRTQLPPA...</td>\n",
       "      <td>4</td>\n",
       "      <td>8</td>\n",
       "      <td>LPSPG</td>\n",
       "      <td>1.324</td>\n",
       "      <td>0.836</td>\n",
       "      <td>1.053</td>\n",
       "      <td>1.44</td>\n",
       "      <td>6.03595</td>\n",
       "      <td>0.10929</td>\n",
       "      <td>-0.138642</td>\n",
       "      <td>31.377603</td>\n",
       "      <td>5</td>\n",
       "    </tr>\n",
       "    <tr>\n",
       "      <th>4</th>\n",
       "      <td>6VYB_A</td>\n",
       "      <td>MGILPSPGMPALLSLVSLLSVLLMGCVAETGTQCVNLTTRTQLPPA...</td>\n",
       "      <td>5</td>\n",
       "      <td>9</td>\n",
       "      <td>PSPGM</td>\n",
       "      <td>1.326</td>\n",
       "      <td>1.004</td>\n",
       "      <td>0.968</td>\n",
       "      <td>2.44</td>\n",
       "      <td>6.03595</td>\n",
       "      <td>0.10929</td>\n",
       "      <td>-0.138642</td>\n",
       "      <td>31.377603</td>\n",
       "      <td>5</td>\n",
       "    </tr>\n",
       "  </tbody>\n",
       "</table>\n",
       "</div>"
      ],
      "text/plain": [
       "  parent_protein_id                                        protein_seq  \\\n",
       "0            6VYB_A  MGILPSPGMPALLSLVSLLSVLLMGCVAETGTQCVNLTTRTQLPPA...   \n",
       "1            6VYB_A  MGILPSPGMPALLSLVSLLSVLLMGCVAETGTQCVNLTTRTQLPPA...   \n",
       "2            6VYB_A  MGILPSPGMPALLSLVSLLSVLLMGCVAETGTQCVNLTTRTQLPPA...   \n",
       "3            6VYB_A  MGILPSPGMPALLSLVSLLSVLLMGCVAETGTQCVNLTTRTQLPPA...   \n",
       "4            6VYB_A  MGILPSPGMPALLSLVSLLSVLLMGCVAETGTQCVNLTTRTQLPPA...   \n",
       "\n",
       "   start_position  end_position peptide_seq  chou_fasman  emini  \\\n",
       "0               1             5       MGILP        0.948  0.280   \n",
       "1               2             6       GILPS        1.114  0.379   \n",
       "2               3             7       ILPSP        1.106  0.592   \n",
       "3               4             8       LPSPG        1.324  0.836   \n",
       "4               5             9       PSPGM        1.326  1.004   \n",
       "\n",
       "   kolaskar_tongaonkar  parker  isoelectric_point  aromaticity  \\\n",
       "0                1.033   -2.72            6.03595      0.10929   \n",
       "1                1.070   -0.58            6.03595      0.10929   \n",
       "2                1.108   -1.30            6.03595      0.10929   \n",
       "3                1.053    1.44            6.03595      0.10929   \n",
       "4                0.968    2.44            6.03595      0.10929   \n",
       "\n",
       "   hydrophobicity  stability  length  \n",
       "0       -0.138642  31.377603       5  \n",
       "1       -0.138642  31.377603       5  \n",
       "2       -0.138642  31.377603       5  \n",
       "3       -0.138642  31.377603       5  \n",
       "4       -0.138642  31.377603       5  "
      ]
     },
     "execution_count": 16,
     "metadata": {},
     "output_type": "execute_result"
    }
   ],
   "source": [
    "covid.head()"
   ]
  },
  {
   "cell_type": "code",
   "execution_count": 17,
   "metadata": {},
   "outputs": [
    {
     "data": {
      "text/plain": [
       "6VYB_A    20312\n",
       "Name: parent_protein_id, dtype: int64"
      ]
     },
     "execution_count": 17,
     "metadata": {},
     "output_type": "execute_result"
    }
   ],
   "source": [
    "covid['parent_protein_id'].value_counts() #only protein and peptide data  from one parent protein is in this dataframe"
   ]
  },
  {
   "cell_type": "code",
   "execution_count": 18,
   "metadata": {},
   "outputs": [],
   "source": [
    "# Define the training and prediction data\n",
    "X_bcell_sars = bcell_sars.drop(['parent_protein_id', 'protein_seq', 'start_position', 'end_position', 'peptide_seq', 'target'], axis=1)\n",
    "y_bcell_sars = bcell_sars['target']\n",
    "X_covid = covid.drop(['parent_protein_id', 'protein_seq', 'start_position', 'end_position', 'peptide_seq'], axis=1)"
   ]
  },
  {
   "cell_type": "markdown",
   "metadata": {},
   "source": [
    "## Model training and predicting procedure\n",
    "\n",
    "1) Split the dataframe containing B-cell+sars data using GroupKFold.   \n",
    "2) Train and test the LogisticRegression model.   \n",
    "3) For each training run, predict antibody induction using the whole covid-19 dataset.   \n",
    "4) Calculate the average classification over the number of repetitions (i.e. number of folds trained on). "
   ]
  },
  {
   "cell_type": "code",
   "execution_count": 19,
   "metadata": {
    "hide_input": false
   },
   "outputs": [
    {
     "name": "stdout",
     "output_type": "stream",
     "text": [
      "LogisticRegression mean score:  0.7280191825947953\n",
      "[0. 0. 0. ... 0. 0. 0.]\n"
     ]
    }
   ],
   "source": [
    "model_logreg=LogisticRegression(max_iter=500,C=1)\n",
    "covid_predict=np.zeros(len(covid))\n",
    "\n",
    "i=0\n",
    "for train_index, test_index in gkf.split(X_bcell_sars, y_bcell_sars, bcell_sars['parent_protein_id']): #loop through the 5 GroupKFolds where the groups are the 'parent_protein_id'\n",
    "    X_train = X_bcell_sars.loc[train_index].values\n",
    "    y_train = y_bcell_sars.loc[train_index].values\n",
    "    X_test = X_bcell_sars.loc[test_index].values\n",
    "    y_test = y_bcell_sars.loc[test_index].values\n",
    "    model_logreg.fit(X_train, y_train)\n",
    "    covid_predict+=model_logreg.predict(X_covid.values)\n",
    "    i+=1\n",
    "    if i==gkf.n_splits:\n",
    "        covid_predict=covid_predict/gkf.n_splits\n",
    "    \n",
    "    \n",
    "print('LogisticRegression mean score: ', np.mean(scores_logreg))   \n",
    "print(covid_predict)"
   ]
  },
  {
   "cell_type": "code",
   "execution_count": 20,
   "metadata": {},
   "outputs": [],
   "source": [
    "covid_target = np.int32(covid_predict >= 0.5)#convert all decimals greater than or equal to 0.5 to integers (i.e. 1's)"
   ]
  },
  {
   "cell_type": "code",
   "execution_count": 21,
   "metadata": {},
   "outputs": [
    {
     "data": {
      "text/plain": [
       "0    20268\n",
       "1       44\n",
       "Name: target, dtype: int64"
      ]
     },
     "execution_count": 21,
     "metadata": {},
     "output_type": "execute_result"
    }
   ],
   "source": [
    "covid_final=covid.copy()#create deep copy of covid df\n",
    "covid_final['target']=covid_target\n",
    "covid_final['target'].value_counts()\n",
    "#44 peptides were identified as potential candidates for antibody induction"
   ]
  },
  {
   "cell_type": "markdown",
   "metadata": {},
   "source": [
    "There are a range of classification values, of which values >=0.5 can be reclassified as '1'. It is interesting to note that there are 20 peptides, with a classification of 1. This indicates that with each train/predict run above, each of these peptides were predicted to be a candidate. Hence we will assume these 20 peptides to be 'strong candidates' for inducing anti-covid-19 antibodies."
   ]
  },
  {
   "cell_type": "code",
   "execution_count": 23,
   "metadata": {},
   "outputs": [
    {
     "data": {
      "text/plain": [
       "5927                PDPSKPSKR\n",
       "5928                DPSKPSKRS\n",
       "7200               PDPSKPSKRS\n",
       "10350           YYHKNNKSWMESE\n",
       "12282          PDPSKPSKRSFIED\n",
       "12624          KEELDKYFKNHTSP\n",
       "12887         YYHKNNKSWMESEFR\n",
       "13892         KEELDKYFKNHTSPD\n",
       "15158        FKEELDKYFKNHTSPD\n",
       "16418       QPELDSFKEELDKYFKN\n",
       "16422       DSFKEELDKYFKNHTSP\n",
       "16423       SFKEELDKYFKNHTSPD\n",
       "16425       KEELDKYFKNHTSPDVD\n",
       "16685      YYHKNNKSWMESEFRVYS\n",
       "17679      YDPLQPELDSFKEELDKY\n",
       "17683      QPELDSFKEELDKYFKNH\n",
       "17684      PELDSFKEELDKYFKNHT\n",
       "17687      DSFKEELDKYFKNHTSPD\n",
       "17949     YYHKNNKSWMESEFRVYSS\n",
       "17952     KNNKSWMESEFRVYSSANN\n",
       "18253     NYNYLYRLFRKSNLKPFER\n",
       "18254     YNYLYRLFRKSNLKPFERD\n",
       "18944     DPLQPELDSFKEELDKYFK\n",
       "18945     PLQPELDSFKEELDKYFKN\n",
       "18947     QPELDSFKEELDKYFKNHT\n",
       "18948     PELDSFKEELDKYFKNHTS\n",
       "18949     ELDSFKEELDKYFKNHTSP\n",
       "18950     LDSFKEELDKYFKNHTSPD\n",
       "18951     DSFKEELDKYFKNHTSPDV\n",
       "18952     SFKEELDKYFKNHTSPDVD\n",
       "19212    YYHKNNKSWMESEFRVYSSA\n",
       "19213    YHKNNKSWMESEFRVYSSAN\n",
       "19214    HKNNKSWMESEFRVYSSANN\n",
       "19515    GNYNYLYRLFRKSNLKPFER\n",
       "19516    NYNYLYRLFRKSNLKPFERD\n",
       "20206    YDPLQPELDSFKEELDKYFK\n",
       "20207    DPLQPELDSFKEELDKYFKN\n",
       "20208    PLQPELDSFKEELDKYFKNH\n",
       "20209    LQPELDSFKEELDKYFKNHT\n",
       "20210    QPELDSFKEELDKYFKNHTS\n",
       "20211    PELDSFKEELDKYFKNHTSP\n",
       "20212    ELDSFKEELDKYFKNHTSPD\n",
       "20214    DSFKEELDKYFKNHTSPDVD\n",
       "20217    KEELDKYFKNHTSPDVDLGD\n",
       "Name: peptide_seq, dtype: object"
      ]
     },
     "execution_count": 23,
     "metadata": {},
     "output_type": "execute_result"
    }
   ],
   "source": [
    "covid_final[covid_final['target']==1]['peptide_seq'] #the peptide sequences of 44 potential covid vaccine candidates"
   ]
  },
  {
   "cell_type": "markdown",
   "metadata": {},
   "source": [
    "## Amino acid sequences of Sars-coV2 spike protein mimics coded for by Pfizer and Moderna mRNA vaccines"
   ]
  },
  {
   "cell_type": "code",
   "execution_count": 22,
   "metadata": {},
   "outputs": [],
   "source": [
    "#the following are the translated amino acid sequences from pfizer and Moderna mRNA vaccines. \n",
    "# mRNA sequences copied from https://github.com/NAalytics/Assemblies-of-putative-SARS-CoV2-spike-encoding-mRNA-sequences-for-vaccines-BNT-162b2-and-mRNA-1273\n",
    "# mRNA sequences translated at https://web.expasy.org/translate/\n",
    "\n",
    "pfizer = \"MFVFLVLLPLVSSQCVNLTTRTQLPPAYTNSFTRGVYYPDKVFRSSVLHSTQDLFLPFFSNVTWFHAIHVSGTNGTKRFDNPVLPFNDGVYFASTEKSNIIRGWIFGTTLDSKTQSLLIVNNATNVVIKVCEFQFCNDPFLGVYYHKNNKSWMESEFRVYSSANNCTFEYVSQPFLMDLEGKQGNFKNLREFVFKNIDGYFKIYSKHTPINLVRDLPQGFSALEPLVDLPIGINITRFQTLLALHRSYLTPGDSSSGWTAGAAAYYVGYLQPRTFLLKYNENGTITDAVDCALDPLSETKCTLKSFTVEKGIYQTSNFRVQPTESIVRFPNITNLCPFGEVFNATRFASVYAWNRKRISNCVADYSVLYNSASFSTFKCYGVSPTKLNDLCFTNVYADSFVIRGDEVRQIAPGQTGKIADYNYKLPDDFTGCVIAWNSNNLDSKVGGNYNYLYRLFRKSNLKPFERDISTEIYQAGSTPCNGVEGFNCYFPLQSYGFQPTNGVGYQPYRVVVLSFELLHAPATVCGPKKSTNLVKNKCVNFNFNGLTGTGVLTESNKKFLPFQQFGRDIADTTDAVRDPQTLEILDITPCSFGGVSVITPGTNTSNQVAVLYQDVNCTEVPVAIHADQLTPTWRVYSTGSNVFQTRAGCLIGAEHVNNSYECDIPIGAGICASYQTQTNSPRRARSVASQSIIAYTMSLGAENSVAYSNNSIAIPTNFTISVTTEILPVSMTKTSVDCTMYICGDSTECSNLLLQYGSFCTQLNRALTGIAVEQDKNTQEVFAQVKQIYKTPPIKDFGGFNFSQILPDPSKPSKRSFIEDLLFNKVTLADAGFIKQYGDCLGDIAARDLICAQKFNGLTVLPPLLTDEMIAQYTSALLAGTITSGWTFGAGAALQIPFAMQMAYRFNGIGVTQNVLYENQKLIANQFNSAIGKIQDSLSSTASALGKLQDVVNQNAQALNTLVKQLSSNFGAISSVLNDILSRLDPPEAEVQIDRLITGRLQSLQTYVTQQLIRAAEIRASANLAATKMSECVLGQSKRVDFCGKGYHLMSFPQSAPHGVVFLHVTYVPAQEKNFTTAPAICHDGKAHFPREGVFVSNGTHWFVTQRNFYEPQIITTDNTFVSGNCDVVIGIVNNTVYDPLQPELDSFKEELDKYFKNHTSPDVDLGDISGINASVVNIQKEIDRLNEVAKNLNESLIDLQELGKYEQYIKWPWYIWLGFIAGLIAIVMVTIMLCCMTSCCSCLKGCCSCGSCCKFDEDDSEPVLKGVKLHYT\"\n",
    "moderna = \"MFVFLVLLPLVSSQCVNLTTRTQLPPAYTNSFTRGVYYPDKVFRSSVLHSTQDLFLPFFSNVTWFHAIHVSGTNGTKRFDNPVLPFNDGVYFASTEKSNIIRGWIFGTTLDSKTQSLLIVNNATNVVIKVCEFQFCNDPFLGVYYHKNNKSWMESEFRVYSSANNCTFEYVSQPFLMDLEGKQGNFKNLREFVFKNIDGYFKIYSKHTPINLVRDLPQGFSALEPLVDLPIGINITRFQTLLALHRSYLTPGDSSSGWTAGAAAYYVGYLQPRTFLLKYNENGTITDAVDCALDPLSETKCTLKSFTVEKGIYQTSNFRVQPTESIVRFPNITNLCPFGEVFNATRFASVYAWNRKRISNCVADYSVLYNSASFSTFKCYGVSPTKLNDLCFTNVYADSFVIRGDEVRQIAPGQTGKIADYNYKLPDDFTGCVIAWNSNNLDSKVGGNYNYLYRLFRKSNLKPFERDISTEIYQAGSTPCNGVEGFNCYFPLQSYGFQPTNGVGYQPYRVVVLSFELLHAPATVCGPKKSTNLVKNKCVNFNFNGLTGTGVLTESNKKFLPFQQFGRDIADTTDAVRDPQTLEILDITPCSFGGVSVITPGTNTSNQVAVLYQDVNCTEVPVAIHADQLTPTWRVYSTGSNVFQTRAGCLIGAEHVNNSYECDIPIGAGICASYQTQTNSPRRARSVASQSIIAYTMSLGAENSVAYSNNSIAIPTNFTISVTTEILPVSMTKTSVDCTMYICGDSTECSNLLLQYGSFCTQLNRALTGIAVEQDKNTQEVFAQVKQIYKTPPIKDFGGFNFSQILPDPSKPSKRSFIEDLLFNKVTLADAGFIKQYGDCLGDIAARDLICAQKFNGLTVLPPLLTDEMIAQYTSALLAGTITSGWTFGAGAALQIPFAMQMAYRFNGIGVTQNVLYENQKLIANQFNSAIGKIQDSLSSTASALGKLQDVVNQNAQALNTLVKQLSSNFGAISSVLNDILSRLDPPEAEVQIDRLITGRLQSLQTYVTQQLIRAAEIRASANLAATKMSECVLGQSKRVDFCGKGYHLMSFPQSAPHGVVFLHVTYVPAQEKNFTTAPAICHDGKAHFPREGVFVSNGTHWFVTQRNFYEPQIITTDNTFVSGNCDVVIGIVNNTVYDPLQPELDSFKEELDKYFKNHTSPDVDLGDISGINASVVNIQKEIDRLNEVAKNLNESLIDLQELGKYEQYIKWPWYIWLGFIAGLIAIVMVTIMLCCMTSCCSCLKGCCSCGSCCKFDEDDSEPVLKGVKLHYT\""
   ]
  },
  {
   "cell_type": "code",
   "execution_count": 24,
   "metadata": {},
   "outputs": [
    {
     "data": {
      "text/plain": [
       "True"
      ]
     },
     "execution_count": 24,
     "metadata": {},
     "output_type": "execute_result"
    }
   ],
   "source": [
    "pfizer==moderna #the peptide sequences are identical. This is the case even though the mRNA sequences are \n",
    "# NOT identical (not shown)"
   ]
  },
  {
   "cell_type": "code",
   "execution_count": 25,
   "metadata": {},
   "outputs": [
    {
     "name": "stdout",
     "output_type": "stream",
     "text": [
      "0 peptides are not part of SARS-Cov2 sequence\n"
     ]
    }
   ],
   "source": [
    "# All of the 'strong' peptide candidates are part of the covid spike protein sequence. \n",
    "#This is expected since the single parent protein is the spike protein\n",
    "i=0\n",
    "for seq in covid_final[covid_final['target']==1]['peptide_seq']:\n",
    "    if seq in pfizer: continue\n",
    "    else: i+=1\n",
    "print(i, 'peptides are not part of SARS-Cov2 sequence')"
   ]
  },
  {
   "cell_type": "code",
   "execution_count": 27,
   "metadata": {},
   "outputs": [
    {
     "data": {
      "text/plain": [
       "0.0    20148\n",
       "0.2      103\n",
       "1.0       20\n",
       "0.4       17\n",
       "0.8       13\n",
       "0.6       11\n",
       "Name: initial_prediction, dtype: int64"
      ]
     },
     "execution_count": 27,
     "metadata": {},
     "output_type": "execute_result"
    }
   ],
   "source": [
    "#create an additional colum in covid_final containing the initial predictions from the model\n",
    "\n",
    "covid_final['initial_prediction']=covid_predict\n",
    "covid_final['initial_prediction'].value_counts()\n",
    "# It is interesting to note that 20 of these candidates were predicted for antibody induction with each of the 5 prediction rounds\n",
    "# These 20 peptides will be assumed to be 'strong candidates' for inducing covid-19 neutralizing antibodies"
   ]
  },
  {
   "cell_type": "markdown",
   "metadata": {},
   "source": [
    "## Align the predicted candidate peptides with the translated spike protein amino acid sequence"
   ]
  },
  {
   "cell_type": "markdown",
   "metadata": {},
   "source": [
    "## 'Strong candidate' epitopes"
   ]
  },
  {
   "cell_type": "code",
   "execution_count": 35,
   "metadata": {
    "scrolled": false
   },
   "outputs": [
    {
     "name": "stdout",
     "output_type": "stream",
     "text": [
      "1130 <<<<<<<<<< amino acid pos. >>>>>>>>>>>>>>> 1181\n",
      "| ............................................... |\n",
      "IGIVNNTVYDPLQPELDSFKEELDKYFKNHTSPDVDLGDISGINASVVNIQ  <- SARS-COV2 spike protein\n",
      "...................KEELDKYFKNHTSPD.................\n",
      "..................FKEELDKYFKNHTSPD.................\n",
      "................DSFKEELDKYFKNHTSP..................\n",
      ".................SFKEELDKYFKNHTSPD.................\n",
      "...................KEELDKYFKNHTSPDVD...............\n",
      "............QPELDSFKEELDKYFKNH.....................\n",
      "................DSFKEELDKYFKNHTSPD.................\n",
      "............QPELDSFKEELDKYFKNHT....................\n",
      ".............PELDSFKEELDKYFKNHTS...................\n",
      "..............ELDSFKEELDKYFKNHTSP..................\n",
      "...............LDSFKEELDKYFKNHTSPD.................\n",
      "........YDPLQPELDSFKEELDKYFK.......................\n",
      ".........DPLQPELDSFKEELDKYFKN......................\n",
      "............QPELDSFKEELDKYFKNHTS...................\n",
      ".............PELDSFKEELDKYFKNHTSP..................\n",
      "..............ELDSFKEELDKYFKNHTSPD.................\n",
      "................DSFKEELDKYFKNHTSPDVD...............\n"
     ]
    }
   ],
   "source": [
    "# Align the latter region of the spike protein sequence with the 'strong candidate' peptides\n",
    "\n",
    "disp_seq=pfizer[1129:1180]\n",
    "print('1130', '<'*10, 'amino acid pos.', '>'*15, '1181')\n",
    "print('|', '.'*47, '|')\n",
    "print(disp_seq,' <- SARS-COV2 spike protein')\n",
    "for seq in covid_final[covid_final['initial_prediction']==1]['peptide_seq']:\n",
    "    if pfizer.find(seq)>1129:\n",
    "        print('.'*(pfizer.find(seq)-1129)+seq+'.'*(1180-pfizer.find(seq)-len(seq)))\n",
    "        "
   ]
  },
  {
   "cell_type": "code",
   "execution_count": 47,
   "metadata": {},
   "outputs": [
    {
     "data": {
      "text/plain": [
       "17.65"
      ]
     },
     "execution_count": 47,
     "metadata": {},
     "output_type": "execute_result"
    }
   ],
   "source": [
    "covid_final[covid_final['initial_prediction']==1]['length'].mean()"
   ]
  },
  {
   "cell_type": "markdown",
   "metadata": {},
   "source": [
    "Of the 20 strong candidate peptides, 17 (85%) aligned within a small region of the spike protein sequence above. "
   ]
  },
  {
   "cell_type": "markdown",
   "metadata": {},
   "source": [
    "## 'Weaker candidate' epitopes"
   ]
  },
  {
   "cell_type": "code",
   "execution_count": 42,
   "metadata": {
    "scrolled": true
   },
   "outputs": [
    {
     "name": "stdout",
     "output_type": "stream",
     "text": [
      "1130 <<<<<<<<<< amino acid pos. >>>>>>>>>>>>>>> 1181\n",
      "| ............................................... |\n",
      "IGIVNNTVYDPLQPELDSFKEELDKYFKNHTSPDVDLGDISGINASVVNIQ  <- SARS-COV2 spike protein\n",
      "...................KEELDKYFKNHTSP..................\n",
      "............QPELDSFKEELDKYFKN......................\n",
      "........YDPLQPELDSFKEELDKY.........................\n",
      ".............PELDSFKEELDKYFKNHT....................\n",
      ".........DPLQPELDSFKEELDKYFK.......................\n",
      "..........PLQPELDSFKEELDKYFKN......................\n",
      "................DSFKEELDKYFKNHTSPDV................\n",
      ".................SFKEELDKYFKNHTSPDVD...............\n",
      "..........PLQPELDSFKEELDKYFKNH.....................\n",
      "...........LQPELDSFKEELDKYFKNHT....................\n",
      "...................KEELDKYFKNHTSPDVDLGD............\n"
     ]
    }
   ],
   "source": [
    "# Align the latter region of the spike protein sequence with the weaker candidate peptides (average classification values of 0.6 or 0.8)\n",
    "\n",
    "disp_seq=pfizer[1129:1180]\n",
    "print('1130', '<'*10, 'amino acid pos.', '>'*15, '1181')\n",
    "print('|', '.'*47, '|')\n",
    "print(disp_seq,' <- SARS-COV2 spike protein')\n",
    "for seq in covid_final[(covid_final['initial_prediction']>=0.6) & (covid_final['initial_prediction']<=0.8)]['peptide_seq']:\n",
    "    if pfizer.find(seq)>1129:\n",
    "        print('.'*(pfizer.find(seq)-1129)+seq+'.'*(1180-pfizer.find(seq)-len(seq)))"
   ]
  },
  {
   "cell_type": "code",
   "execution_count": 48,
   "metadata": {},
   "outputs": [
    {
     "data": {
      "text/plain": [
       "17.833333333333332"
      ]
     },
     "execution_count": 48,
     "metadata": {},
     "output_type": "execute_result"
    }
   ],
   "source": [
    "covid_final[(covid_final['initial_prediction']>=0.6) & (covid_final['initial_prediction']<=0.8)]['length'].mean()"
   ]
  },
  {
   "cell_type": "markdown",
   "metadata": {},
   "source": [
    "Of the 24 weaker candidate peptides, 11 (46%) aligned within a small region of the spike protein sequence above. The average length of the peptides was similar to the average 'strong candidate' peptides."
   ]
  },
  {
   "cell_type": "markdown",
   "metadata": {},
   "source": [
    "## 'Weakest candidate' epitopes"
   ]
  },
  {
   "cell_type": "code",
   "execution_count": 45,
   "metadata": {
    "scrolled": true
   },
   "outputs": [
    {
     "name": "stdout",
     "output_type": "stream",
     "text": [
      "1130 <<<<<<<<<< amino acid pos. >>>>>>>>>>>>>>> 1181\n",
      "| ............................................... |\n",
      "IGIVNNTVYDPLQPELDSFKEELDKYFKNHTSPDVDLGDISGINASVVNIQ  <- SARS-COV2 spike protein\n",
      ".......................DKYFKNHTSPD.................\n",
      "...................KEELDKYFKNHT....................\n",
      "...................KEELDKYFKNHTS...................\n",
      "....................EELDKYFKNHTSP..................\n",
      ".....................ELDKYFKNHTSPD.................\n",
      "................DSFKEELDKYFKNH.....................\n",
      "....................EELDKYFKNHTSPD.................\n",
      "................DSFKEELDKYFKNHT....................\n",
      "..................FKEELDKYFKNHTSP..................\n",
      "............QPELDSFKEELDKYFK.......................\n",
      ".............PELDSFKEELDKYFKN......................\n",
      "................DSFKEELDKYFKNHTS...................\n",
      ".................SFKEELDKYFKNHTSP..................\n",
      "...................KEELDKYFKNHTSPDV................\n",
      "....................EELDKYFKNHTSPDVD...............\n",
      "........YDPLQPELDSFKEELDK..........................\n",
      ".........DPLQPELDSFKEELDKY.........................\n",
      ".............PELDSFKEELDKYFKNH.....................\n",
      "..............ELDSFKEELDKYFKNHT....................\n",
      "....NNTVYDPLQPELDSFKEE.............................\n",
      "..........PLQPELDSFKEELDKYFK.......................\n",
      "...........LQPELDSFKEELDKYFKN......................\n",
      "..............ELDSFKEELDKYFKNHTS...................\n",
      "...............LDSFKEELDKYFKNHTSP..................\n",
      ".................SFKEELDKYFKNHTSPDV................\n",
      "..................FKEELDKYFKNHTSPDVD...............\n",
      "...................KEELDKYFKNHTSPDVDL..............\n",
      ".......VYDPLQPELDSFKEELDKY.........................\n",
      "........YDPLQPELDSFKEELDKYF........................\n",
      "...........LQPELDSFKEELDKYFKNH.....................\n",
      "...................KEELDKYFKNHTSPDVDLG.............\n",
      "....................EELDKYFKNHTSPDVDLGD............\n",
      "....NNTVYDPLQPELDSFKEELD...........................\n",
      ".....NTVYDPLQPELDSFKEELDK..........................\n",
      "......TVYDPLQPELDSFKEELDKY.........................\n",
      "...............LDSFKEELDKYFKNHTSPDV................\n",
      ".................SFKEELDKYFKNHTSPDVDL..............\n"
     ]
    }
   ],
   "source": [
    "# Align the latter region of the spike protein sequence with the 'weakest candidate' peptides (average classification values of 0.2 or 0.4)\n",
    "\n",
    "disp_seq=pfizer[1129:1180]\n",
    "print('1130', '<'*10, 'amino acid pos.', '>'*15, '1181')\n",
    "print('|', '.'*47, '|')\n",
    "print(disp_seq,' <- SARS-COV2 spike protein')\n",
    "for seq in covid_final[(covid_final['initial_prediction']>=0.2) & (covid_final['initial_prediction']<=0.4)]['peptide_seq']:\n",
    "    if pfizer.find(seq)>1129:\n",
    "        print('.'*(pfizer.find(seq)-1129)+seq+'.'*(1180-pfizer.find(seq)-len(seq)))"
   ]
  },
  {
   "cell_type": "code",
   "execution_count": 50,
   "metadata": {},
   "outputs": [
    {
     "data": {
      "text/plain": [
       "15.808333333333334"
      ]
     },
     "execution_count": 50,
     "metadata": {},
     "output_type": "execute_result"
    }
   ],
   "source": [
    "covid_final[(covid_final['initial_prediction']>=0.2) & (covid_final['initial_prediction']<=0.4)]['length'].mean()"
   ]
  },
  {
   "cell_type": "markdown",
   "metadata": {},
   "source": [
    "Only 37 of the 120 (31%) 'weakest candidate' peptides align within the small region of the covid-19 spike protein. These peptides are also slightly shorter by about 2 amino acids on average compared to the stronger candidates."
   ]
  },
  {
   "cell_type": "markdown",
   "metadata": {},
   "source": [
    "# Concluding Remarks\n",
    "\n",
    "1) Using a series of B-cell and Sars-Cov1-derived peptides, a Logistic Regression model was used to predict the ability of Sars-Cov2 (Covid-19)-derived peptides to induce an antibody reaction. The ability to predict the induction of neutralizing antibodies in-silico may prove useful as well as expedite the vaccine development process.         \n",
    "2) Misclassification of true positives is a clear problem for the model as evidenced by poor recall and F1-Score metrics. Lack of clear differences between features of those peptide that induce neutralizing antibodies versus those that do not may have affected the model's training and subsequently its predictive capability.     \n",
    "3) It is also noteworthy to mention that according to the description of the original data, \"Positive-High,\" \"Positive-Intermediate,\" \"Positive-Low,\" antibody activity labels were all grouped into a single label as \"Positive\" (target=1) that may contribute to the model's poor performance. Such a mixture of peptide data may lead to 'confusion' during prediction.    \n",
    "4) Regardless of this weakness, the model was able to predict 20 SARS-Cov2 epitope candidates that, in my opinion, may exert strong antibody responses in-vivo. Seventeen or 85% of these candidates align within a small region of the spike protein, close to its carboxyl terminus. In contrast, weaker epitope candidates showed that fewer of them (46% and 31%) aligned within the same region of the spike protein, perhaps indicating the strong antigenic properties of this region in a primary, secondary or tertiary protein structure and evoking an antibody response.    "
   ]
  },
  {
   "cell_type": "code",
   "execution_count": null,
   "metadata": {},
   "outputs": [],
   "source": []
  }
 ],
 "metadata": {
  "kernelspec": {
   "display_name": "Python 3",
   "language": "python",
   "name": "python3"
  },
  "language_info": {
   "codemirror_mode": {
    "name": "ipython",
    "version": 3
   },
   "file_extension": ".py",
   "mimetype": "text/x-python",
   "name": "python",
   "nbconvert_exporter": "python",
   "pygments_lexer": "ipython3",
   "version": "3.8.5"
  }
 },
 "nbformat": 4,
 "nbformat_minor": 4
}

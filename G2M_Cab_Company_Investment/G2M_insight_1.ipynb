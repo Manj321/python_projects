{
 "cells": [
  {
   "cell_type": "markdown",
   "metadata": {},
   "source": [
    "# G2M insight for Cab Investment\n",
    "The Client\n",
    "XYZ is a private firm in US. Due to remarkable growth in the Cab Industry in last few years and multiple key players in the market, it is planning for an investment in Cab industry and as per their Go-to-Market(G2M) strategy they want to understand the market before taking final decision.  \n",
    "### Project delivery:\n",
    "You have been provided with multiple data sets that contains information on 2 cab companies. Each file (data set) provided represents different aspects of the customer profile. XYZ is interested in using your actionable insights to help them identify the right company to make their investment.  \n",
    "The outcome of your delivery will be a presentation to XYZ’s Executive team. This presentation will be judged based on the visuals provided, the quality of your analysis and the value of your recommendations and insights. \n",
    "Data Set:  \n",
    "You have been provided 4 individual data sets. Time period of data is from 31/01/2016 to 31/12/2018.\n",
    "Below are the list of datasets which are provided for the analysis:  \n",
    "Cab_Data.csv – this file includes details of transaction for 2 cab companies   \n",
    "Customer_ID.csv – this is a mapping table that contains a unique identifier which links the customer's demographic details   \n",
    "Transaction_ID.csv – this is a mapping table that contains transaction to customer mapping and payment mode   \n",
    "City.csv – this file contains list of US cities, their population and number of cab users   \n",
    "\n",
    "Conduct data analysis and make a recommendation to XYZ as to the best cab company for investment."
   ]
  },
  {
   "cell_type": "code",
   "execution_count": 1,
   "metadata": {},
   "outputs": [],
   "source": [
    "import calendar\n",
    "import numpy as np\n",
    "import pandas as pd\n",
    "import seaborn as sns\n",
    "import scipy.stats as stats\n",
    "from datetime import timedelta, date\n",
    "import matplotlib.pyplot as plt"
   ]
  },
  {
   "cell_type": "code",
   "execution_count": 2,
   "metadata": {},
   "outputs": [],
   "source": [
    "cab_data = pd.read_csv('Cab_Data.csv')\n",
    "customer_id = pd.read_csv('Customer_ID.csv')\n",
    "transaction_id = pd.read_csv('Transaction_ID.csv')\n",
    "city_df = pd.read_csv('City.csv')"
   ]
  },
  {
   "cell_type": "code",
   "execution_count": 3,
   "metadata": {
    "scrolled": true
   },
   "outputs": [
    {
     "data": {
      "text/html": [
       "<div>\n",
       "<style scoped>\n",
       "    .dataframe tbody tr th:only-of-type {\n",
       "        vertical-align: middle;\n",
       "    }\n",
       "\n",
       "    .dataframe tbody tr th {\n",
       "        vertical-align: top;\n",
       "    }\n",
       "\n",
       "    .dataframe thead th {\n",
       "        text-align: right;\n",
       "    }\n",
       "</style>\n",
       "<table border=\"1\" class=\"dataframe\">\n",
       "  <thead>\n",
       "    <tr style=\"text-align: right;\">\n",
       "      <th></th>\n",
       "      <th>Transaction ID</th>\n",
       "      <th>Date of Travel</th>\n",
       "      <th>Company</th>\n",
       "      <th>City</th>\n",
       "      <th>KM Travelled</th>\n",
       "      <th>Price Charged</th>\n",
       "      <th>Cost of Trip</th>\n",
       "    </tr>\n",
       "  </thead>\n",
       "  <tbody>\n",
       "    <tr>\n",
       "      <th>0</th>\n",
       "      <td>10000011</td>\n",
       "      <td>42377</td>\n",
       "      <td>Pink Cab</td>\n",
       "      <td>ATLANTA GA</td>\n",
       "      <td>30.45</td>\n",
       "      <td>370.95</td>\n",
       "      <td>313.635</td>\n",
       "    </tr>\n",
       "    <tr>\n",
       "      <th>1</th>\n",
       "      <td>10000012</td>\n",
       "      <td>42375</td>\n",
       "      <td>Pink Cab</td>\n",
       "      <td>ATLANTA GA</td>\n",
       "      <td>28.62</td>\n",
       "      <td>358.52</td>\n",
       "      <td>334.854</td>\n",
       "    </tr>\n",
       "    <tr>\n",
       "      <th>2</th>\n",
       "      <td>10000013</td>\n",
       "      <td>42371</td>\n",
       "      <td>Pink Cab</td>\n",
       "      <td>ATLANTA GA</td>\n",
       "      <td>9.04</td>\n",
       "      <td>125.20</td>\n",
       "      <td>97.632</td>\n",
       "    </tr>\n",
       "    <tr>\n",
       "      <th>3</th>\n",
       "      <td>10000014</td>\n",
       "      <td>42376</td>\n",
       "      <td>Pink Cab</td>\n",
       "      <td>ATLANTA GA</td>\n",
       "      <td>33.17</td>\n",
       "      <td>377.40</td>\n",
       "      <td>351.602</td>\n",
       "    </tr>\n",
       "    <tr>\n",
       "      <th>4</th>\n",
       "      <td>10000015</td>\n",
       "      <td>42372</td>\n",
       "      <td>Pink Cab</td>\n",
       "      <td>ATLANTA GA</td>\n",
       "      <td>8.73</td>\n",
       "      <td>114.62</td>\n",
       "      <td>97.776</td>\n",
       "    </tr>\n",
       "  </tbody>\n",
       "</table>\n",
       "</div>"
      ],
      "text/plain": [
       "   Transaction ID  Date of Travel   Company        City  KM Travelled  \\\n",
       "0        10000011           42377  Pink Cab  ATLANTA GA         30.45   \n",
       "1        10000012           42375  Pink Cab  ATLANTA GA         28.62   \n",
       "2        10000013           42371  Pink Cab  ATLANTA GA          9.04   \n",
       "3        10000014           42376  Pink Cab  ATLANTA GA         33.17   \n",
       "4        10000015           42372  Pink Cab  ATLANTA GA          8.73   \n",
       "\n",
       "   Price Charged  Cost of Trip  \n",
       "0         370.95       313.635  \n",
       "1         358.52       334.854  \n",
       "2         125.20        97.632  \n",
       "3         377.40       351.602  \n",
       "4         114.62        97.776  "
      ]
     },
     "execution_count": 3,
     "metadata": {},
     "output_type": "execute_result"
    }
   ],
   "source": [
    "cab_data.head()"
   ]
  },
  {
   "cell_type": "code",
   "execution_count": 4,
   "metadata": {},
   "outputs": [],
   "source": [
    "cab_data = cab_data.drop_duplicates()"
   ]
  },
  {
   "cell_type": "code",
   "execution_count": 5,
   "metadata": {},
   "outputs": [
    {
     "data": {
      "text/plain": [
       "(359392, 7)"
      ]
     },
     "execution_count": 5,
     "metadata": {},
     "output_type": "execute_result"
    }
   ],
   "source": [
    "cab_data.shape"
   ]
  },
  {
   "cell_type": "code",
   "execution_count": 6,
   "metadata": {
    "scrolled": false
   },
   "outputs": [
    {
     "data": {
      "text/html": [
       "<div>\n",
       "<style scoped>\n",
       "    .dataframe tbody tr th:only-of-type {\n",
       "        vertical-align: middle;\n",
       "    }\n",
       "\n",
       "    .dataframe tbody tr th {\n",
       "        vertical-align: top;\n",
       "    }\n",
       "\n",
       "    .dataframe thead th {\n",
       "        text-align: right;\n",
       "    }\n",
       "</style>\n",
       "<table border=\"1\" class=\"dataframe\">\n",
       "  <thead>\n",
       "    <tr style=\"text-align: right;\">\n",
       "      <th></th>\n",
       "      <th>Customer ID</th>\n",
       "      <th>Gender</th>\n",
       "      <th>Age</th>\n",
       "      <th>Income (USD/Month)</th>\n",
       "    </tr>\n",
       "  </thead>\n",
       "  <tbody>\n",
       "    <tr>\n",
       "      <th>0</th>\n",
       "      <td>29290</td>\n",
       "      <td>Male</td>\n",
       "      <td>28</td>\n",
       "      <td>10813</td>\n",
       "    </tr>\n",
       "    <tr>\n",
       "      <th>1</th>\n",
       "      <td>27703</td>\n",
       "      <td>Male</td>\n",
       "      <td>27</td>\n",
       "      <td>9237</td>\n",
       "    </tr>\n",
       "    <tr>\n",
       "      <th>2</th>\n",
       "      <td>28712</td>\n",
       "      <td>Male</td>\n",
       "      <td>53</td>\n",
       "      <td>11242</td>\n",
       "    </tr>\n",
       "    <tr>\n",
       "      <th>3</th>\n",
       "      <td>28020</td>\n",
       "      <td>Male</td>\n",
       "      <td>23</td>\n",
       "      <td>23327</td>\n",
       "    </tr>\n",
       "    <tr>\n",
       "      <th>4</th>\n",
       "      <td>27182</td>\n",
       "      <td>Male</td>\n",
       "      <td>33</td>\n",
       "      <td>8536</td>\n",
       "    </tr>\n",
       "  </tbody>\n",
       "</table>\n",
       "</div>"
      ],
      "text/plain": [
       "   Customer ID Gender  Age  Income (USD/Month)\n",
       "0        29290   Male   28               10813\n",
       "1        27703   Male   27                9237\n",
       "2        28712   Male   53               11242\n",
       "3        28020   Male   23               23327\n",
       "4        27182   Male   33                8536"
      ]
     },
     "execution_count": 6,
     "metadata": {},
     "output_type": "execute_result"
    }
   ],
   "source": [
    "customer_id.head()"
   ]
  },
  {
   "cell_type": "code",
   "execution_count": 7,
   "metadata": {},
   "outputs": [],
   "source": [
    "customer_id = customer_id.drop_duplicates()"
   ]
  },
  {
   "cell_type": "code",
   "execution_count": 8,
   "metadata": {},
   "outputs": [
    {
     "data": {
      "text/plain": [
       "(49171, 4)"
      ]
     },
     "execution_count": 8,
     "metadata": {},
     "output_type": "execute_result"
    }
   ],
   "source": [
    "customer_id.shape"
   ]
  },
  {
   "cell_type": "code",
   "execution_count": 9,
   "metadata": {
    "scrolled": false
   },
   "outputs": [
    {
     "data": {
      "text/html": [
       "<div>\n",
       "<style scoped>\n",
       "    .dataframe tbody tr th:only-of-type {\n",
       "        vertical-align: middle;\n",
       "    }\n",
       "\n",
       "    .dataframe tbody tr th {\n",
       "        vertical-align: top;\n",
       "    }\n",
       "\n",
       "    .dataframe thead th {\n",
       "        text-align: right;\n",
       "    }\n",
       "</style>\n",
       "<table border=\"1\" class=\"dataframe\">\n",
       "  <thead>\n",
       "    <tr style=\"text-align: right;\">\n",
       "      <th></th>\n",
       "      <th>Transaction ID</th>\n",
       "      <th>Customer ID</th>\n",
       "      <th>Payment_Mode</th>\n",
       "    </tr>\n",
       "  </thead>\n",
       "  <tbody>\n",
       "    <tr>\n",
       "      <th>0</th>\n",
       "      <td>10000011</td>\n",
       "      <td>29290</td>\n",
       "      <td>Card</td>\n",
       "    </tr>\n",
       "    <tr>\n",
       "      <th>1</th>\n",
       "      <td>10000012</td>\n",
       "      <td>27703</td>\n",
       "      <td>Card</td>\n",
       "    </tr>\n",
       "    <tr>\n",
       "      <th>2</th>\n",
       "      <td>10000013</td>\n",
       "      <td>28712</td>\n",
       "      <td>Cash</td>\n",
       "    </tr>\n",
       "    <tr>\n",
       "      <th>3</th>\n",
       "      <td>10000014</td>\n",
       "      <td>28020</td>\n",
       "      <td>Cash</td>\n",
       "    </tr>\n",
       "    <tr>\n",
       "      <th>4</th>\n",
       "      <td>10000015</td>\n",
       "      <td>27182</td>\n",
       "      <td>Card</td>\n",
       "    </tr>\n",
       "  </tbody>\n",
       "</table>\n",
       "</div>"
      ],
      "text/plain": [
       "   Transaction ID  Customer ID Payment_Mode\n",
       "0        10000011        29290         Card\n",
       "1        10000012        27703         Card\n",
       "2        10000013        28712         Cash\n",
       "3        10000014        28020         Cash\n",
       "4        10000015        27182         Card"
      ]
     },
     "execution_count": 9,
     "metadata": {},
     "output_type": "execute_result"
    }
   ],
   "source": [
    "transaction_id.head()"
   ]
  },
  {
   "cell_type": "code",
   "execution_count": 10,
   "metadata": {},
   "outputs": [],
   "source": [
    "transaction_id = transaction_id.drop_duplicates()"
   ]
  },
  {
   "cell_type": "code",
   "execution_count": 11,
   "metadata": {},
   "outputs": [
    {
     "data": {
      "text/plain": [
       "(440098, 3)"
      ]
     },
     "execution_count": 11,
     "metadata": {},
     "output_type": "execute_result"
    }
   ],
   "source": [
    "transaction_id.shape"
   ]
  },
  {
   "cell_type": "code",
   "execution_count": 12,
   "metadata": {
    "scrolled": true
   },
   "outputs": [
    {
     "data": {
      "text/html": [
       "<div>\n",
       "<style scoped>\n",
       "    .dataframe tbody tr th:only-of-type {\n",
       "        vertical-align: middle;\n",
       "    }\n",
       "\n",
       "    .dataframe tbody tr th {\n",
       "        vertical-align: top;\n",
       "    }\n",
       "\n",
       "    .dataframe thead th {\n",
       "        text-align: right;\n",
       "    }\n",
       "</style>\n",
       "<table border=\"1\" class=\"dataframe\">\n",
       "  <thead>\n",
       "    <tr style=\"text-align: right;\">\n",
       "      <th></th>\n",
       "      <th>City</th>\n",
       "      <th>Population</th>\n",
       "      <th>Users</th>\n",
       "    </tr>\n",
       "  </thead>\n",
       "  <tbody>\n",
       "    <tr>\n",
       "      <th>0</th>\n",
       "      <td>NEW YORK NY</td>\n",
       "      <td>8,405,837</td>\n",
       "      <td>302,149</td>\n",
       "    </tr>\n",
       "    <tr>\n",
       "      <th>1</th>\n",
       "      <td>CHICAGO IL</td>\n",
       "      <td>1,955,130</td>\n",
       "      <td>164,468</td>\n",
       "    </tr>\n",
       "    <tr>\n",
       "      <th>2</th>\n",
       "      <td>LOS ANGELES CA</td>\n",
       "      <td>1,595,037</td>\n",
       "      <td>144,132</td>\n",
       "    </tr>\n",
       "    <tr>\n",
       "      <th>3</th>\n",
       "      <td>MIAMI FL</td>\n",
       "      <td>1,339,155</td>\n",
       "      <td>17,675</td>\n",
       "    </tr>\n",
       "    <tr>\n",
       "      <th>4</th>\n",
       "      <td>SILICON VALLEY</td>\n",
       "      <td>1,177,609</td>\n",
       "      <td>27,247</td>\n",
       "    </tr>\n",
       "  </tbody>\n",
       "</table>\n",
       "</div>"
      ],
      "text/plain": [
       "             City   Population      Users\n",
       "0     NEW YORK NY   8,405,837    302,149 \n",
       "1      CHICAGO IL   1,955,130    164,468 \n",
       "2  LOS ANGELES CA   1,595,037    144,132 \n",
       "3        MIAMI FL   1,339,155     17,675 \n",
       "4  SILICON VALLEY   1,177,609     27,247 "
      ]
     },
     "execution_count": 12,
     "metadata": {},
     "output_type": "execute_result"
    }
   ],
   "source": [
    "city_df.head()"
   ]
  },
  {
   "cell_type": "code",
   "execution_count": 15,
   "metadata": {},
   "outputs": [],
   "source": [
    "city_df = city_df.drop_duplicates()"
   ]
  },
  {
   "cell_type": "code",
   "execution_count": 20,
   "metadata": {},
   "outputs": [
    {
     "data": {
      "text/plain": [
       "(20, 3)"
      ]
     },
     "execution_count": 20,
     "metadata": {},
     "output_type": "execute_result"
    }
   ],
   "source": [
    "city_df.shape"
   ]
  },
  {
   "cell_type": "code",
   "execution_count": 21,
   "metadata": {},
   "outputs": [],
   "source": [
    "customer_transaction_ids = customer_id.merge(transaction_id, how='inner', on='Customer ID')"
   ]
  },
  {
   "cell_type": "code",
   "execution_count": 22,
   "metadata": {},
   "outputs": [
    {
     "data": {
      "text/html": [
       "<div>\n",
       "<style scoped>\n",
       "    .dataframe tbody tr th:only-of-type {\n",
       "        vertical-align: middle;\n",
       "    }\n",
       "\n",
       "    .dataframe tbody tr th {\n",
       "        vertical-align: top;\n",
       "    }\n",
       "\n",
       "    .dataframe thead th {\n",
       "        text-align: right;\n",
       "    }\n",
       "</style>\n",
       "<table border=\"1\" class=\"dataframe\">\n",
       "  <thead>\n",
       "    <tr style=\"text-align: right;\">\n",
       "      <th></th>\n",
       "      <th>Customer ID</th>\n",
       "      <th>Gender</th>\n",
       "      <th>Age</th>\n",
       "      <th>Income (USD/Month)</th>\n",
       "      <th>Transaction ID</th>\n",
       "      <th>Payment_Mode</th>\n",
       "    </tr>\n",
       "  </thead>\n",
       "  <tbody>\n",
       "    <tr>\n",
       "      <th>0</th>\n",
       "      <td>29290</td>\n",
       "      <td>Male</td>\n",
       "      <td>28</td>\n",
       "      <td>10813</td>\n",
       "      <td>10000011</td>\n",
       "      <td>Card</td>\n",
       "    </tr>\n",
       "    <tr>\n",
       "      <th>1</th>\n",
       "      <td>29290</td>\n",
       "      <td>Male</td>\n",
       "      <td>28</td>\n",
       "      <td>10813</td>\n",
       "      <td>10351127</td>\n",
       "      <td>Cash</td>\n",
       "    </tr>\n",
       "    <tr>\n",
       "      <th>2</th>\n",
       "      <td>29290</td>\n",
       "      <td>Male</td>\n",
       "      <td>28</td>\n",
       "      <td>10813</td>\n",
       "      <td>10412921</td>\n",
       "      <td>Card</td>\n",
       "    </tr>\n",
       "    <tr>\n",
       "      <th>3</th>\n",
       "      <td>27703</td>\n",
       "      <td>Male</td>\n",
       "      <td>27</td>\n",
       "      <td>9237</td>\n",
       "      <td>10000012</td>\n",
       "      <td>Card</td>\n",
       "    </tr>\n",
       "    <tr>\n",
       "      <th>4</th>\n",
       "      <td>27703</td>\n",
       "      <td>Male</td>\n",
       "      <td>27</td>\n",
       "      <td>9237</td>\n",
       "      <td>10320494</td>\n",
       "      <td>Card</td>\n",
       "    </tr>\n",
       "  </tbody>\n",
       "</table>\n",
       "</div>"
      ],
      "text/plain": [
       "   Customer ID Gender  Age  Income (USD/Month)  Transaction ID Payment_Mode\n",
       "0        29290   Male   28               10813        10000011         Card\n",
       "1        29290   Male   28               10813        10351127         Cash\n",
       "2        29290   Male   28               10813        10412921         Card\n",
       "3        27703   Male   27                9237        10000012         Card\n",
       "4        27703   Male   27                9237        10320494         Card"
      ]
     },
     "execution_count": 22,
     "metadata": {},
     "output_type": "execute_result"
    }
   ],
   "source": [
    "customer_transaction_ids.head()"
   ]
  },
  {
   "cell_type": "code",
   "execution_count": 23,
   "metadata": {
    "scrolled": true
   },
   "outputs": [
    {
     "data": {
      "text/plain": [
       "(440098, 6)"
      ]
     },
     "execution_count": 23,
     "metadata": {},
     "output_type": "execute_result"
    }
   ],
   "source": [
    "customer_transaction_ids.shape"
   ]
  },
  {
   "cell_type": "code",
   "execution_count": 24,
   "metadata": {},
   "outputs": [
    {
     "data": {
      "text/html": [
       "<div>\n",
       "<style scoped>\n",
       "    .dataframe tbody tr th:only-of-type {\n",
       "        vertical-align: middle;\n",
       "    }\n",
       "\n",
       "    .dataframe tbody tr th {\n",
       "        vertical-align: top;\n",
       "    }\n",
       "\n",
       "    .dataframe thead th {\n",
       "        text-align: right;\n",
       "    }\n",
       "</style>\n",
       "<table border=\"1\" class=\"dataframe\">\n",
       "  <thead>\n",
       "    <tr style=\"text-align: right;\">\n",
       "      <th></th>\n",
       "      <th>Customer ID</th>\n",
       "      <th>Age</th>\n",
       "      <th>Income (USD/Month)</th>\n",
       "      <th>Transaction ID</th>\n",
       "    </tr>\n",
       "  </thead>\n",
       "  <tbody>\n",
       "    <tr>\n",
       "      <th>count</th>\n",
       "      <td>440098.000000</td>\n",
       "      <td>440098.000000</td>\n",
       "      <td>440098.000000</td>\n",
       "      <td>4.400980e+05</td>\n",
       "    </tr>\n",
       "    <tr>\n",
       "      <th>mean</th>\n",
       "      <td>23619.513120</td>\n",
       "      <td>35.360197</td>\n",
       "      <td>15092.181989</td>\n",
       "      <td>1.022006e+07</td>\n",
       "    </tr>\n",
       "    <tr>\n",
       "      <th>std</th>\n",
       "      <td>21195.549816</td>\n",
       "      <td>12.582668</td>\n",
       "      <td>7987.309505</td>\n",
       "      <td>1.270455e+05</td>\n",
       "    </tr>\n",
       "    <tr>\n",
       "      <th>min</th>\n",
       "      <td>1.000000</td>\n",
       "      <td>18.000000</td>\n",
       "      <td>2000.000000</td>\n",
       "      <td>1.000001e+07</td>\n",
       "    </tr>\n",
       "    <tr>\n",
       "      <th>25%</th>\n",
       "      <td>3530.000000</td>\n",
       "      <td>25.000000</td>\n",
       "      <td>8391.000000</td>\n",
       "      <td>1.011004e+07</td>\n",
       "    </tr>\n",
       "    <tr>\n",
       "      <th>50%</th>\n",
       "      <td>15168.000000</td>\n",
       "      <td>33.000000</td>\n",
       "      <td>14767.000000</td>\n",
       "      <td>1.022006e+07</td>\n",
       "    </tr>\n",
       "    <tr>\n",
       "      <th>75%</th>\n",
       "      <td>43884.000000</td>\n",
       "      <td>42.000000</td>\n",
       "      <td>21084.000000</td>\n",
       "      <td>1.033008e+07</td>\n",
       "    </tr>\n",
       "    <tr>\n",
       "      <th>max</th>\n",
       "      <td>60000.000000</td>\n",
       "      <td>65.000000</td>\n",
       "      <td>35000.000000</td>\n",
       "      <td>1.044011e+07</td>\n",
       "    </tr>\n",
       "  </tbody>\n",
       "</table>\n",
       "</div>"
      ],
      "text/plain": [
       "         Customer ID            Age  Income (USD/Month)  Transaction ID\n",
       "count  440098.000000  440098.000000       440098.000000    4.400980e+05\n",
       "mean    23619.513120      35.360197        15092.181989    1.022006e+07\n",
       "std     21195.549816      12.582668         7987.309505    1.270455e+05\n",
       "min         1.000000      18.000000         2000.000000    1.000001e+07\n",
       "25%      3530.000000      25.000000         8391.000000    1.011004e+07\n",
       "50%     15168.000000      33.000000        14767.000000    1.022006e+07\n",
       "75%     43884.000000      42.000000        21084.000000    1.033008e+07\n",
       "max     60000.000000      65.000000        35000.000000    1.044011e+07"
      ]
     },
     "execution_count": 24,
     "metadata": {},
     "output_type": "execute_result"
    }
   ],
   "source": [
    "customer_transaction_ids.describe()"
   ]
  },
  {
   "cell_type": "code",
   "execution_count": 25,
   "metadata": {},
   "outputs": [
    {
     "data": {
      "text/plain": [
       "Male      256611\n",
       "Female    183487\n",
       "Name: Gender, dtype: int64"
      ]
     },
     "execution_count": 25,
     "metadata": {},
     "output_type": "execute_result"
    }
   ],
   "source": [
    "customer_transaction_ids['Gender'].value_counts()"
   ]
  },
  {
   "cell_type": "code",
   "execution_count": 26,
   "metadata": {},
   "outputs": [
    {
     "data": {
      "text/plain": [
       "<AxesSubplot:xlabel='Gender', ylabel='Income (USD/Month)'>"
      ]
     },
     "execution_count": 26,
     "metadata": {},
     "output_type": "execute_result"
    },
    {
     "data": {
      "image/png": "[encoded data removed]",
      "text/plain": [
       "<Figure size 432x288 with 1 Axes>"
      ]
     },
     "metadata": {
      "needs_background": "light"
     },
     "output_type": "display_data"
    }
   ],
   "source": [
    "sns.barplot(y='Income (USD/Month)', x='Gender', data=customer_transaction_ids)"
   ]
  },
  {
   "cell_type": "markdown",
   "metadata": {},
   "source": [
    "### Convert 5-digit date code to datetime "
   ]
  },
  {
   "cell_type": "code",
   "execution_count": 27,
   "metadata": {},
   "outputs": [
    {
     "data": {
      "text/html": [
       "<div>\n",
       "<style scoped>\n",
       "    .dataframe tbody tr th:only-of-type {\n",
       "        vertical-align: middle;\n",
       "    }\n",
       "\n",
       "    .dataframe tbody tr th {\n",
       "        vertical-align: top;\n",
       "    }\n",
       "\n",
       "    .dataframe thead th {\n",
       "        text-align: right;\n",
       "    }\n",
       "</style>\n",
       "<table border=\"1\" class=\"dataframe\">\n",
       "  <thead>\n",
       "    <tr style=\"text-align: right;\">\n",
       "      <th></th>\n",
       "      <th>Transaction ID</th>\n",
       "      <th>Company</th>\n",
       "      <th>City</th>\n",
       "      <th>KM Travelled</th>\n",
       "      <th>Price Charged</th>\n",
       "      <th>Cost of Trip</th>\n",
       "      <th>Date</th>\n",
       "    </tr>\n",
       "  </thead>\n",
       "  <tbody>\n",
       "    <tr>\n",
       "      <th>0</th>\n",
       "      <td>10000011</td>\n",
       "      <td>Pink Cab</td>\n",
       "      <td>ATLANTA GA</td>\n",
       "      <td>30.45</td>\n",
       "      <td>370.95</td>\n",
       "      <td>313.635</td>\n",
       "      <td>2016-01-10</td>\n",
       "    </tr>\n",
       "    <tr>\n",
       "      <th>1</th>\n",
       "      <td>10000012</td>\n",
       "      <td>Pink Cab</td>\n",
       "      <td>ATLANTA GA</td>\n",
       "      <td>28.62</td>\n",
       "      <td>358.52</td>\n",
       "      <td>334.854</td>\n",
       "      <td>2016-01-08</td>\n",
       "    </tr>\n",
       "    <tr>\n",
       "      <th>2</th>\n",
       "      <td>10000013</td>\n",
       "      <td>Pink Cab</td>\n",
       "      <td>ATLANTA GA</td>\n",
       "      <td>9.04</td>\n",
       "      <td>125.20</td>\n",
       "      <td>97.632</td>\n",
       "      <td>2016-01-04</td>\n",
       "    </tr>\n",
       "    <tr>\n",
       "      <th>3</th>\n",
       "      <td>10000014</td>\n",
       "      <td>Pink Cab</td>\n",
       "      <td>ATLANTA GA</td>\n",
       "      <td>33.17</td>\n",
       "      <td>377.40</td>\n",
       "      <td>351.602</td>\n",
       "      <td>2016-01-09</td>\n",
       "    </tr>\n",
       "    <tr>\n",
       "      <th>4</th>\n",
       "      <td>10000015</td>\n",
       "      <td>Pink Cab</td>\n",
       "      <td>ATLANTA GA</td>\n",
       "      <td>8.73</td>\n",
       "      <td>114.62</td>\n",
       "      <td>97.776</td>\n",
       "      <td>2016-01-05</td>\n",
       "    </tr>\n",
       "  </tbody>\n",
       "</table>\n",
       "</div>"
      ],
      "text/plain": [
       "   Transaction ID   Company        City  KM Travelled  Price Charged  \\\n",
       "0        10000011  Pink Cab  ATLANTA GA         30.45         370.95   \n",
       "1        10000012  Pink Cab  ATLANTA GA         28.62         358.52   \n",
       "2        10000013  Pink Cab  ATLANTA GA          9.04         125.20   \n",
       "3        10000014  Pink Cab  ATLANTA GA         33.17         377.40   \n",
       "4        10000015  Pink Cab  ATLANTA GA          8.73         114.62   \n",
       "\n",
       "   Cost of Trip        Date  \n",
       "0       313.635  2016-01-10  \n",
       "1       334.854  2016-01-08  \n",
       "2        97.632  2016-01-04  \n",
       "3       351.602  2016-01-09  \n",
       "4        97.776  2016-01-05  "
      ]
     },
     "execution_count": 27,
     "metadata": {},
     "output_type": "execute_result"
    }
   ],
   "source": [
    "cab_data_2 = cab_data.copy()\n",
    "cab_data_2['Date'] = cab_data_2['Date of Travel'].apply(lambda x: date(1900,1,1)+timedelta(int(x)))\n",
    "cab_data_2.drop(['Date of Travel'], axis=1, inplace=True)\n",
    "cab_data_2.head()"
   ]
  },
  {
   "cell_type": "code",
   "execution_count": 28,
   "metadata": {},
   "outputs": [],
   "source": [
    "#convert 'Date' column values to datatime format\n",
    "cab_data_2['Date'] = pd.to_datetime(cab_data_2['Date'])\n",
    "#cab_data_2[['KM Travelled', 'Price Charged', 'Cost of Trip']] = cab_data_2[['KM Travelled', 'Price Charged', 'Cost of Trip']].apply(pd.to_numeric,errors='ignore', axis=1)"
   ]
  },
  {
   "cell_type": "code",
   "execution_count": 29,
   "metadata": {},
   "outputs": [
    {
     "name": "stdout",
     "output_type": "stream",
     "text": [
      "<class 'pandas.core.frame.DataFrame'>\n",
      "Int64Index: 359392 entries, 0 to 359391\n",
      "Data columns (total 7 columns):\n",
      " #   Column          Non-Null Count   Dtype         \n",
      "---  ------          --------------   -----         \n",
      " 0   Transaction ID  359392 non-null  int64         \n",
      " 1   Company         359392 non-null  object        \n",
      " 2   City            359392 non-null  object        \n",
      " 3   KM Travelled    359392 non-null  float64       \n",
      " 4   Price Charged   359392 non-null  float64       \n",
      " 5   Cost of Trip    359392 non-null  float64       \n",
      " 6   Date            359392 non-null  datetime64[ns]\n",
      "dtypes: datetime64[ns](1), float64(3), int64(1), object(2)\n",
      "memory usage: 21.9+ MB\n"
     ]
    }
   ],
   "source": [
    "cab_data_2.info()"
   ]
  },
  {
   "cell_type": "code",
   "execution_count": 30,
   "metadata": {},
   "outputs": [],
   "source": [
    "#profit generated per trip\n",
    "cab_data_2['Profit'] = round(cab_data_2['Price Charged'] - cab_data_2['Cost of Trip'] , 2)"
   ]
  },
  {
   "cell_type": "code",
   "execution_count": 31,
   "metadata": {},
   "outputs": [],
   "source": [
    "#profit generated per km\n",
    "cab_data_2['Profit per km'] = round(cab_data_2['Profit']/ cab_data_2['KM Travelled'] , 2)"
   ]
  },
  {
   "cell_type": "code",
   "execution_count": 32,
   "metadata": {},
   "outputs": [],
   "source": [
    "# year, month number and day of week are extracted to separate columns\n",
    "cab_data_2['Year'] = cab_data_2['Date'].apply(lambda x: x.year)\n",
    "cab_data_2['Month'] = cab_data_2['Date'].apply(lambda x: x.month)\n",
    "cab_data_2['Day_of_month'] = cab_data_2['Date'].apply(lambda x: x.day)\n",
    "cab_data_2['Day_of_week']=cab_data_2['Date'].apply(lambda x: calendar.day_name[x.weekday()])"
   ]
  },
  {
   "cell_type": "code",
   "execution_count": 33,
   "metadata": {
    "scrolled": false
   },
   "outputs": [
    {
     "data": {
      "text/html": [
       "<div>\n",
       "<style scoped>\n",
       "    .dataframe tbody tr th:only-of-type {\n",
       "        vertical-align: middle;\n",
       "    }\n",
       "\n",
       "    .dataframe tbody tr th {\n",
       "        vertical-align: top;\n",
       "    }\n",
       "\n",
       "    .dataframe thead th {\n",
       "        text-align: right;\n",
       "    }\n",
       "</style>\n",
       "<table border=\"1\" class=\"dataframe\">\n",
       "  <thead>\n",
       "    <tr style=\"text-align: right;\">\n",
       "      <th></th>\n",
       "      <th>Transaction ID</th>\n",
       "      <th>Company</th>\n",
       "      <th>City</th>\n",
       "      <th>KM Travelled</th>\n",
       "      <th>Price Charged</th>\n",
       "      <th>Cost of Trip</th>\n",
       "      <th>Date</th>\n",
       "      <th>Profit</th>\n",
       "      <th>Profit per km</th>\n",
       "      <th>Year</th>\n",
       "      <th>Month</th>\n",
       "      <th>Day_of_month</th>\n",
       "      <th>Day_of_week</th>\n",
       "    </tr>\n",
       "  </thead>\n",
       "  <tbody>\n",
       "    <tr>\n",
       "      <th>0</th>\n",
       "      <td>10000011</td>\n",
       "      <td>Pink Cab</td>\n",
       "      <td>ATLANTA GA</td>\n",
       "      <td>30.45</td>\n",
       "      <td>370.95</td>\n",
       "      <td>313.635</td>\n",
       "      <td>2016-01-10</td>\n",
       "      <td>57.32</td>\n",
       "      <td>1.88</td>\n",
       "      <td>2016</td>\n",
       "      <td>1</td>\n",
       "      <td>10</td>\n",
       "      <td>Sunday</td>\n",
       "    </tr>\n",
       "    <tr>\n",
       "      <th>1</th>\n",
       "      <td>10000012</td>\n",
       "      <td>Pink Cab</td>\n",
       "      <td>ATLANTA GA</td>\n",
       "      <td>28.62</td>\n",
       "      <td>358.52</td>\n",
       "      <td>334.854</td>\n",
       "      <td>2016-01-08</td>\n",
       "      <td>23.67</td>\n",
       "      <td>0.83</td>\n",
       "      <td>2016</td>\n",
       "      <td>1</td>\n",
       "      <td>8</td>\n",
       "      <td>Friday</td>\n",
       "    </tr>\n",
       "    <tr>\n",
       "      <th>2</th>\n",
       "      <td>10000013</td>\n",
       "      <td>Pink Cab</td>\n",
       "      <td>ATLANTA GA</td>\n",
       "      <td>9.04</td>\n",
       "      <td>125.20</td>\n",
       "      <td>97.632</td>\n",
       "      <td>2016-01-04</td>\n",
       "      <td>27.57</td>\n",
       "      <td>3.05</td>\n",
       "      <td>2016</td>\n",
       "      <td>1</td>\n",
       "      <td>4</td>\n",
       "      <td>Monday</td>\n",
       "    </tr>\n",
       "    <tr>\n",
       "      <th>3</th>\n",
       "      <td>10000014</td>\n",
       "      <td>Pink Cab</td>\n",
       "      <td>ATLANTA GA</td>\n",
       "      <td>33.17</td>\n",
       "      <td>377.40</td>\n",
       "      <td>351.602</td>\n",
       "      <td>2016-01-09</td>\n",
       "      <td>25.80</td>\n",
       "      <td>0.78</td>\n",
       "      <td>2016</td>\n",
       "      <td>1</td>\n",
       "      <td>9</td>\n",
       "      <td>Saturday</td>\n",
       "    </tr>\n",
       "    <tr>\n",
       "      <th>4</th>\n",
       "      <td>10000015</td>\n",
       "      <td>Pink Cab</td>\n",
       "      <td>ATLANTA GA</td>\n",
       "      <td>8.73</td>\n",
       "      <td>114.62</td>\n",
       "      <td>97.776</td>\n",
       "      <td>2016-01-05</td>\n",
       "      <td>16.84</td>\n",
       "      <td>1.93</td>\n",
       "      <td>2016</td>\n",
       "      <td>1</td>\n",
       "      <td>5</td>\n",
       "      <td>Tuesday</td>\n",
       "    </tr>\n",
       "  </tbody>\n",
       "</table>\n",
       "</div>"
      ],
      "text/plain": [
       "   Transaction ID   Company        City  KM Travelled  Price Charged  \\\n",
       "0        10000011  Pink Cab  ATLANTA GA         30.45         370.95   \n",
       "1        10000012  Pink Cab  ATLANTA GA         28.62         358.52   \n",
       "2        10000013  Pink Cab  ATLANTA GA          9.04         125.20   \n",
       "3        10000014  Pink Cab  ATLANTA GA         33.17         377.40   \n",
       "4        10000015  Pink Cab  ATLANTA GA          8.73         114.62   \n",
       "\n",
       "   Cost of Trip       Date  Profit  Profit per km  Year  Month  Day_of_month  \\\n",
       "0       313.635 2016-01-10   57.32           1.88  2016      1            10   \n",
       "1       334.854 2016-01-08   23.67           0.83  2016      1             8   \n",
       "2        97.632 2016-01-04   27.57           3.05  2016      1             4   \n",
       "3       351.602 2016-01-09   25.80           0.78  2016      1             9   \n",
       "4        97.776 2016-01-05   16.84           1.93  2016      1             5   \n",
       "\n",
       "  Day_of_week  \n",
       "0      Sunday  \n",
       "1      Friday  \n",
       "2      Monday  \n",
       "3    Saturday  \n",
       "4     Tuesday  "
      ]
     },
     "execution_count": 33,
     "metadata": {},
     "output_type": "execute_result"
    }
   ],
   "source": [
    "cab_data_2.head()"
   ]
  },
  {
   "cell_type": "code",
   "execution_count": 34,
   "metadata": {},
   "outputs": [
    {
     "data": {
      "text/plain": [
       "{'Pink Cab': Year\n",
       " 2016    3.010930\n",
       " 2017    2.961971\n",
       " 2018    2.367773\n",
       " 2019    3.107193\n",
       " Name: Profit per km, dtype: float64,\n",
       " 'Yellow Cab': Year\n",
       " 2016    7.490655\n",
       " 2017    7.496318\n",
       " 2018    6.379737\n",
       " 2019    4.536040\n",
       " Name: Profit per km, dtype: float64}"
      ]
     },
     "execution_count": 34,
     "metadata": {},
     "output_type": "execute_result"
    }
   ],
   "source": [
    "#calculate mean profit per km for each cab company and each year (between 2016 to 2019)\n",
    "#first prepare a dictionary with the profits\n",
    "annual_profit_per_km = {}\n",
    "\n",
    "for company in ['Pink Cab', 'Yellow Cab']:\n",
    "    an_profits = cab_data_2[cab_data_2['Company']== company].groupby('Year')['Profit per km'].mean()\n",
    "    annual_profit_per_km[company] = an_profits\n",
    "annual_profit_per_km"
   ]
  },
  {
   "cell_type": "code",
   "execution_count": 35,
   "metadata": {
    "scrolled": false
   },
   "outputs": [
    {
     "data": {
      "text/html": [
       "<div>\n",
       "<style scoped>\n",
       "    .dataframe tbody tr th:only-of-type {\n",
       "        vertical-align: middle;\n",
       "    }\n",
       "\n",
       "    .dataframe tbody tr th {\n",
       "        vertical-align: top;\n",
       "    }\n",
       "\n",
       "    .dataframe thead th {\n",
       "        text-align: right;\n",
       "    }\n",
       "</style>\n",
       "<table border=\"1\" class=\"dataframe\">\n",
       "  <thead>\n",
       "    <tr style=\"text-align: right;\">\n",
       "      <th></th>\n",
       "      <th>Year</th>\n",
       "      <th>Company</th>\n",
       "      <th>Profit per km</th>\n",
       "    </tr>\n",
       "  </thead>\n",
       "  <tbody>\n",
       "    <tr>\n",
       "      <th>0</th>\n",
       "      <td>2016</td>\n",
       "      <td>Pink Cab</td>\n",
       "      <td>3.010930</td>\n",
       "    </tr>\n",
       "    <tr>\n",
       "      <th>1</th>\n",
       "      <td>2017</td>\n",
       "      <td>Pink Cab</td>\n",
       "      <td>2.961971</td>\n",
       "    </tr>\n",
       "    <tr>\n",
       "      <th>2</th>\n",
       "      <td>2018</td>\n",
       "      <td>Pink Cab</td>\n",
       "      <td>2.367773</td>\n",
       "    </tr>\n",
       "    <tr>\n",
       "      <th>3</th>\n",
       "      <td>2019</td>\n",
       "      <td>Pink Cab</td>\n",
       "      <td>3.107193</td>\n",
       "    </tr>\n",
       "    <tr>\n",
       "      <th>4</th>\n",
       "      <td>2016</td>\n",
       "      <td>Yellow Cab</td>\n",
       "      <td>7.490655</td>\n",
       "    </tr>\n",
       "    <tr>\n",
       "      <th>5</th>\n",
       "      <td>2017</td>\n",
       "      <td>Yellow Cab</td>\n",
       "      <td>7.496318</td>\n",
       "    </tr>\n",
       "    <tr>\n",
       "      <th>6</th>\n",
       "      <td>2018</td>\n",
       "      <td>Yellow Cab</td>\n",
       "      <td>6.379737</td>\n",
       "    </tr>\n",
       "    <tr>\n",
       "      <th>7</th>\n",
       "      <td>2019</td>\n",
       "      <td>Yellow Cab</td>\n",
       "      <td>4.536040</td>\n",
       "    </tr>\n",
       "  </tbody>\n",
       "</table>\n",
       "</div>"
      ],
      "text/plain": [
       "   Year     Company  Profit per km\n",
       "0  2016    Pink Cab       3.010930\n",
       "1  2017    Pink Cab       2.961971\n",
       "2  2018    Pink Cab       2.367773\n",
       "3  2019    Pink Cab       3.107193\n",
       "4  2016  Yellow Cab       7.490655\n",
       "5  2017  Yellow Cab       7.496318\n",
       "6  2018  Yellow Cab       6.379737\n",
       "7  2019  Yellow Cab       4.536040"
      ]
     },
     "execution_count": 35,
     "metadata": {},
     "output_type": "execute_result"
    }
   ],
   "source": [
    "#create dataframe from the dictionary then arrange data by melting the values from the company columns to make plotting easier\n",
    "df_1 = pd.DataFrame(annual_profit_per_km, index = [2016, 2017, 2018, 2019])\n",
    "df_1.reset_index(inplace=True)\n",
    "df_1.rename(columns={'index':'Year'}, inplace=True)\n",
    "df_1 = pd.melt(df_1, id_vars = 'Year', value_vars = ['Pink Cab', 'Yellow Cab'], \n",
    "               var_name = 'Company', value_name='Profit per km')\n",
    "df_1"
   ]
  },
  {
   "cell_type": "markdown",
   "metadata": {},
   "source": [
    "## Evaluate annual profit/km for each cab company"
   ]
  },
  {
   "cell_type": "code",
   "execution_count": 36,
   "metadata": {
    "scrolled": false
   },
   "outputs": [
    {
     "data": {
      "image/png": "[encoded data removed]",
      "text/plain": [
       "<Figure size 720x432 with 1 Axes>"
      ]
     },
     "metadata": {
      "needs_background": "light"
     },
     "output_type": "display_data"
    }
   ],
   "source": [
    "#plot profit per km for each company for each year\n",
    "plt.figure(figsize=(10,6))\n",
    "sns.barplot(data=df_1, x = 'Year', y = 'Profit per km', hue = 'Company',palette=['violet', 'yellow'])\n",
    "plt.xlabel('YEAR', fontsize=13)\n",
    "plt.xticks(fontsize=12)\n",
    "plt.ylabel(' PROFIT $/Km',fontsize=13)\n",
    "plt.yticks(fontsize=12)\n",
    "plt.title('ANNUAL $PROFIT/Km')\n",
    "plt.legend(fontsize = 12)\n",
    "plt.show()"
   ]
  },
  {
   "cell_type": "markdown",
   "metadata": {},
   "source": [
    "mean profit per km is higher for Yellow Cab but is gradually decreasing during the 4 years. The profits of Pink Cab is steady in comparison."
   ]
  },
  {
   "cell_type": "markdown",
   "metadata": {},
   "source": [
    "### Hypothesis testing : Annual profit per km between the two cab companies are significantly different"
   ]
  },
  {
   "cell_type": "code",
   "execution_count": 37,
   "metadata": {},
   "outputs": [
    {
     "name": "stdout",
     "output_type": "stream",
     "text": [
      "2016 p = 0.0 p < 0.01 significant\n",
      "2017 p = 0.0 p < 0.01 significant\n",
      "2018 p = 0.0 p < 0.01 significant\n",
      "2019 p = 0.0004033441596905147 p < 0.01 significant\n"
     ]
    }
   ],
   "source": [
    "# Null hypethesis H0: Annual Pink Cab profit/km = Annual Yellow Cab profit/km i.e. no difference between the two groups\n",
    "# Alternate hypothesis H1: Annual Pink Cab profit/km is significantly different from annual Yellow Cab profit/km\n",
    "\n",
    "# For each year, use indepedent t-test to check if the mean profit/km are significantly different\n",
    "\n",
    "for year in cab_data_2['Year'].unique():\n",
    "    p_val=stats.ttest_ind(a=cab_data_2[(cab_data_2['Year']==year)&(cab_data_2['Company']=='Pink Cab')]['Profit per km'], \n",
    "                          b=cab_data_2[(cab_data_2['Year']==year)&(cab_data_2['Company']=='Yellow Cab')]['Profit per km'])\n",
    "    if p_val[1]<=0.01:\n",
    "        print(year, 'p =', p_val[1], 'p < 0.01 significant')\n",
    "    elif p_val[1]<=0.05: \n",
    "        print(year, 'p =', p_val[1], 'p < 0.05 significant')\n",
    "    else: print(year, 'p =', p_val[1], 'p > 0.05 NOT significant')\n",
    "        \n",
    "# The profit/km between the two cab companies are significantly different (p<0.01) for all the years."
   ]
  },
  {
   "cell_type": "markdown",
   "metadata": {},
   "source": [
    "## Evaluate annual number of rides for each cab company"
   ]
  },
  {
   "cell_type": "code",
   "execution_count": 38,
   "metadata": {},
   "outputs": [
    {
     "data": {
      "text/html": [
       "<div>\n",
       "<style scoped>\n",
       "    .dataframe tbody tr th:only-of-type {\n",
       "        vertical-align: middle;\n",
       "    }\n",
       "\n",
       "    .dataframe tbody tr th {\n",
       "        vertical-align: top;\n",
       "    }\n",
       "\n",
       "    .dataframe thead th {\n",
       "        text-align: right;\n",
       "    }\n",
       "</style>\n",
       "<table border=\"1\" class=\"dataframe\">\n",
       "  <thead>\n",
       "    <tr style=\"text-align: right;\">\n",
       "      <th></th>\n",
       "      <th>Company</th>\n",
       "      <th>2016</th>\n",
       "      <th>2017</th>\n",
       "      <th>2018</th>\n",
       "      <th>2019</th>\n",
       "    </tr>\n",
       "  </thead>\n",
       "  <tbody>\n",
       "    <tr>\n",
       "      <th>0</th>\n",
       "      <td>Pink Cab</td>\n",
       "      <td>24840</td>\n",
       "      <td>30301</td>\n",
       "      <td>29456</td>\n",
       "      <td>114</td>\n",
       "    </tr>\n",
       "    <tr>\n",
       "      <th>1</th>\n",
       "      <td>Yellow Cab</td>\n",
       "      <td>81399</td>\n",
       "      <td>98212</td>\n",
       "      <td>94671</td>\n",
       "      <td>399</td>\n",
       "    </tr>\n",
       "  </tbody>\n",
       "</table>\n",
       "</div>"
      ],
      "text/plain": [
       "      Company   2016   2017   2018 2019\n",
       "0    Pink Cab  24840  30301  29456  114\n",
       "1  Yellow Cab  81399  98212  94671  399"
      ]
     },
     "execution_count": 38,
     "metadata": {},
     "output_type": "execute_result"
    }
   ],
   "source": [
    "#calculate the number of rides for each company for each year\n",
    "\n",
    "num_rides_per_year = pd.DataFrame(columns=['Company', '2016', '2017', '2018', '2019'])\n",
    "\n",
    "for company in ['Pink Cab', 'Yellow Cab']:\n",
    "    num_rides = cab_data_2[cab_data_2['Company']== company].groupby('Year')['City'].count()\n",
    "    num_rides_per_year = num_rides_per_year.append({'Company':company, '2016':num_rides.iloc[0], '2017':num_rides.iloc[1],\n",
    "                                                   '2018':num_rides.iloc[2], '2019':num_rides.iloc[3]}, ignore_index=True)\n",
    "num_rides_per_year"
   ]
  },
  {
   "cell_type": "code",
   "execution_count": 39,
   "metadata": {},
   "outputs": [
    {
     "data": {
      "text/html": [
       "<div>\n",
       "<style scoped>\n",
       "    .dataframe tbody tr th:only-of-type {\n",
       "        vertical-align: middle;\n",
       "    }\n",
       "\n",
       "    .dataframe tbody tr th {\n",
       "        vertical-align: top;\n",
       "    }\n",
       "\n",
       "    .dataframe thead th {\n",
       "        text-align: right;\n",
       "    }\n",
       "</style>\n",
       "<table border=\"1\" class=\"dataframe\">\n",
       "  <thead>\n",
       "    <tr style=\"text-align: right;\">\n",
       "      <th></th>\n",
       "      <th>Company</th>\n",
       "      <th>Year</th>\n",
       "      <th>Num_rides</th>\n",
       "    </tr>\n",
       "  </thead>\n",
       "  <tbody>\n",
       "    <tr>\n",
       "      <th>0</th>\n",
       "      <td>Pink Cab</td>\n",
       "      <td>2016</td>\n",
       "      <td>24840</td>\n",
       "    </tr>\n",
       "    <tr>\n",
       "      <th>1</th>\n",
       "      <td>Yellow Cab</td>\n",
       "      <td>2016</td>\n",
       "      <td>81399</td>\n",
       "    </tr>\n",
       "    <tr>\n",
       "      <th>2</th>\n",
       "      <td>Pink Cab</td>\n",
       "      <td>2017</td>\n",
       "      <td>30301</td>\n",
       "    </tr>\n",
       "    <tr>\n",
       "      <th>3</th>\n",
       "      <td>Yellow Cab</td>\n",
       "      <td>2017</td>\n",
       "      <td>98212</td>\n",
       "    </tr>\n",
       "    <tr>\n",
       "      <th>4</th>\n",
       "      <td>Pink Cab</td>\n",
       "      <td>2018</td>\n",
       "      <td>29456</td>\n",
       "    </tr>\n",
       "    <tr>\n",
       "      <th>5</th>\n",
       "      <td>Yellow Cab</td>\n",
       "      <td>2018</td>\n",
       "      <td>94671</td>\n",
       "    </tr>\n",
       "    <tr>\n",
       "      <th>6</th>\n",
       "      <td>Pink Cab</td>\n",
       "      <td>2019</td>\n",
       "      <td>114</td>\n",
       "    </tr>\n",
       "    <tr>\n",
       "      <th>7</th>\n",
       "      <td>Yellow Cab</td>\n",
       "      <td>2019</td>\n",
       "      <td>399</td>\n",
       "    </tr>\n",
       "  </tbody>\n",
       "</table>\n",
       "</div>"
      ],
      "text/plain": [
       "      Company  Year Num_rides\n",
       "0    Pink Cab  2016     24840\n",
       "1  Yellow Cab  2016     81399\n",
       "2    Pink Cab  2017     30301\n",
       "3  Yellow Cab  2017     98212\n",
       "4    Pink Cab  2018     29456\n",
       "5  Yellow Cab  2018     94671\n",
       "6    Pink Cab  2019       114\n",
       "7  Yellow Cab  2019       399"
      ]
     },
     "execution_count": 39,
     "metadata": {},
     "output_type": "execute_result"
    }
   ],
   "source": [
    "#rearrange the data to make plotting easier\n",
    "num_rides_per_year = pd.melt(num_rides_per_year, id_vars = 'Company', value_vars=['2016','2017','2018','2019'], \n",
    "                             var_name = 'Year', value_name = 'Num_rides')\n",
    "num_rides_per_year"
   ]
  },
  {
   "cell_type": "code",
   "execution_count": 40,
   "metadata": {
    "scrolled": true
   },
   "outputs": [
    {
     "data": {
      "text/plain": [
       "<Figure size 720x432 with 0 Axes>"
      ]
     },
     "metadata": {},
     "output_type": "display_data"
    },
    {
     "data": {
      "image/png": "[encoded data removed]",
      "text/plain": [
       "<Figure size 720x432 with 2 Axes>"
      ]
     },
     "metadata": {
      "needs_background": "light"
     },
     "output_type": "display_data"
    }
   ],
   "source": [
    "#plot the total number of rides for each company for each year with axis break to show partial data from 2019\n",
    "\n",
    "plt.figure(figsize=(10,6))\n",
    "plt.subplots(2,1,sharex=True, figsize=(10,6))\n",
    "plt.subplots_adjust(hspace=0.02)\n",
    "plt.subplot(2,1,1)\n",
    "sns.barplot(data=num_rides_per_year, x = 'Year', y = 'Num_rides', hue = 'Company',palette=['violet', 'yellow'])\n",
    "sns.despine()\n",
    "plt.ylim(20000, 110000)\n",
    "plt.xticks([],[])\n",
    "plt.ylabel('NUMBER OF RIDES',fontsize=13, loc='bottom')\n",
    "plt.title('ANNUAL NUMBER OF RIDES')\n",
    "plt.subplot(2,1,2)\n",
    "#plt.spines[['top', 'right']].set_visible(False)\n",
    "sns.barplot(data=num_rides_per_year, x = 'Year', y = 'Num_rides', hue = 'Company',palette=['violet', 'yellow'])\n",
    "plt.ylim(0, 550)\n",
    "plt.ylabel('')\n",
    "plt.legend().remove()\n",
    "plt.xlabel('YEAR', fontsize=13)\n",
    "sns.despine()\n",
    "plt.show()"
   ]
  },
  {
   "cell_type": "markdown",
   "metadata": {},
   "source": [
    "Yellow Cab garnered most of the rides for 2016, 2017 and 2018. We will assume a similar trend over the 2019 where only partial data is available"
   ]
  },
  {
   "cell_type": "markdown",
   "metadata": {},
   "source": [
    "## Evaluate annual profit/km for each cab company for each city of operation"
   ]
  },
  {
   "cell_type": "code",
   "execution_count": 41,
   "metadata": {
    "scrolled": true
   },
   "outputs": [
    {
     "data": {
      "text/plain": [
       "array(['ATLANTA GA', 'AUSTIN TX', 'BOSTON MA', 'CHICAGO IL', 'DALLAS TX',\n",
       "       'DENVER CO', 'LOS ANGELES CA', 'MIAMI FL', 'NASHVILLE TN',\n",
       "       'NEW YORK NY', 'ORANGE COUNTY', 'PHOENIX AZ', 'PITTSBURGH PA',\n",
       "       'SACRAMENTO CA', 'SAN DIEGO CA', 'SEATTLE WA', 'SILICON VALLEY',\n",
       "       'TUCSON AZ', 'WASHINGTON DC'], dtype=object)"
      ]
     },
     "execution_count": 41,
     "metadata": {},
     "output_type": "execute_result"
    }
   ],
   "source": [
    "cab_data_2['City'].unique() #there are 19 unique cities in the dataset"
   ]
  },
  {
   "cell_type": "code",
   "execution_count": 42,
   "metadata": {},
   "outputs": [],
   "source": [
    "#calculate mean profit per km for each cab company and each city\n",
    "mean_profit_per_city = pd.DataFrame(columns = ['City', 'Company', 'Mean_profit_per_km'])\n",
    "for city in cab_data_2['City'].unique():\n",
    "    for company in ['Pink Cab', 'Yellow Cab']:\n",
    "        mean_profit_per_km = round(cab_data_2[(cab_data_2['City']== city) & (cab_data_2['Company']== company)]['Profit per km'].mean(),2)\n",
    "        mean_profit_per_city = mean_profit_per_city.append({'City':city, 'Company':company, 'Mean_profit_per_km':mean_profit_per_km}, \n",
    "                                                           ignore_index=True)"
   ]
  },
  {
   "cell_type": "code",
   "execution_count": 43,
   "metadata": {
    "scrolled": true
   },
   "outputs": [
    {
     "data": {
      "text/html": [
       "<div>\n",
       "<style scoped>\n",
       "    .dataframe tbody tr th:only-of-type {\n",
       "        vertical-align: middle;\n",
       "    }\n",
       "\n",
       "    .dataframe tbody tr th {\n",
       "        vertical-align: top;\n",
       "    }\n",
       "\n",
       "    .dataframe thead th {\n",
       "        text-align: right;\n",
       "    }\n",
       "</style>\n",
       "<table border=\"1\" class=\"dataframe\">\n",
       "  <thead>\n",
       "    <tr style=\"text-align: right;\">\n",
       "      <th></th>\n",
       "      <th>City</th>\n",
       "      <th>Company</th>\n",
       "      <th>Mean_profit_per_km</th>\n",
       "    </tr>\n",
       "  </thead>\n",
       "  <tbody>\n",
       "    <tr>\n",
       "      <th>0</th>\n",
       "      <td>ATLANTA GA</td>\n",
       "      <td>Pink Cab</td>\n",
       "      <td>2.42</td>\n",
       "    </tr>\n",
       "    <tr>\n",
       "      <th>1</th>\n",
       "      <td>ATLANTA GA</td>\n",
       "      <td>Yellow Cab</td>\n",
       "      <td>5.79</td>\n",
       "    </tr>\n",
       "    <tr>\n",
       "      <th>2</th>\n",
       "      <td>AUSTIN TX</td>\n",
       "      <td>Pink Cab</td>\n",
       "      <td>3.60</td>\n",
       "    </tr>\n",
       "    <tr>\n",
       "      <th>3</th>\n",
       "      <td>AUSTIN TX</td>\n",
       "      <td>Yellow Cab</td>\n",
       "      <td>5.57</td>\n",
       "    </tr>\n",
       "    <tr>\n",
       "      <th>4</th>\n",
       "      <td>BOSTON MA</td>\n",
       "      <td>Pink Cab</td>\n",
       "      <td>2.23</td>\n",
       "    </tr>\n",
       "  </tbody>\n",
       "</table>\n",
       "</div>"
      ],
      "text/plain": [
       "         City     Company  Mean_profit_per_km\n",
       "0  ATLANTA GA    Pink Cab                2.42\n",
       "1  ATLANTA GA  Yellow Cab                5.79\n",
       "2   AUSTIN TX    Pink Cab                3.60\n",
       "3   AUSTIN TX  Yellow Cab                5.57\n",
       "4   BOSTON MA    Pink Cab                2.23"
      ]
     },
     "execution_count": 43,
     "metadata": {},
     "output_type": "execute_result"
    }
   ],
   "source": [
    "mean_profit_per_city.head()"
   ]
  },
  {
   "cell_type": "code",
   "execution_count": 44,
   "metadata": {
    "scrolled": true
   },
   "outputs": [
    {
     "data": {
      "image/png": "[encoded data removed]",
      "text/plain": [
       "<Figure size 720x432 with 1 Axes>"
      ]
     },
     "metadata": {
      "needs_background": "light"
     },
     "output_type": "display_data"
    }
   ],
   "source": [
    "#plot mean profit for each cab company for each city \n",
    "plt.figure(figsize=(10,6))\n",
    "sns.barplot(data=mean_profit_per_city, x = 'City', y = 'Mean_profit_per_km', hue = 'Company', palette=['violet', 'yellow'])\n",
    "plt.xlabel('CITY', fontsize=13)\n",
    "plt.xticks(fontsize=12, rotation = 90)\n",
    "plt.ylabel(' MEAN PROFIT $/Km',fontsize=13)\n",
    "plt.yticks(fontsize=12)\n",
    "plt.title('MEAN $PROFIT/Km FOR EACH CITY OF OPERATION')\n",
    "plt.legend(fontsize = 12)\n",
    "plt.show()"
   ]
  },
  {
   "cell_type": "markdown",
   "metadata": {},
   "source": [
    "In most of the cities, Yellow Cab profit/km exceeds that of Pink Cab "
   ]
  },
  {
   "cell_type": "markdown",
   "metadata": {},
   "source": [
    "### Hypothesis testing : Annual profit per km between the two cab companies are different in each city of operation except Tucson AZ"
   ]
  },
  {
   "cell_type": "code",
   "execution_count": 45,
   "metadata": {},
   "outputs": [
    {
     "name": "stdout",
     "output_type": "stream",
     "text": [
      "ATLANTA GA p = 1.396643410574182e-301 p < 0.01 significant\n",
      "AUSTIN TX p = 5.653328599868472e-81 p < 0.01 significant\n",
      "BOSTON MA p = 5.304413716683572e-41 p < 0.01 significant\n",
      "CHICAGO IL p = 0.0 p < 0.01 significant\n",
      "DALLAS TX p = 0.0 p < 0.01 significant\n",
      "DENVER CO p = 0.0 p < 0.01 significant\n",
      "LOS ANGELES CA p = 0.0 p < 0.01 significant\n",
      "MIAMI FL p = 8.774723107019721e-102 p < 0.01 significant\n",
      "NASHVILLE TN p = 1.8770439193639463e-56 p < 0.01 significant\n",
      "NEW YORK NY p = 0.0 p < 0.01 significant\n",
      "ORANGE COUNTY p = 2.427863935778849e-125 p < 0.01 significant\n",
      "PHOENIX AZ p = 1.1014351332390288e-140 p < 0.01 significant\n",
      "PITTSBURGH PA p = 6.157788334144227e-52 p < 0.01 significant\n",
      "SACRAMENTO CA p = 2.767737064173193e-11 p < 0.01 significant\n",
      "SAN DIEGO CA p = 0.0 p < 0.01 significant\n",
      "SEATTLE WA p = 1.3008435417691203e-270 p < 0.01 significant\n",
      "SILICON VALLEY p = 0.0 p < 0.01 significant\n",
      "TUCSON AZ p = 0.48311913099231474 p > 0.05 NOT significant\n",
      "WASHINGTON DC p = 5.289002256591273e-178 p < 0.01 significant\n"
     ]
    }
   ],
   "source": [
    " # Null hypethesis H0: Annual Pink Cab profit/km = Annual Yellow Cab profit/km i.e. no difference between the two groups in each city\n",
    "# Alternate hypothesis H1: Annual Pink Cab profit/km is significantly different from annual Yellow Cab profit/km in each city\n",
    "\n",
    "# For each city, use indepedent t-test to check if the mean profit/km are significantly different\n",
    "\n",
    "for city in cab_data_2['City'].unique():\n",
    "    p_val=stats.ttest_ind(a=cab_data_2[(cab_data_2['City']==city)&(cab_data_2['Company']=='Pink Cab')]['Profit per km'], \n",
    "                          b=cab_data_2[(cab_data_2['City']==city)&(cab_data_2['Company']=='Yellow Cab')]['Profit per km'])\n",
    "    if p_val[1]<=0.01:\n",
    "        print(city, 'p =', p_val[1], 'p < 0.01 significant')\n",
    "    elif p_val[1]<=0.05: \n",
    "        print(city, 'p =', p_val[1], 'p < 0.05 significant')\n",
    "    else: print(city, 'p =', p_val[1], 'p > 0.05 NOT significant')\n",
    "        \n",
    "# The profit/km between the two cab companies are significantly different (p<0.01) for all the cities except Tuscon AZ."
   ]
  },
  {
   "cell_type": "markdown",
   "metadata": {},
   "source": [
    "## Evaluate annual number of rides for each cab company for each city of operation"
   ]
  },
  {
   "cell_type": "code",
   "execution_count": 46,
   "metadata": {},
   "outputs": [],
   "source": [
    "#Calculate number of rides per company per city for the whole period\n",
    "rides_per_city = pd.DataFrame(columns = ['City', 'Company', 'Total_rides'])\n",
    "\n",
    "for city in cab_data_2['City'].unique():\n",
    "    for company in ['Pink Cab', 'Yellow Cab']:\n",
    "        rides_p_city = cab_data_2[(cab_data_2['City']== city) & (cab_data_2['Company']== company)]['City'].count()\n",
    "        rides_per_city = rides_per_city.append({'City':city, 'Company':company, 'Total_rides':rides_p_city}, \n",
    "                                                           ignore_index=True)"
   ]
  },
  {
   "cell_type": "code",
   "execution_count": 47,
   "metadata": {
    "scrolled": true
   },
   "outputs": [
    {
     "data": {
      "text/html": [
       "<div>\n",
       "<style scoped>\n",
       "    .dataframe tbody tr th:only-of-type {\n",
       "        vertical-align: middle;\n",
       "    }\n",
       "\n",
       "    .dataframe tbody tr th {\n",
       "        vertical-align: top;\n",
       "    }\n",
       "\n",
       "    .dataframe thead th {\n",
       "        text-align: right;\n",
       "    }\n",
       "</style>\n",
       "<table border=\"1\" class=\"dataframe\">\n",
       "  <thead>\n",
       "    <tr style=\"text-align: right;\">\n",
       "      <th></th>\n",
       "      <th>City</th>\n",
       "      <th>Company</th>\n",
       "      <th>Total_rides</th>\n",
       "    </tr>\n",
       "  </thead>\n",
       "  <tbody>\n",
       "    <tr>\n",
       "      <th>0</th>\n",
       "      <td>ATLANTA GA</td>\n",
       "      <td>Pink Cab</td>\n",
       "      <td>1762</td>\n",
       "    </tr>\n",
       "    <tr>\n",
       "      <th>1</th>\n",
       "      <td>ATLANTA GA</td>\n",
       "      <td>Yellow Cab</td>\n",
       "      <td>5795</td>\n",
       "    </tr>\n",
       "    <tr>\n",
       "      <th>2</th>\n",
       "      <td>AUSTIN TX</td>\n",
       "      <td>Pink Cab</td>\n",
       "      <td>1868</td>\n",
       "    </tr>\n",
       "    <tr>\n",
       "      <th>3</th>\n",
       "      <td>AUSTIN TX</td>\n",
       "      <td>Yellow Cab</td>\n",
       "      <td>3028</td>\n",
       "    </tr>\n",
       "    <tr>\n",
       "      <th>4</th>\n",
       "      <td>BOSTON MA</td>\n",
       "      <td>Pink Cab</td>\n",
       "      <td>5186</td>\n",
       "    </tr>\n",
       "  </tbody>\n",
       "</table>\n",
       "</div>"
      ],
      "text/plain": [
       "         City     Company Total_rides\n",
       "0  ATLANTA GA    Pink Cab        1762\n",
       "1  ATLANTA GA  Yellow Cab        5795\n",
       "2   AUSTIN TX    Pink Cab        1868\n",
       "3   AUSTIN TX  Yellow Cab        3028\n",
       "4   BOSTON MA    Pink Cab        5186"
      ]
     },
     "execution_count": 47,
     "metadata": {},
     "output_type": "execute_result"
    }
   ],
   "source": [
    "rides_per_city.head()"
   ]
  },
  {
   "cell_type": "code",
   "execution_count": 48,
   "metadata": {
    "scrolled": true
   },
   "outputs": [
    {
     "data": {
      "text/plain": [
       "<Figure size 720x432 with 0 Axes>"
      ]
     },
     "metadata": {},
     "output_type": "display_data"
    },
    {
     "data": {
      "image/png": "[encoded data removed]",
      "text/plain": [
       "<Figure size 720x432 with 2 Axes>"
      ]
     },
     "metadata": {
      "needs_background": "light"
     },
     "output_type": "display_data"
    }
   ],
   "source": [
    "#plot the total number of rides for each company for each city with axis break to show the full range of data\n",
    "\n",
    "plt.figure(figsize=(10,6))\n",
    "plt.subplots(2,1,sharex=True, figsize=(10,6))\n",
    "plt.subplots_adjust(hspace=0.02)\n",
    "plt.subplot(2,1,1)\n",
    "sns.barplot(data=rides_per_city, x = 'City', y = 'Total_rides', hue = 'Company', palette=['violet', 'yellow'])\n",
    "sns.despine()\n",
    "plt.ylim(10000, 110000)\n",
    "plt.xticks([],[])\n",
    "plt.yticks(fontsize=12)\n",
    "plt.ylabel('NUMBER OF RIDES',fontsize=13, loc='bottom')\n",
    "plt.title('TOTAL NUMBER OF RIDES FOR EACH CITY OF OPERATION')\n",
    "plt.subplot(2,1,2)\n",
    "#plt.spines[['top', 'right']].set_visible(False)\n",
    "sns.barplot(data=rides_per_city, x = 'City', y = 'Total_rides', hue = 'Company', palette=['violet', 'yellow'])\n",
    "plt.ylim(0, 6500)\n",
    "plt.ylabel('')\n",
    "plt.yticks(fontsize=12)\n",
    "plt.legend().remove()\n",
    "plt.xlabel('CITY', fontsize=13)\n",
    "plt.xticks(fontsize=12, rotation = 90)\n",
    "sns.despine()\n",
    "plt.show()"
   ]
  },
  {
   "cell_type": "markdown",
   "metadata": {},
   "source": [
    "With the exception of a few cities like Nashville TN, Pittsburgh PA, Tuscon AZ and Sacramento CA where the number of customers with Pink Cab marginally higher, Yellow Cab generally garners more rides than Pink Cab in all other cities"
   ]
  },
  {
   "cell_type": "markdown",
   "metadata": {},
   "source": [
    "## Look at how gender of the rider relates to the cab company profits"
   ]
  },
  {
   "cell_type": "code",
   "execution_count": 49,
   "metadata": {},
   "outputs": [],
   "source": [
    "#merge customer_transaction_ids df with cab_data_2 df\n",
    "cab_data_customer_transaction_ids = customer_transaction_ids.merge(cab_data_2, how='inner', on='Transaction ID')"
   ]
  },
  {
   "cell_type": "code",
   "execution_count": 50,
   "metadata": {},
   "outputs": [
    {
     "data": {
      "text/html": [
       "<div>\n",
       "<style scoped>\n",
       "    .dataframe tbody tr th:only-of-type {\n",
       "        vertical-align: middle;\n",
       "    }\n",
       "\n",
       "    .dataframe tbody tr th {\n",
       "        vertical-align: top;\n",
       "    }\n",
       "\n",
       "    .dataframe thead th {\n",
       "        text-align: right;\n",
       "    }\n",
       "</style>\n",
       "<table border=\"1\" class=\"dataframe\">\n",
       "  <thead>\n",
       "    <tr style=\"text-align: right;\">\n",
       "      <th></th>\n",
       "      <th>Customer ID</th>\n",
       "      <th>Gender</th>\n",
       "      <th>Age</th>\n",
       "      <th>Income (USD/Month)</th>\n",
       "      <th>Transaction ID</th>\n",
       "      <th>Payment_Mode</th>\n",
       "      <th>Company</th>\n",
       "      <th>City</th>\n",
       "      <th>KM Travelled</th>\n",
       "      <th>Price Charged</th>\n",
       "      <th>Cost of Trip</th>\n",
       "      <th>Date</th>\n",
       "      <th>Profit</th>\n",
       "      <th>Profit per km</th>\n",
       "      <th>Year</th>\n",
       "      <th>Month</th>\n",
       "      <th>Day_of_month</th>\n",
       "      <th>Day_of_week</th>\n",
       "    </tr>\n",
       "  </thead>\n",
       "  <tbody>\n",
       "    <tr>\n",
       "      <th>0</th>\n",
       "      <td>29290</td>\n",
       "      <td>Male</td>\n",
       "      <td>28</td>\n",
       "      <td>10813</td>\n",
       "      <td>10000011</td>\n",
       "      <td>Card</td>\n",
       "      <td>Pink Cab</td>\n",
       "      <td>ATLANTA GA</td>\n",
       "      <td>30.45</td>\n",
       "      <td>370.95</td>\n",
       "      <td>313.6350</td>\n",
       "      <td>2016-01-10</td>\n",
       "      <td>57.32</td>\n",
       "      <td>1.88</td>\n",
       "      <td>2016</td>\n",
       "      <td>1</td>\n",
       "      <td>10</td>\n",
       "      <td>Sunday</td>\n",
       "    </tr>\n",
       "    <tr>\n",
       "      <th>1</th>\n",
       "      <td>29290</td>\n",
       "      <td>Male</td>\n",
       "      <td>28</td>\n",
       "      <td>10813</td>\n",
       "      <td>10351127</td>\n",
       "      <td>Cash</td>\n",
       "      <td>Yellow Cab</td>\n",
       "      <td>ATLANTA GA</td>\n",
       "      <td>26.19</td>\n",
       "      <td>598.70</td>\n",
       "      <td>317.4228</td>\n",
       "      <td>2018-07-23</td>\n",
       "      <td>281.28</td>\n",
       "      <td>10.74</td>\n",
       "      <td>2018</td>\n",
       "      <td>7</td>\n",
       "      <td>23</td>\n",
       "      <td>Monday</td>\n",
       "    </tr>\n",
       "    <tr>\n",
       "      <th>2</th>\n",
       "      <td>29290</td>\n",
       "      <td>Male</td>\n",
       "      <td>28</td>\n",
       "      <td>10813</td>\n",
       "      <td>10412921</td>\n",
       "      <td>Card</td>\n",
       "      <td>Yellow Cab</td>\n",
       "      <td>ATLANTA GA</td>\n",
       "      <td>42.55</td>\n",
       "      <td>792.05</td>\n",
       "      <td>597.4020</td>\n",
       "      <td>2018-11-25</td>\n",
       "      <td>194.65</td>\n",
       "      <td>4.57</td>\n",
       "      <td>2018</td>\n",
       "      <td>11</td>\n",
       "      <td>25</td>\n",
       "      <td>Sunday</td>\n",
       "    </tr>\n",
       "    <tr>\n",
       "      <th>3</th>\n",
       "      <td>27703</td>\n",
       "      <td>Male</td>\n",
       "      <td>27</td>\n",
       "      <td>9237</td>\n",
       "      <td>10000012</td>\n",
       "      <td>Card</td>\n",
       "      <td>Pink Cab</td>\n",
       "      <td>ATLANTA GA</td>\n",
       "      <td>28.62</td>\n",
       "      <td>358.52</td>\n",
       "      <td>334.8540</td>\n",
       "      <td>2016-01-08</td>\n",
       "      <td>23.67</td>\n",
       "      <td>0.83</td>\n",
       "      <td>2016</td>\n",
       "      <td>1</td>\n",
       "      <td>8</td>\n",
       "      <td>Friday</td>\n",
       "    </tr>\n",
       "    <tr>\n",
       "      <th>4</th>\n",
       "      <td>27703</td>\n",
       "      <td>Male</td>\n",
       "      <td>27</td>\n",
       "      <td>9237</td>\n",
       "      <td>10320494</td>\n",
       "      <td>Card</td>\n",
       "      <td>Yellow Cab</td>\n",
       "      <td>ATLANTA GA</td>\n",
       "      <td>36.38</td>\n",
       "      <td>721.10</td>\n",
       "      <td>467.1192</td>\n",
       "      <td>2018-04-23</td>\n",
       "      <td>253.98</td>\n",
       "      <td>6.98</td>\n",
       "      <td>2018</td>\n",
       "      <td>4</td>\n",
       "      <td>23</td>\n",
       "      <td>Monday</td>\n",
       "    </tr>\n",
       "  </tbody>\n",
       "</table>\n",
       "</div>"
      ],
      "text/plain": [
       "   Customer ID Gender  Age  Income (USD/Month)  Transaction ID Payment_Mode  \\\n",
       "0        29290   Male   28               10813        10000011         Card   \n",
       "1        29290   Male   28               10813        10351127         Cash   \n",
       "2        29290   Male   28               10813        10412921         Card   \n",
       "3        27703   Male   27                9237        10000012         Card   \n",
       "4        27703   Male   27                9237        10320494         Card   \n",
       "\n",
       "      Company        City  KM Travelled  Price Charged  Cost of Trip  \\\n",
       "0    Pink Cab  ATLANTA GA         30.45         370.95      313.6350   \n",
       "1  Yellow Cab  ATLANTA GA         26.19         598.70      317.4228   \n",
       "2  Yellow Cab  ATLANTA GA         42.55         792.05      597.4020   \n",
       "3    Pink Cab  ATLANTA GA         28.62         358.52      334.8540   \n",
       "4  Yellow Cab  ATLANTA GA         36.38         721.10      467.1192   \n",
       "\n",
       "        Date  Profit  Profit per km  Year  Month  Day_of_month Day_of_week  \n",
       "0 2016-01-10   57.32           1.88  2016      1            10      Sunday  \n",
       "1 2018-07-23  281.28          10.74  2018      7            23      Monday  \n",
       "2 2018-11-25  194.65           4.57  2018     11            25      Sunday  \n",
       "3 2016-01-08   23.67           0.83  2016      1             8      Friday  \n",
       "4 2018-04-23  253.98           6.98  2018      4            23      Monday  "
      ]
     },
     "execution_count": 50,
     "metadata": {},
     "output_type": "execute_result"
    }
   ],
   "source": [
    "cab_data_customer_transaction_ids.head()"
   ]
  },
  {
   "cell_type": "code",
   "execution_count": 51,
   "metadata": {},
   "outputs": [],
   "source": [
    "#calculate the profit/km per company per year for each gender and create a data frame\n",
    "\n",
    "year_company_gender_profit = pd.DataFrame()\n",
    "\n",
    "for year in cab_data_customer_transaction_ids['Year'].unique():\n",
    "    for company in cab_data_customer_transaction_ids['Company'].unique():\n",
    "        for gender in cab_data_customer_transaction_ids['Gender'].unique():\n",
    "            profit = cab_data_customer_transaction_ids[(cab_data_customer_transaction_ids['Year']==year) \n",
    "                                                       & (cab_data_customer_transaction_ids['Company']==company) \n",
    "                                                       & (cab_data_customer_transaction_ids['Gender']==gender)]['Profit per km'].mean()\n",
    "            profit = round(profit,2)\n",
    "            year_company_gender_profit=year_company_gender_profit.append({'Year':year, 'Company':company, 'Gender':gender, \n",
    "                                                                         'Mean_profit_per_km':profit}, ignore_index=True)"
   ]
  },
  {
   "cell_type": "code",
   "execution_count": 52,
   "metadata": {},
   "outputs": [
    {
     "data": {
      "text/html": [
       "<div>\n",
       "<style scoped>\n",
       "    .dataframe tbody tr th:only-of-type {\n",
       "        vertical-align: middle;\n",
       "    }\n",
       "\n",
       "    .dataframe tbody tr th {\n",
       "        vertical-align: top;\n",
       "    }\n",
       "\n",
       "    .dataframe thead th {\n",
       "        text-align: right;\n",
       "    }\n",
       "</style>\n",
       "<table border=\"1\" class=\"dataframe\">\n",
       "  <thead>\n",
       "    <tr style=\"text-align: right;\">\n",
       "      <th></th>\n",
       "      <th>Company</th>\n",
       "      <th>Gender</th>\n",
       "      <th>Mean_profit_per_km</th>\n",
       "      <th>Year</th>\n",
       "    </tr>\n",
       "  </thead>\n",
       "  <tbody>\n",
       "    <tr>\n",
       "      <th>0</th>\n",
       "      <td>Pink Cab</td>\n",
       "      <td>Male</td>\n",
       "      <td>3.04</td>\n",
       "      <td>2016.0</td>\n",
       "    </tr>\n",
       "    <tr>\n",
       "      <th>1</th>\n",
       "      <td>Pink Cab</td>\n",
       "      <td>Female</td>\n",
       "      <td>2.98</td>\n",
       "      <td>2016.0</td>\n",
       "    </tr>\n",
       "    <tr>\n",
       "      <th>2</th>\n",
       "      <td>Yellow Cab</td>\n",
       "      <td>Male</td>\n",
       "      <td>7.63</td>\n",
       "      <td>2016.0</td>\n",
       "    </tr>\n",
       "    <tr>\n",
       "      <th>3</th>\n",
       "      <td>Yellow Cab</td>\n",
       "      <td>Female</td>\n",
       "      <td>7.30</td>\n",
       "      <td>2016.0</td>\n",
       "    </tr>\n",
       "    <tr>\n",
       "      <th>4</th>\n",
       "      <td>Pink Cab</td>\n",
       "      <td>Male</td>\n",
       "      <td>2.98</td>\n",
       "      <td>2017.0</td>\n",
       "    </tr>\n",
       "  </tbody>\n",
       "</table>\n",
       "</div>"
      ],
      "text/plain": [
       "      Company  Gender  Mean_profit_per_km    Year\n",
       "0    Pink Cab    Male                3.04  2016.0\n",
       "1    Pink Cab  Female                2.98  2016.0\n",
       "2  Yellow Cab    Male                7.63  2016.0\n",
       "3  Yellow Cab  Female                7.30  2016.0\n",
       "4    Pink Cab    Male                2.98  2017.0"
      ]
     },
     "execution_count": 52,
     "metadata": {},
     "output_type": "execute_result"
    }
   ],
   "source": [
    "year_company_gender_profit = year_company_gender_profit.sort_values('Year', ignore_index=True)\n",
    "year_company_gender_profit.head()"
   ]
  },
  {
   "cell_type": "code",
   "execution_count": 53,
   "metadata": {
    "scrolled": true
   },
   "outputs": [
    {
     "data": {
      "image/png": "[encoded data removed]",
      "text/plain": [
       "<Figure size 1080x432 with 2 Axes>"
      ]
     },
     "metadata": {
      "needs_background": "light"
     },
     "output_type": "display_data"
    }
   ],
   "source": [
    "#plot gender-based profit/km for each company and for each year\n",
    "\n",
    "plt.subplots(1,2,figsize=(15,6))\n",
    "plt.subplot(1,2,1)\n",
    "sns.barplot(x=year_company_gender_profit['Year'], \n",
    "            y=year_company_gender_profit[year_company_gender_profit['Company']=='Pink Cab']['Mean_profit_per_km'], \n",
    "            hue=year_company_gender_profit['Gender'])\n",
    "plt.ylim(0,9)\n",
    "plt.title('Pink Cab', fontsize=15)\n",
    "plt.xlabel('YEAR', fontsize=13)\n",
    "plt.ylabel('PROFIT PER KM', fontsize=13)\n",
    "plt.yticks(fontsize=12)\n",
    "plt.xticks(fontsize=12)\n",
    "plt.subplot(1,2,2)\n",
    "sns.barplot(x=year_company_gender_profit['Year'], \n",
    "            y=year_company_gender_profit[year_company_gender_profit['Company']=='Yellow Cab']['Mean_profit_per_km'], \n",
    "            hue=year_company_gender_profit['Gender'])\n",
    "plt.ylim(0,9)\n",
    "plt.xlabel('YEAR', fontsize=13)\n",
    "plt.ylabel('PROFIT PER KM', fontsize=13)\n",
    "plt.yticks(fontsize=12)\n",
    "plt.xticks(fontsize=12)\n",
    "plt.title('Yellow Cab', fontsize=15)\n",
    "plt.show()"
   ]
  },
  {
   "cell_type": "markdown",
   "metadata": {},
   "source": [
    "There is no gender-based differences in the profits per km for either cab company for any of the years."
   ]
  },
  {
   "cell_type": "markdown",
   "metadata": {},
   "source": [
    "### Hypothesis testing : Annual profit per km between the two cab companies are the same between Male or Female genders"
   ]
  },
  {
   "cell_type": "code",
   "execution_count": 54,
   "metadata": {},
   "outputs": [
    {
     "name": "stdout",
     "output_type": "stream",
     "text": [
      "Pink Cab 2016 p = nan p > 0.05 NOT significant\n",
      "Pink Cab 2017 p = nan p > 0.05 NOT significant\n",
      "Pink Cab 2018 p = nan p > 0.05 NOT significant\n",
      "Pink Cab 2019 p = nan p > 0.05 NOT significant\n",
      "Yellow Cab 2016 p = nan p > 0.05 NOT significant\n",
      "Yellow Cab 2017 p = nan p > 0.05 NOT significant\n",
      "Yellow Cab 2018 p = nan p > 0.05 NOT significant\n",
      "Yellow Cab 2019 p = nan p > 0.05 NOT significant\n"
     ]
    }
   ],
   "source": [
    "# Null hypethesis H0: Annual Pink Cab profit/km from female clinets = Annual Yellow Cab profit/km from male clients \n",
    "# i.e. no difference between the two gender groups\n",
    "# Alternate hypothesis H1: Annual Pink Cab profit/km from female clinets is significantly different from annual \n",
    "# Yellow Cab profit/km from female clinets\n",
    "\n",
    "# For each year, use indepedent t-test to check if the mean profit/km are significantly different\n",
    "\n",
    "for company in cab_data_2['Company'].unique():\n",
    "    for year in cab_data_2['Year'].unique():\n",
    "        p_val=stats.ttest_ind(a=cab_data_customer_transaction_ids[(cab_data_customer_transaction_ids['Company']==city)\n",
    "                                                                  &(cab_data_customer_transaction_ids['Year']==year)\n",
    "                                                                  &(cab_data_customer_transaction_ids['Gender']=='Male')]['Profit per km'], \n",
    "                              b=cab_data_2[(cab_data_customer_transaction_ids['Company']==city)\n",
    "                                                                  &(cab_data_customer_transaction_ids['Year']==year)\n",
    "                                                                  &(cab_data_customer_transaction_ids['Gender']=='Female')]['Profit per km'])\n",
    "        if p_val[1]<=0.01:\n",
    "            print(company, year, 'p =', p_val[1], 'p < 0.01 significant')\n",
    "        elif p_val[1]<=0.05: \n",
    "            print(company, year, 'p =', p_val[1], 'p < 0.05 significant')\n",
    "        else: print(company, year, 'p =', p_val[1], 'p > 0.05 NOT significant')\n",
    "\n",
    "# The profit/km between the two cab companies are not significantly different (p>0.05) between Male and Female genders."
   ]
  },
  {
   "cell_type": "markdown",
   "metadata": {},
   "source": [
    "## Look at how gender of the rider relates to the number of rides"
   ]
  },
  {
   "cell_type": "code",
   "execution_count": 55,
   "metadata": {},
   "outputs": [],
   "source": [
    "#calculate the number of rides per company per year for each gender group and create a data frame\n",
    "\n",
    "year_company_gender_num_rides = pd.DataFrame()\n",
    "\n",
    "for year in cab_data_customer_transaction_ids['Year'].unique():\n",
    "    for company in cab_data_customer_transaction_ids['Company'].unique():\n",
    "        for gender in cab_data_customer_transaction_ids['Gender'].unique():\n",
    "            num_rides = cab_data_customer_transaction_ids[(cab_data_customer_transaction_ids['Year']==year) \n",
    "                                                       & (cab_data_customer_transaction_ids['Company']==company) \n",
    "                                                       & (cab_data_customer_transaction_ids['Gender']==gender)]['Gender'].count()\n",
    "            \n",
    "            year_company_gender_num_rides=year_company_gender_num_rides.append({'Year':year, 'Company':company, 'Gender':gender, \n",
    "                                                                         'Num_rides':num_rides}, ignore_index=True)"
   ]
  },
  {
   "cell_type": "code",
   "execution_count": 56,
   "metadata": {},
   "outputs": [
    {
     "data": {
      "text/html": [
       "<div>\n",
       "<style scoped>\n",
       "    .dataframe tbody tr th:only-of-type {\n",
       "        vertical-align: middle;\n",
       "    }\n",
       "\n",
       "    .dataframe tbody tr th {\n",
       "        vertical-align: top;\n",
       "    }\n",
       "\n",
       "    .dataframe thead th {\n",
       "        text-align: right;\n",
       "    }\n",
       "</style>\n",
       "<table border=\"1\" class=\"dataframe\">\n",
       "  <thead>\n",
       "    <tr style=\"text-align: right;\">\n",
       "      <th></th>\n",
       "      <th>Company</th>\n",
       "      <th>Gender</th>\n",
       "      <th>Num_rides</th>\n",
       "      <th>Year</th>\n",
       "    </tr>\n",
       "  </thead>\n",
       "  <tbody>\n",
       "    <tr>\n",
       "      <th>0</th>\n",
       "      <td>Pink Cab</td>\n",
       "      <td>Male</td>\n",
       "      <td>14074.0</td>\n",
       "      <td>2016.0</td>\n",
       "    </tr>\n",
       "    <tr>\n",
       "      <th>1</th>\n",
       "      <td>Pink Cab</td>\n",
       "      <td>Female</td>\n",
       "      <td>10766.0</td>\n",
       "      <td>2016.0</td>\n",
       "    </tr>\n",
       "    <tr>\n",
       "      <th>2</th>\n",
       "      <td>Yellow Cab</td>\n",
       "      <td>Male</td>\n",
       "      <td>47889.0</td>\n",
       "      <td>2016.0</td>\n",
       "    </tr>\n",
       "    <tr>\n",
       "      <th>3</th>\n",
       "      <td>Yellow Cab</td>\n",
       "      <td>Female</td>\n",
       "      <td>33510.0</td>\n",
       "      <td>2016.0</td>\n",
       "    </tr>\n",
       "    <tr>\n",
       "      <th>4</th>\n",
       "      <td>Pink Cab</td>\n",
       "      <td>Male</td>\n",
       "      <td>16262.0</td>\n",
       "      <td>2018.0</td>\n",
       "    </tr>\n",
       "  </tbody>\n",
       "</table>\n",
       "</div>"
      ],
      "text/plain": [
       "      Company  Gender  Num_rides    Year\n",
       "0    Pink Cab    Male    14074.0  2016.0\n",
       "1    Pink Cab  Female    10766.0  2016.0\n",
       "2  Yellow Cab    Male    47889.0  2016.0\n",
       "3  Yellow Cab  Female    33510.0  2016.0\n",
       "4    Pink Cab    Male    16262.0  2018.0"
      ]
     },
     "execution_count": 56,
     "metadata": {},
     "output_type": "execute_result"
    }
   ],
   "source": [
    "year_company_gender_num_rides.head()"
   ]
  },
  {
   "cell_type": "code",
   "execution_count": 57,
   "metadata": {},
   "outputs": [
    {
     "data": {
      "image/png": "[encoded data removed]",
      "text/plain": [
       "<Figure size 1080x432 with 2 Axes>"
      ]
     },
     "metadata": {
      "needs_background": "light"
     },
     "output_type": "display_data"
    }
   ],
   "source": [
    "#plot gender-based rides for each company and for each year\n",
    "\n",
    "plt.subplots(1,2,figsize=(15,6))\n",
    "plt.subplot(1,2,1)\n",
    "sns.barplot(x= year_company_gender_num_rides['Year'], \n",
    "            y= year_company_gender_num_rides[ year_company_gender_num_rides['Company']=='Pink Cab']['Num_rides'], \n",
    "            hue= year_company_gender_num_rides['Gender'])\n",
    "plt.ylim(0,60000)\n",
    "plt.title('Pink Cab', fontsize=15)\n",
    "plt.xlabel('YEAR', fontsize=13)\n",
    "plt.ylabel('NUMBER OF RIDES', fontsize=13)\n",
    "plt.yticks(fontsize=12)\n",
    "plt.xticks(fontsize=12)\n",
    "plt.subplot(1,2,2)\n",
    "sns.barplot(x= year_company_gender_num_rides['Year'], \n",
    "            y= year_company_gender_num_rides[ year_company_gender_num_rides['Company']=='Yellow Cab']['Num_rides'], \n",
    "            hue= year_company_gender_num_rides['Gender'])\n",
    "plt.ylim(0,60000)\n",
    "plt.xlabel('YEAR', fontsize=13)\n",
    "plt.ylabel('NUMBER OF RIDES', fontsize=13)\n",
    "plt.yticks(fontsize=12)\n",
    "plt.xticks(fontsize=12)\n",
    "plt.title('Yellow Cab', fontsize=15)\n",
    "plt.show()"
   ]
  },
  {
   "cell_type": "markdown",
   "metadata": {},
   "source": [
    "There are more male riders for both cab companies for all the years. This difference is larger for Yellow Cab."
   ]
  },
  {
   "cell_type": "markdown",
   "metadata": {},
   "source": [
    "## Look at how monthly income of the rider relate to the company profit/km"
   ]
  },
  {
   "cell_type": "code",
   "execution_count": 58,
   "metadata": {
    "scrolled": true
   },
   "outputs": [
    {
     "data": {
      "text/html": [
       "<div>\n",
       "<style scoped>\n",
       "    .dataframe tbody tr th:only-of-type {\n",
       "        vertical-align: middle;\n",
       "    }\n",
       "\n",
       "    .dataframe tbody tr th {\n",
       "        vertical-align: top;\n",
       "    }\n",
       "\n",
       "    .dataframe thead th {\n",
       "        text-align: right;\n",
       "    }\n",
       "</style>\n",
       "<table border=\"1\" class=\"dataframe\">\n",
       "  <thead>\n",
       "    <tr style=\"text-align: right;\">\n",
       "      <th></th>\n",
       "      <th>Customer ID</th>\n",
       "      <th>Age</th>\n",
       "      <th>Income (USD/Month)</th>\n",
       "      <th>Transaction ID</th>\n",
       "      <th>KM Travelled</th>\n",
       "      <th>Price Charged</th>\n",
       "      <th>Cost of Trip</th>\n",
       "      <th>Profit</th>\n",
       "      <th>Profit per km</th>\n",
       "      <th>Year</th>\n",
       "      <th>Month</th>\n",
       "      <th>Day_of_month</th>\n",
       "    </tr>\n",
       "  </thead>\n",
       "  <tbody>\n",
       "    <tr>\n",
       "      <th>count</th>\n",
       "      <td>359392.000000</td>\n",
       "      <td>359392.000000</td>\n",
       "      <td>359392.000000</td>\n",
       "      <td>3.593920e+05</td>\n",
       "      <td>359392.000000</td>\n",
       "      <td>359392.000000</td>\n",
       "      <td>359392.000000</td>\n",
       "      <td>359392.000000</td>\n",
       "      <td>359392.000000</td>\n",
       "      <td>359392.000000</td>\n",
       "      <td>359392.000000</td>\n",
       "      <td>359392.000000</td>\n",
       "    </tr>\n",
       "    <tr>\n",
       "      <th>mean</th>\n",
       "      <td>19191.652115</td>\n",
       "      <td>35.336705</td>\n",
       "      <td>15048.822937</td>\n",
       "      <td>1.022076e+07</td>\n",
       "      <td>22.567254</td>\n",
       "      <td>423.443311</td>\n",
       "      <td>286.190113</td>\n",
       "      <td>137.253197</td>\n",
       "      <td>6.083574</td>\n",
       "      <td>2017.052628</td>\n",
       "      <td>7.475851</td>\n",
       "      <td>15.659784</td>\n",
       "    </tr>\n",
       "    <tr>\n",
       "      <th>std</th>\n",
       "      <td>21012.412463</td>\n",
       "      <td>12.594234</td>\n",
       "      <td>7969.409482</td>\n",
       "      <td>1.268058e+05</td>\n",
       "      <td>12.233526</td>\n",
       "      <td>274.378911</td>\n",
       "      <td>157.993661</td>\n",
       "      <td>160.311840</td>\n",
       "      <td>5.543494</td>\n",
       "      <td>0.802452</td>\n",
       "      <td>3.464767</td>\n",
       "      <td>8.797606</td>\n",
       "    </tr>\n",
       "    <tr>\n",
       "      <th>min</th>\n",
       "      <td>1.000000</td>\n",
       "      <td>18.000000</td>\n",
       "      <td>2000.000000</td>\n",
       "      <td>1.000001e+07</td>\n",
       "      <td>1.900000</td>\n",
       "      <td>15.600000</td>\n",
       "      <td>19.000000</td>\n",
       "      <td>-220.060000</td>\n",
       "      <td>-5.000000</td>\n",
       "      <td>2016.000000</td>\n",
       "      <td>1.000000</td>\n",
       "      <td>1.000000</td>\n",
       "    </tr>\n",
       "    <tr>\n",
       "      <th>25%</th>\n",
       "      <td>2705.000000</td>\n",
       "      <td>25.000000</td>\n",
       "      <td>8424.000000</td>\n",
       "      <td>1.011081e+07</td>\n",
       "      <td>12.000000</td>\n",
       "      <td>206.437500</td>\n",
       "      <td>151.200000</td>\n",
       "      <td>28.010000</td>\n",
       "      <td>2.000000</td>\n",
       "      <td>2016.000000</td>\n",
       "      <td>5.000000</td>\n",
       "      <td>8.000000</td>\n",
       "    </tr>\n",
       "    <tr>\n",
       "      <th>50%</th>\n",
       "      <td>7459.000000</td>\n",
       "      <td>33.000000</td>\n",
       "      <td>14685.000000</td>\n",
       "      <td>1.022104e+07</td>\n",
       "      <td>22.440000</td>\n",
       "      <td>386.360000</td>\n",
       "      <td>282.480000</td>\n",
       "      <td>81.960000</td>\n",
       "      <td>4.470000</td>\n",
       "      <td>2017.000000</td>\n",
       "      <td>8.000000</td>\n",
       "      <td>16.000000</td>\n",
       "    </tr>\n",
       "    <tr>\n",
       "      <th>75%</th>\n",
       "      <td>36078.000000</td>\n",
       "      <td>42.000000</td>\n",
       "      <td>21035.000000</td>\n",
       "      <td>1.033094e+07</td>\n",
       "      <td>32.960000</td>\n",
       "      <td>583.660000</td>\n",
       "      <td>413.683200</td>\n",
       "      <td>190.030000</td>\n",
       "      <td>9.170000</td>\n",
       "      <td>2018.000000</td>\n",
       "      <td>10.000000</td>\n",
       "      <td>23.000000</td>\n",
       "    </tr>\n",
       "    <tr>\n",
       "      <th>max</th>\n",
       "      <td>60000.000000</td>\n",
       "      <td>65.000000</td>\n",
       "      <td>35000.000000</td>\n",
       "      <td>1.044011e+07</td>\n",
       "      <td>48.000000</td>\n",
       "      <td>2048.030000</td>\n",
       "      <td>691.200000</td>\n",
       "      <td>1463.970000</td>\n",
       "      <td>41.120000</td>\n",
       "      <td>2019.000000</td>\n",
       "      <td>12.000000</td>\n",
       "      <td>31.000000</td>\n",
       "    </tr>\n",
       "  </tbody>\n",
       "</table>\n",
       "</div>"
      ],
      "text/plain": [
       "         Customer ID            Age  Income (USD/Month)  Transaction ID  \\\n",
       "count  359392.000000  359392.000000       359392.000000    3.593920e+05   \n",
       "mean    19191.652115      35.336705        15048.822937    1.022076e+07   \n",
       "std     21012.412463      12.594234         7969.409482    1.268058e+05   \n",
       "min         1.000000      18.000000         2000.000000    1.000001e+07   \n",
       "25%      2705.000000      25.000000         8424.000000    1.011081e+07   \n",
       "50%      7459.000000      33.000000        14685.000000    1.022104e+07   \n",
       "75%     36078.000000      42.000000        21035.000000    1.033094e+07   \n",
       "max     60000.000000      65.000000        35000.000000    1.044011e+07   \n",
       "\n",
       "        KM Travelled  Price Charged   Cost of Trip         Profit  \\\n",
       "count  359392.000000  359392.000000  359392.000000  359392.000000   \n",
       "mean       22.567254     423.443311     286.190113     137.253197   \n",
       "std        12.233526     274.378911     157.993661     160.311840   \n",
       "min         1.900000      15.600000      19.000000    -220.060000   \n",
       "25%        12.000000     206.437500     151.200000      28.010000   \n",
       "50%        22.440000     386.360000     282.480000      81.960000   \n",
       "75%        32.960000     583.660000     413.683200     190.030000   \n",
       "max        48.000000    2048.030000     691.200000    1463.970000   \n",
       "\n",
       "       Profit per km           Year          Month   Day_of_month  \n",
       "count  359392.000000  359392.000000  359392.000000  359392.000000  \n",
       "mean        6.083574    2017.052628       7.475851      15.659784  \n",
       "std         5.543494       0.802452       3.464767       8.797606  \n",
       "min        -5.000000    2016.000000       1.000000       1.000000  \n",
       "25%         2.000000    2016.000000       5.000000       8.000000  \n",
       "50%         4.470000    2017.000000       8.000000      16.000000  \n",
       "75%         9.170000    2018.000000      10.000000      23.000000  \n",
       "max        41.120000    2019.000000      12.000000      31.000000  "
      ]
     },
     "execution_count": 58,
     "metadata": {},
     "output_type": "execute_result"
    }
   ],
   "source": [
    "cab_data_customer_transaction_ids.describe() #look at min max values for Income and age. Min is $2000/mo max is $35,000/mo"
   ]
  },
  {
   "cell_type": "code",
   "execution_count": 59,
   "metadata": {},
   "outputs": [],
   "source": [
    "company_profits_rider_income = pd.DataFrame()\n",
    "\n",
    "income_range = {'<5K':[0,5000], '5K-10K':[5000,10000], '10K-15K':[10000, 15000],\n",
    "                '15K-20K':[15000, 20000], '20K-25K':[20000,25000], '25K-30K':[25000,30000], '>30K':[30000,100000]}\n",
    "\n",
    "for year in cab_data_customer_transaction_ids['Year'].unique():\n",
    "    for company in cab_data_customer_transaction_ids['Company'].unique():\n",
    "        for income, inc_range in income_range.items():\n",
    "            mean_profit = cab_data_customer_transaction_ids[(cab_data_customer_transaction_ids['Year']==year) \n",
    "                                                       & (cab_data_customer_transaction_ids['Company']==company) \n",
    "                                                       & (cab_data_customer_transaction_ids['Income (USD/Month)']>=inc_range[0])\n",
    "                                                       & (cab_data_customer_transaction_ids['Income (USD/Month)']<inc_range[1])]['Profit per km'].mean()\n",
    "            mean_profit=round(mean_profit,2)   \n",
    "            company_profits_rider_income = company_profits_rider_income.append({'Year':year, 'Company':company, 'Income_range':income, \n",
    "                                                                         'Profit/km':mean_profit}, ignore_index=True)"
   ]
  },
  {
   "cell_type": "code",
   "execution_count": 60,
   "metadata": {
    "scrolled": true
   },
   "outputs": [
    {
     "data": {
      "text/html": [
       "<div>\n",
       "<style scoped>\n",
       "    .dataframe tbody tr th:only-of-type {\n",
       "        vertical-align: middle;\n",
       "    }\n",
       "\n",
       "    .dataframe tbody tr th {\n",
       "        vertical-align: top;\n",
       "    }\n",
       "\n",
       "    .dataframe thead th {\n",
       "        text-align: right;\n",
       "    }\n",
       "</style>\n",
       "<table border=\"1\" class=\"dataframe\">\n",
       "  <thead>\n",
       "    <tr style=\"text-align: right;\">\n",
       "      <th></th>\n",
       "      <th>Company</th>\n",
       "      <th>Income_range</th>\n",
       "      <th>Profit/km</th>\n",
       "      <th>Year</th>\n",
       "    </tr>\n",
       "  </thead>\n",
       "  <tbody>\n",
       "    <tr>\n",
       "      <th>0</th>\n",
       "      <td>Pink Cab</td>\n",
       "      <td>&lt;5K</td>\n",
       "      <td>2.92</td>\n",
       "      <td>2016.0</td>\n",
       "    </tr>\n",
       "    <tr>\n",
       "      <th>1</th>\n",
       "      <td>Pink Cab</td>\n",
       "      <td>5K-10K</td>\n",
       "      <td>3.01</td>\n",
       "      <td>2016.0</td>\n",
       "    </tr>\n",
       "    <tr>\n",
       "      <th>2</th>\n",
       "      <td>Pink Cab</td>\n",
       "      <td>10K-15K</td>\n",
       "      <td>2.95</td>\n",
       "      <td>2016.0</td>\n",
       "    </tr>\n",
       "    <tr>\n",
       "      <th>3</th>\n",
       "      <td>Pink Cab</td>\n",
       "      <td>15K-20K</td>\n",
       "      <td>3.12</td>\n",
       "      <td>2016.0</td>\n",
       "    </tr>\n",
       "    <tr>\n",
       "      <th>4</th>\n",
       "      <td>Pink Cab</td>\n",
       "      <td>20K-25K</td>\n",
       "      <td>3.02</td>\n",
       "      <td>2016.0</td>\n",
       "    </tr>\n",
       "  </tbody>\n",
       "</table>\n",
       "</div>"
      ],
      "text/plain": [
       "    Company Income_range  Profit/km    Year\n",
       "0  Pink Cab          <5K       2.92  2016.0\n",
       "1  Pink Cab       5K-10K       3.01  2016.0\n",
       "2  Pink Cab      10K-15K       2.95  2016.0\n",
       "3  Pink Cab      15K-20K       3.12  2016.0\n",
       "4  Pink Cab      20K-25K       3.02  2016.0"
      ]
     },
     "execution_count": 60,
     "metadata": {},
     "output_type": "execute_result"
    }
   ],
   "source": [
    "company_profits_rider_income.head()"
   ]
  },
  {
   "cell_type": "code",
   "execution_count": 61,
   "metadata": {
    "scrolled": true
   },
   "outputs": [
    {
     "data": {
      "image/png": "[encoded data removed]",
      "text/plain": [
       "<Figure size 1080x432 with 2 Axes>"
      ]
     },
     "metadata": {
      "needs_background": "light"
     },
     "output_type": "display_data"
    }
   ],
   "source": [
    "#plot customer income range for each company and for each year\n",
    "\n",
    "plt.subplots(1,2,figsize=(15,6))\n",
    "plt.subplot(1,2,1)\n",
    "sns.barplot(x= company_profits_rider_income['Year'], \n",
    "            y= company_profits_rider_income[company_profits_rider_income['Company']=='Pink Cab']['Profit/km'], \n",
    "            hue= company_profits_rider_income['Income_range'])\n",
    "plt.ylim(0,10)\n",
    "plt.title('Pink Cab', fontsize=15)\n",
    "plt.xlabel('YEAR', fontsize=13)\n",
    "plt.ylabel('PROFIT/Km', fontsize=13)\n",
    "plt.yticks(fontsize=12)\n",
    "plt.xticks(fontsize=12)\n",
    "plt.subplot(1,2,2)\n",
    "sns.barplot(x= company_profits_rider_income['Year'], \n",
    "            y= company_profits_rider_income[company_profits_rider_income['Company']=='Yellow Cab']['Profit/km'], \n",
    "            hue= company_profits_rider_income['Income_range'])\n",
    "plt.ylim(0,10)\n",
    "plt.xlabel('YEAR', fontsize=13)\n",
    "plt.ylabel('PROFIT/Km', fontsize=13)\n",
    "plt.yticks(fontsize=12)\n",
    "plt.xticks(fontsize=12)\n",
    "plt.title('Yellow Cab', fontsize=15)\n",
    "plt.show()"
   ]
  },
  {
   "cell_type": "markdown",
   "metadata": {},
   "source": [
    "There is no difference in the profit/km from any of the income levels"
   ]
  },
  {
   "cell_type": "markdown",
   "metadata": {},
   "source": [
    "## Look at how monthly income of the rider relate to the number of rides for each company"
   ]
  },
  {
   "cell_type": "code",
   "execution_count": 62,
   "metadata": {},
   "outputs": [],
   "source": [
    "rider_income = pd.DataFrame()\n",
    "\n",
    "income_range = {'<5K':[0,5000], '5K-10K':[5000,10000], '10K-15K':[10000, 15000],\n",
    "                '15K-20K':[15000, 20000], '20K-25K':[20000,25000], '25K-30K':[25000,30000], '>30K':[30000,100000]}\n",
    "\n",
    "for year in cab_data_customer_transaction_ids['Year'].unique():\n",
    "    for company in cab_data_customer_transaction_ids['Company'].unique():\n",
    "        for income, inc_range in income_range.items():\n",
    "            num_cust = cab_data_customer_transaction_ids[(cab_data_customer_transaction_ids['Year']==year) \n",
    "                                                       & (cab_data_customer_transaction_ids['Company']==company) \n",
    "                                                       & (cab_data_customer_transaction_ids['Income (USD/Month)']>=inc_range[0])\n",
    "                                                       & (cab_data_customer_transaction_ids['Income (USD/Month)']<inc_range[1])]['Gender'].count()\n",
    "               \n",
    "            rider_income = rider_income.append({'Year':year, 'Company':company, 'Income_range':income, \n",
    "                                                                         'Num_rides':num_cust}, ignore_index=True)"
   ]
  },
  {
   "cell_type": "code",
   "execution_count": 63,
   "metadata": {},
   "outputs": [
    {
     "data": {
      "text/html": [
       "<div>\n",
       "<style scoped>\n",
       "    .dataframe tbody tr th:only-of-type {\n",
       "        vertical-align: middle;\n",
       "    }\n",
       "\n",
       "    .dataframe tbody tr th {\n",
       "        vertical-align: top;\n",
       "    }\n",
       "\n",
       "    .dataframe thead th {\n",
       "        text-align: right;\n",
       "    }\n",
       "</style>\n",
       "<table border=\"1\" class=\"dataframe\">\n",
       "  <thead>\n",
       "    <tr style=\"text-align: right;\">\n",
       "      <th></th>\n",
       "      <th>Company</th>\n",
       "      <th>Income_range</th>\n",
       "      <th>Num_rides</th>\n",
       "      <th>Year</th>\n",
       "    </tr>\n",
       "  </thead>\n",
       "  <tbody>\n",
       "    <tr>\n",
       "      <th>0</th>\n",
       "      <td>Pink Cab</td>\n",
       "      <td>&lt;5K</td>\n",
       "      <td>2944.0</td>\n",
       "      <td>2016.0</td>\n",
       "    </tr>\n",
       "    <tr>\n",
       "      <th>1</th>\n",
       "      <td>Pink Cab</td>\n",
       "      <td>5K-10K</td>\n",
       "      <td>4818.0</td>\n",
       "      <td>2016.0</td>\n",
       "    </tr>\n",
       "    <tr>\n",
       "      <th>2</th>\n",
       "      <td>Pink Cab</td>\n",
       "      <td>10K-15K</td>\n",
       "      <td>4791.0</td>\n",
       "      <td>2016.0</td>\n",
       "    </tr>\n",
       "    <tr>\n",
       "      <th>3</th>\n",
       "      <td>Pink Cab</td>\n",
       "      <td>15K-20K</td>\n",
       "      <td>4998.0</td>\n",
       "      <td>2016.0</td>\n",
       "    </tr>\n",
       "    <tr>\n",
       "      <th>4</th>\n",
       "      <td>Pink Cab</td>\n",
       "      <td>20K-25K</td>\n",
       "      <td>4959.0</td>\n",
       "      <td>2016.0</td>\n",
       "    </tr>\n",
       "  </tbody>\n",
       "</table>\n",
       "</div>"
      ],
      "text/plain": [
       "    Company Income_range  Num_rides    Year\n",
       "0  Pink Cab          <5K     2944.0  2016.0\n",
       "1  Pink Cab       5K-10K     4818.0  2016.0\n",
       "2  Pink Cab      10K-15K     4791.0  2016.0\n",
       "3  Pink Cab      15K-20K     4998.0  2016.0\n",
       "4  Pink Cab      20K-25K     4959.0  2016.0"
      ]
     },
     "execution_count": 63,
     "metadata": {},
     "output_type": "execute_result"
    }
   ],
   "source": [
    "rider_income.head()"
   ]
  },
  {
   "cell_type": "code",
   "execution_count": 64,
   "metadata": {},
   "outputs": [
    {
     "data": {
      "image/png": "[encoded data removed]",
      "text/plain": [
       "<Figure size 1080x432 with 2 Axes>"
      ]
     },
     "metadata": {
      "needs_background": "light"
     },
     "output_type": "display_data"
    }
   ],
   "source": [
    "#plot customer income range for each company and for each year\n",
    "\n",
    "plt.subplots(1,2,figsize=(15,6))\n",
    "plt.subplot(1,2,1)\n",
    "sns.barplot(x= rider_income['Year'], \n",
    "            y= rider_income[rider_income['Company']=='Pink Cab']['Num_rides'], \n",
    "            hue= rider_income['Income_range'])\n",
    "plt.ylim(0,20000)\n",
    "plt.title('Pink Cab', fontsize=15)\n",
    "plt.xlabel('YEAR', fontsize=13)\n",
    "plt.ylabel('NUM RIDES', fontsize=13)\n",
    "plt.yticks(fontsize=12)\n",
    "plt.xticks(fontsize=12)\n",
    "plt.subplot(1,2,2)\n",
    "sns.barplot(x= rider_income['Year'], \n",
    "            y= rider_income[rider_income['Company']=='Yellow Cab']['Num_rides'], \n",
    "            hue= rider_income['Income_range'])\n",
    "plt.ylim(0,20000)\n",
    "plt.xlabel('YEAR', fontsize=13)\n",
    "plt.ylabel('NUM RIDES', fontsize=13)\n",
    "plt.yticks(fontsize=12)\n",
    "plt.xticks(fontsize=12)\n",
    "plt.title('Yellow Cab', fontsize=15)\n",
    "plt.show()"
   ]
  },
  {
   "cell_type": "markdown",
   "metadata": {},
   "source": [
    "Customers with monthly incomes less than $5000/month are less likely to hitch rides with either company compared those making between $5000 - $25000/month. Those making above $25000/month are the least likely customers of all. "
   ]
  },
  {
   "cell_type": "markdown",
   "metadata": {},
   "source": [
    "## Look at how the age of the rider relate to the number of rides "
   ]
  },
  {
   "cell_type": "code",
   "execution_count": 65,
   "metadata": {},
   "outputs": [
    {
     "name": "stdout",
     "output_type": "stream",
     "text": [
      "{'<20': [0, 20], '20-30': [20, 30], '30-40': [30, 40], '40-50': [40, 50], '50-60': [50, 60], '>60': [60, 100]}\n",
      "<20 [0, 20]\n",
      "20-30 [20, 30]\n",
      "30-40 [30, 40]\n",
      "40-50 [40, 50]\n",
      "50-60 [50, 60]\n",
      ">60 [60, 100]\n"
     ]
    }
   ],
   "source": [
    "age_range = {'<20':[0,20], '20-30':[20,30], '30-40':[30, 40],\n",
    "                '40-50':[40, 50], '50-60':[50,60], '>60':[60,100]}\n",
    "\n",
    "print(age_range)\n",
    "for age, age_range in age_range.items():\n",
    "    print(age, age_range)"
   ]
  },
  {
   "cell_type": "code",
   "execution_count": 66,
   "metadata": {},
   "outputs": [],
   "source": [
    "rider_age = pd.DataFrame()\n",
    "\n",
    "age_range = {'<20':[0,20], '20-30':[20,30], '30-40':[30, 40],\n",
    "                '40-50':[40, 50], '50-60':[50,60], '>60':[60,100]}\n",
    "\n",
    "for year in cab_data_customer_transaction_ids['Year'].unique():\n",
    "    for company in cab_data_customer_transaction_ids['Company'].unique():\n",
    "        for age, a_range in age_range.items():\n",
    "                                    \n",
    "            num_cust = cab_data_customer_transaction_ids[(cab_data_customer_transaction_ids['Year']==year) \n",
    "                                                       & (cab_data_customer_transaction_ids['Company']==company) \n",
    "                                                       & (cab_data_customer_transaction_ids['Age']>=a_range[0])\n",
    "                                                       & (cab_data_customer_transaction_ids['Age']<a_range[1])]['Age'].count()\n",
    "               \n",
    "            rider_age = rider_age.append({'Year':year, 'Company':company, 'Age_range':age, \n",
    "                                                                         'Num_rides':num_cust}, ignore_index=True)"
   ]
  },
  {
   "cell_type": "code",
   "execution_count": 67,
   "metadata": {},
   "outputs": [
    {
     "data": {
      "text/html": [
       "<div>\n",
       "<style scoped>\n",
       "    .dataframe tbody tr th:only-of-type {\n",
       "        vertical-align: middle;\n",
       "    }\n",
       "\n",
       "    .dataframe tbody tr th {\n",
       "        vertical-align: top;\n",
       "    }\n",
       "\n",
       "    .dataframe thead th {\n",
       "        text-align: right;\n",
       "    }\n",
       "</style>\n",
       "<table border=\"1\" class=\"dataframe\">\n",
       "  <thead>\n",
       "    <tr style=\"text-align: right;\">\n",
       "      <th></th>\n",
       "      <th>Age_range</th>\n",
       "      <th>Company</th>\n",
       "      <th>Num_rides</th>\n",
       "      <th>Year</th>\n",
       "    </tr>\n",
       "  </thead>\n",
       "  <tbody>\n",
       "    <tr>\n",
       "      <th>0</th>\n",
       "      <td>&lt;20</td>\n",
       "      <td>Pink Cab</td>\n",
       "      <td>1609.0</td>\n",
       "      <td>2016.0</td>\n",
       "    </tr>\n",
       "    <tr>\n",
       "      <th>1</th>\n",
       "      <td>20-30</td>\n",
       "      <td>Pink Cab</td>\n",
       "      <td>8002.0</td>\n",
       "      <td>2016.0</td>\n",
       "    </tr>\n",
       "    <tr>\n",
       "      <th>2</th>\n",
       "      <td>30-40</td>\n",
       "      <td>Pink Cab</td>\n",
       "      <td>7761.0</td>\n",
       "      <td>2016.0</td>\n",
       "    </tr>\n",
       "    <tr>\n",
       "      <th>3</th>\n",
       "      <td>40-50</td>\n",
       "      <td>Pink Cab</td>\n",
       "      <td>3152.0</td>\n",
       "      <td>2016.0</td>\n",
       "    </tr>\n",
       "    <tr>\n",
       "      <th>4</th>\n",
       "      <td>50-60</td>\n",
       "      <td>Pink Cab</td>\n",
       "      <td>2683.0</td>\n",
       "      <td>2016.0</td>\n",
       "    </tr>\n",
       "  </tbody>\n",
       "</table>\n",
       "</div>"
      ],
      "text/plain": [
       "  Age_range   Company  Num_rides    Year\n",
       "0       <20  Pink Cab     1609.0  2016.0\n",
       "1     20-30  Pink Cab     8002.0  2016.0\n",
       "2     30-40  Pink Cab     7761.0  2016.0\n",
       "3     40-50  Pink Cab     3152.0  2016.0\n",
       "4     50-60  Pink Cab     2683.0  2016.0"
      ]
     },
     "execution_count": 67,
     "metadata": {},
     "output_type": "execute_result"
    }
   ],
   "source": [
    "rider_age.head()"
   ]
  },
  {
   "cell_type": "code",
   "execution_count": 68,
   "metadata": {},
   "outputs": [
    {
     "data": {
      "image/png": "[encoded data removed]",
      "text/plain": [
       "<Figure size 1080x432 with 2 Axes>"
      ]
     },
     "metadata": {
      "needs_background": "light"
     },
     "output_type": "display_data"
    }
   ],
   "source": [
    "#plot customer age range for each company and for each year\n",
    "\n",
    "plt.subplots(1,2,figsize=(15,6))\n",
    "plt.subplot(1,2,1)\n",
    "sns.barplot(x= rider_age['Year'], \n",
    "            y= rider_age[rider_age['Company']=='Pink Cab']['Num_rides'], \n",
    "            hue= rider_age['Age_range'])\n",
    "plt.ylim(0,40000)\n",
    "plt.title('Pink Cab', fontsize=15)\n",
    "plt.xlabel('YEAR', fontsize=13)\n",
    "plt.ylabel('NUM RIDES', fontsize=13)\n",
    "plt.yticks(fontsize=12)\n",
    "plt.xticks(fontsize=12)\n",
    "plt.subplot(1,2,2)\n",
    "sns.barplot(x= rider_age['Year'], \n",
    "            y= rider_age[rider_age['Company']=='Yellow Cab']['Num_rides'], \n",
    "            hue= rider_age['Age_range'])\n",
    "plt.ylim(0,40000)\n",
    "plt.xlabel('YEAR', fontsize=13)\n",
    "plt.ylabel('NUM RIDES', fontsize=13)\n",
    "plt.yticks(fontsize=12)\n",
    "plt.xticks(fontsize=12)\n",
    "plt.title('Yellow Cab', fontsize=15)\n",
    "plt.show()"
   ]
  },
  {
   "cell_type": "markdown",
   "metadata": {},
   "source": [
    "Customers aged 20 to 40 years are most likely to take a cab compared to other age groups"
   ]
  },
  {
   "cell_type": "markdown",
   "metadata": {},
   "source": [
    "### Look at how the age of the rider relate to the profit/Km"
   ]
  },
  {
   "cell_type": "code",
   "execution_count": 69,
   "metadata": {},
   "outputs": [],
   "source": [
    "profit_rider_age = pd.DataFrame()\n",
    "\n",
    "age_range = {'<20':[0,20], '20-30':[20,30], '30-40':[30, 40],\n",
    "                '40-50':[40, 50], '50-60':[50,60], '>60':[60,100]}\n",
    "\n",
    "for year in cab_data_customer_transaction_ids['Year'].unique():\n",
    "    for company in cab_data_customer_transaction_ids['Company'].unique():\n",
    "        for age, a_range in age_range.items():\n",
    "                                    \n",
    "            mean_profit = cab_data_customer_transaction_ids[(cab_data_customer_transaction_ids['Year']==year) \n",
    "                                                       & (cab_data_customer_transaction_ids['Company']==company) \n",
    "                                                       & (cab_data_customer_transaction_ids['Age']>=a_range[0])\n",
    "                                                       & (cab_data_customer_transaction_ids['Age']<a_range[1])]['Profit per km'].mean()\n",
    "               \n",
    "            profit_rider_age = profit_rider_age.append({'Year':year, 'Company':company, 'Age_range':age, \n",
    "                                                                         'Profit/Km':mean_profit}, ignore_index=True)"
   ]
  },
  {
   "cell_type": "code",
   "execution_count": 70,
   "metadata": {
    "scrolled": true
   },
   "outputs": [
    {
     "data": {
      "text/html": [
       "<div>\n",
       "<style scoped>\n",
       "    .dataframe tbody tr th:only-of-type {\n",
       "        vertical-align: middle;\n",
       "    }\n",
       "\n",
       "    .dataframe tbody tr th {\n",
       "        vertical-align: top;\n",
       "    }\n",
       "\n",
       "    .dataframe thead th {\n",
       "        text-align: right;\n",
       "    }\n",
       "</style>\n",
       "<table border=\"1\" class=\"dataframe\">\n",
       "  <thead>\n",
       "    <tr style=\"text-align: right;\">\n",
       "      <th></th>\n",
       "      <th>Age_range</th>\n",
       "      <th>Company</th>\n",
       "      <th>Profit/Km</th>\n",
       "      <th>Year</th>\n",
       "    </tr>\n",
       "  </thead>\n",
       "  <tbody>\n",
       "    <tr>\n",
       "      <th>0</th>\n",
       "      <td>&lt;20</td>\n",
       "      <td>Pink Cab</td>\n",
       "      <td>3.030491</td>\n",
       "      <td>2016.0</td>\n",
       "    </tr>\n",
       "    <tr>\n",
       "      <th>1</th>\n",
       "      <td>20-30</td>\n",
       "      <td>Pink Cab</td>\n",
       "      <td>3.039020</td>\n",
       "      <td>2016.0</td>\n",
       "    </tr>\n",
       "    <tr>\n",
       "      <th>2</th>\n",
       "      <td>30-40</td>\n",
       "      <td>Pink Cab</td>\n",
       "      <td>2.999175</td>\n",
       "      <td>2016.0</td>\n",
       "    </tr>\n",
       "    <tr>\n",
       "      <th>3</th>\n",
       "      <td>40-50</td>\n",
       "      <td>Pink Cab</td>\n",
       "      <td>2.927985</td>\n",
       "      <td>2016.0</td>\n",
       "    </tr>\n",
       "    <tr>\n",
       "      <th>4</th>\n",
       "      <td>50-60</td>\n",
       "      <td>Pink Cab</td>\n",
       "      <td>3.010365</td>\n",
       "      <td>2016.0</td>\n",
       "    </tr>\n",
       "  </tbody>\n",
       "</table>\n",
       "</div>"
      ],
      "text/plain": [
       "  Age_range   Company  Profit/Km    Year\n",
       "0       <20  Pink Cab   3.030491  2016.0\n",
       "1     20-30  Pink Cab   3.039020  2016.0\n",
       "2     30-40  Pink Cab   2.999175  2016.0\n",
       "3     40-50  Pink Cab   2.927985  2016.0\n",
       "4     50-60  Pink Cab   3.010365  2016.0"
      ]
     },
     "execution_count": 70,
     "metadata": {},
     "output_type": "execute_result"
    }
   ],
   "source": [
    "profit_rider_age.head()"
   ]
  },
  {
   "cell_type": "code",
   "execution_count": 71,
   "metadata": {},
   "outputs": [
    {
     "data": {
      "image/png": "[encoded data removed]",
      "text/plain": [
       "<Figure size 1080x432 with 2 Axes>"
      ]
     },
     "metadata": {
      "needs_background": "light"
     },
     "output_type": "display_data"
    }
   ],
   "source": [
    "#plot profit/km for each customer age range for each company and for each year\n",
    "\n",
    "plt.subplots(1,2,figsize=(15,6))\n",
    "plt.subplot(1,2,1)\n",
    "sns.barplot(x= profit_rider_age['Year'], \n",
    "            y= profit_rider_age[profit_rider_age['Company']=='Pink Cab']['Profit/Km'], \n",
    "            hue= profit_rider_age['Age_range'])\n",
    "plt.ylim(0,10)\n",
    "plt.title('Pink Cab', fontsize=15)\n",
    "plt.xlabel('YEAR', fontsize=13)\n",
    "plt.ylabel('PROFIT/Km', fontsize=13)\n",
    "plt.yticks(fontsize=12)\n",
    "plt.xticks(fontsize=12)\n",
    "plt.subplot(1,2,2)\n",
    "sns.barplot(x= profit_rider_age['Year'], \n",
    "            y= profit_rider_age[profit_rider_age['Company']=='Yellow Cab']['Profit/Km'], \n",
    "            hue= profit_rider_age['Age_range'])\n",
    "plt.ylim(0,10)\n",
    "plt.xlabel('YEAR', fontsize=13)\n",
    "plt.ylabel('PROFIT/Km', fontsize=13)\n",
    "plt.yticks(fontsize=12)\n",
    "plt.xticks(fontsize=12)\n",
    "plt.title('Yellow Cab', fontsize=15)\n",
    "plt.show()"
   ]
  },
  {
   "cell_type": "markdown",
   "metadata": {},
   "source": [
    "## Is there any seasonality to the number of rides for each cab company?"
   ]
  },
  {
   "cell_type": "code",
   "execution_count": 72,
   "metadata": {},
   "outputs": [
    {
     "data": {
      "text/html": [
       "<div>\n",
       "<style scoped>\n",
       "    .dataframe tbody tr th:only-of-type {\n",
       "        vertical-align: middle;\n",
       "    }\n",
       "\n",
       "    .dataframe tbody tr th {\n",
       "        vertical-align: top;\n",
       "    }\n",
       "\n",
       "    .dataframe thead th {\n",
       "        text-align: right;\n",
       "    }\n",
       "</style>\n",
       "<table border=\"1\" class=\"dataframe\">\n",
       "  <thead>\n",
       "    <tr style=\"text-align: right;\">\n",
       "      <th></th>\n",
       "      <th>Customer ID</th>\n",
       "      <th>Gender</th>\n",
       "      <th>Age</th>\n",
       "      <th>Income (USD/Month)</th>\n",
       "      <th>Transaction ID</th>\n",
       "      <th>Payment_Mode</th>\n",
       "      <th>Company</th>\n",
       "      <th>City</th>\n",
       "      <th>KM Travelled</th>\n",
       "      <th>Price Charged</th>\n",
       "      <th>Cost of Trip</th>\n",
       "      <th>Date</th>\n",
       "      <th>Profit</th>\n",
       "      <th>Profit per km</th>\n",
       "      <th>Year</th>\n",
       "      <th>Month</th>\n",
       "      <th>Day_of_month</th>\n",
       "      <th>Day_of_week</th>\n",
       "    </tr>\n",
       "  </thead>\n",
       "  <tbody>\n",
       "    <tr>\n",
       "      <th>0</th>\n",
       "      <td>29290</td>\n",
       "      <td>Male</td>\n",
       "      <td>28</td>\n",
       "      <td>10813</td>\n",
       "      <td>10000011</td>\n",
       "      <td>Card</td>\n",
       "      <td>Pink Cab</td>\n",
       "      <td>ATLANTA GA</td>\n",
       "      <td>30.45</td>\n",
       "      <td>370.95</td>\n",
       "      <td>313.6350</td>\n",
       "      <td>2016-01-10</td>\n",
       "      <td>57.32</td>\n",
       "      <td>1.88</td>\n",
       "      <td>2016</td>\n",
       "      <td>1</td>\n",
       "      <td>10</td>\n",
       "      <td>Sunday</td>\n",
       "    </tr>\n",
       "    <tr>\n",
       "      <th>1</th>\n",
       "      <td>29290</td>\n",
       "      <td>Male</td>\n",
       "      <td>28</td>\n",
       "      <td>10813</td>\n",
       "      <td>10351127</td>\n",
       "      <td>Cash</td>\n",
       "      <td>Yellow Cab</td>\n",
       "      <td>ATLANTA GA</td>\n",
       "      <td>26.19</td>\n",
       "      <td>598.70</td>\n",
       "      <td>317.4228</td>\n",
       "      <td>2018-07-23</td>\n",
       "      <td>281.28</td>\n",
       "      <td>10.74</td>\n",
       "      <td>2018</td>\n",
       "      <td>7</td>\n",
       "      <td>23</td>\n",
       "      <td>Monday</td>\n",
       "    </tr>\n",
       "    <tr>\n",
       "      <th>2</th>\n",
       "      <td>29290</td>\n",
       "      <td>Male</td>\n",
       "      <td>28</td>\n",
       "      <td>10813</td>\n",
       "      <td>10412921</td>\n",
       "      <td>Card</td>\n",
       "      <td>Yellow Cab</td>\n",
       "      <td>ATLANTA GA</td>\n",
       "      <td>42.55</td>\n",
       "      <td>792.05</td>\n",
       "      <td>597.4020</td>\n",
       "      <td>2018-11-25</td>\n",
       "      <td>194.65</td>\n",
       "      <td>4.57</td>\n",
       "      <td>2018</td>\n",
       "      <td>11</td>\n",
       "      <td>25</td>\n",
       "      <td>Sunday</td>\n",
       "    </tr>\n",
       "    <tr>\n",
       "      <th>3</th>\n",
       "      <td>27703</td>\n",
       "      <td>Male</td>\n",
       "      <td>27</td>\n",
       "      <td>9237</td>\n",
       "      <td>10000012</td>\n",
       "      <td>Card</td>\n",
       "      <td>Pink Cab</td>\n",
       "      <td>ATLANTA GA</td>\n",
       "      <td>28.62</td>\n",
       "      <td>358.52</td>\n",
       "      <td>334.8540</td>\n",
       "      <td>2016-01-08</td>\n",
       "      <td>23.67</td>\n",
       "      <td>0.83</td>\n",
       "      <td>2016</td>\n",
       "      <td>1</td>\n",
       "      <td>8</td>\n",
       "      <td>Friday</td>\n",
       "    </tr>\n",
       "    <tr>\n",
       "      <th>4</th>\n",
       "      <td>27703</td>\n",
       "      <td>Male</td>\n",
       "      <td>27</td>\n",
       "      <td>9237</td>\n",
       "      <td>10320494</td>\n",
       "      <td>Card</td>\n",
       "      <td>Yellow Cab</td>\n",
       "      <td>ATLANTA GA</td>\n",
       "      <td>36.38</td>\n",
       "      <td>721.10</td>\n",
       "      <td>467.1192</td>\n",
       "      <td>2018-04-23</td>\n",
       "      <td>253.98</td>\n",
       "      <td>6.98</td>\n",
       "      <td>2018</td>\n",
       "      <td>4</td>\n",
       "      <td>23</td>\n",
       "      <td>Monday</td>\n",
       "    </tr>\n",
       "  </tbody>\n",
       "</table>\n",
       "</div>"
      ],
      "text/plain": [
       "   Customer ID Gender  Age  Income (USD/Month)  Transaction ID Payment_Mode  \\\n",
       "0        29290   Male   28               10813        10000011         Card   \n",
       "1        29290   Male   28               10813        10351127         Cash   \n",
       "2        29290   Male   28               10813        10412921         Card   \n",
       "3        27703   Male   27                9237        10000012         Card   \n",
       "4        27703   Male   27                9237        10320494         Card   \n",
       "\n",
       "      Company        City  KM Travelled  Price Charged  Cost of Trip  \\\n",
       "0    Pink Cab  ATLANTA GA         30.45         370.95      313.6350   \n",
       "1  Yellow Cab  ATLANTA GA         26.19         598.70      317.4228   \n",
       "2  Yellow Cab  ATLANTA GA         42.55         792.05      597.4020   \n",
       "3    Pink Cab  ATLANTA GA         28.62         358.52      334.8540   \n",
       "4  Yellow Cab  ATLANTA GA         36.38         721.10      467.1192   \n",
       "\n",
       "        Date  Profit  Profit per km  Year  Month  Day_of_month Day_of_week  \n",
       "0 2016-01-10   57.32           1.88  2016      1            10      Sunday  \n",
       "1 2018-07-23  281.28          10.74  2018      7            23      Monday  \n",
       "2 2018-11-25  194.65           4.57  2018     11            25      Sunday  \n",
       "3 2016-01-08   23.67           0.83  2016      1             8      Friday  \n",
       "4 2018-04-23  253.98           6.98  2018      4            23      Monday  "
      ]
     },
     "execution_count": 72,
     "metadata": {},
     "output_type": "execute_result"
    }
   ],
   "source": [
    "cab_data_customer_transaction_ids.head()"
   ]
  },
  {
   "cell_type": "code",
   "execution_count": 73,
   "metadata": {},
   "outputs": [],
   "source": [
    "#calculate total rides for each company for each month of the year\n",
    "ride_month = pd.DataFrame()\n",
    "\n",
    "months = [1,2,3,4,5,6,7,8,9,10,11,12]\n",
    "\n",
    "for company in cab_data_customer_transaction_ids['Company'].unique():\n",
    "    for month in months:\n",
    "        num_rides = cab_data_customer_transaction_ids[(cab_data_customer_transaction_ids['Company']==company)\n",
    "                                                     & (cab_data_customer_transaction_ids['Month']==month)]['Month'].count()\n",
    "        ride_month = ride_month.append({'Company':company, 'Month':month, 'Num_rides':num_rides}, ignore_index=True)"
   ]
  },
  {
   "cell_type": "code",
   "execution_count": 74,
   "metadata": {},
   "outputs": [
    {
     "data": {
      "text/html": [
       "<div>\n",
       "<style scoped>\n",
       "    .dataframe tbody tr th:only-of-type {\n",
       "        vertical-align: middle;\n",
       "    }\n",
       "\n",
       "    .dataframe tbody tr th {\n",
       "        vertical-align: top;\n",
       "    }\n",
       "\n",
       "    .dataframe thead th {\n",
       "        text-align: right;\n",
       "    }\n",
       "</style>\n",
       "<table border=\"1\" class=\"dataframe\">\n",
       "  <thead>\n",
       "    <tr style=\"text-align: right;\">\n",
       "      <th></th>\n",
       "      <th>Company</th>\n",
       "      <th>Month</th>\n",
       "      <th>Num_rides</th>\n",
       "    </tr>\n",
       "  </thead>\n",
       "  <tbody>\n",
       "    <tr>\n",
       "      <th>0</th>\n",
       "      <td>Pink Cab</td>\n",
       "      <td>1.0</td>\n",
       "      <td>5502.0</td>\n",
       "    </tr>\n",
       "    <tr>\n",
       "      <th>1</th>\n",
       "      <td>Pink Cab</td>\n",
       "      <td>2.0</td>\n",
       "      <td>3347.0</td>\n",
       "    </tr>\n",
       "    <tr>\n",
       "      <th>2</th>\n",
       "      <td>Pink Cab</td>\n",
       "      <td>3.0</td>\n",
       "      <td>4067.0</td>\n",
       "    </tr>\n",
       "    <tr>\n",
       "      <th>3</th>\n",
       "      <td>Pink Cab</td>\n",
       "      <td>4.0</td>\n",
       "      <td>4104.0</td>\n",
       "    </tr>\n",
       "    <tr>\n",
       "      <th>4</th>\n",
       "      <td>Pink Cab</td>\n",
       "      <td>5.0</td>\n",
       "      <td>5058.0</td>\n",
       "    </tr>\n",
       "  </tbody>\n",
       "</table>\n",
       "</div>"
      ],
      "text/plain": [
       "    Company  Month  Num_rides\n",
       "0  Pink Cab    1.0     5502.0\n",
       "1  Pink Cab    2.0     3347.0\n",
       "2  Pink Cab    3.0     4067.0\n",
       "3  Pink Cab    4.0     4104.0\n",
       "4  Pink Cab    5.0     5058.0"
      ]
     },
     "execution_count": 74,
     "metadata": {},
     "output_type": "execute_result"
    }
   ],
   "source": [
    "ride_month.head()"
   ]
  },
  {
   "cell_type": "code",
   "execution_count": 75,
   "metadata": {
    "scrolled": true
   },
   "outputs": [
    {
     "data": {
      "image/png": "[encoded data removed]",
      "text/plain": [
       "<Figure size 1080x432 with 2 Axes>"
      ]
     },
     "metadata": {
      "needs_background": "light"
     },
     "output_type": "display_data"
    }
   ],
   "source": [
    "#plot number of rides for each company and for each month\n",
    "\n",
    "plt.subplots(1,2,figsize=(15,6))\n",
    "plt.subplot(1,2,1)\n",
    "sns.barplot(x= ride_month['Month'], \n",
    "            y= ride_month[ride_month['Company']=='Pink Cab']['Num_rides'])\n",
    "plt.ylim(0,40000)\n",
    "plt.title('Pink Cab', fontsize=15)\n",
    "plt.xlabel('MONTH', fontsize=13)\n",
    "plt.ylabel('NUM RIDES', fontsize=13)\n",
    "plt.yticks(fontsize=12)\n",
    "plt.xticks(fontsize=12)\n",
    "plt.subplot(1,2,2)\n",
    "sns.barplot(x= ride_month['Month'], \n",
    "            y= ride_month[ride_month['Company']=='Yellow Cab']['Num_rides'])\n",
    "plt.ylim(0,40000)\n",
    "plt.xlabel('MONTH', fontsize=13)\n",
    "plt.ylabel('NUM RIDES', fontsize=13)\n",
    "plt.yticks(fontsize=12)\n",
    "plt.xticks(fontsize=12)\n",
    "plt.title('Yellow Cab', fontsize=15)\n",
    "plt.show()"
   ]
  },
  {
   "cell_type": "markdown",
   "metadata": {},
   "source": [
    "Over 12 months from January, there is an initial drop in the number of rides in February but then it gradually increases until December."
   ]
  },
  {
   "cell_type": "code",
   "execution_count": 76,
   "metadata": {},
   "outputs": [
    {
     "data": {
      "text/html": [
       "<div>\n",
       "<style scoped>\n",
       "    .dataframe tbody tr th:only-of-type {\n",
       "        vertical-align: middle;\n",
       "    }\n",
       "\n",
       "    .dataframe tbody tr th {\n",
       "        vertical-align: top;\n",
       "    }\n",
       "\n",
       "    .dataframe thead th {\n",
       "        text-align: right;\n",
       "    }\n",
       "</style>\n",
       "<table border=\"1\" class=\"dataframe\">\n",
       "  <thead>\n",
       "    <tr style=\"text-align: right;\">\n",
       "      <th></th>\n",
       "      <th>Customer ID</th>\n",
       "      <th>Gender</th>\n",
       "      <th>Age</th>\n",
       "      <th>Income (USD/Month)</th>\n",
       "      <th>Transaction ID</th>\n",
       "      <th>Payment_Mode</th>\n",
       "      <th>Company</th>\n",
       "      <th>City</th>\n",
       "      <th>KM Travelled</th>\n",
       "      <th>Price Charged</th>\n",
       "      <th>Cost of Trip</th>\n",
       "      <th>Date</th>\n",
       "      <th>Profit</th>\n",
       "      <th>Profit per km</th>\n",
       "      <th>Year</th>\n",
       "      <th>Month</th>\n",
       "      <th>Day_of_month</th>\n",
       "      <th>Day_of_week</th>\n",
       "    </tr>\n",
       "  </thead>\n",
       "  <tbody>\n",
       "    <tr>\n",
       "      <th>0</th>\n",
       "      <td>29290</td>\n",
       "      <td>Male</td>\n",
       "      <td>28</td>\n",
       "      <td>10813</td>\n",
       "      <td>10000011</td>\n",
       "      <td>Card</td>\n",
       "      <td>Pink Cab</td>\n",
       "      <td>ATLANTA GA</td>\n",
       "      <td>30.45</td>\n",
       "      <td>370.95</td>\n",
       "      <td>313.6350</td>\n",
       "      <td>2016-01-10</td>\n",
       "      <td>57.32</td>\n",
       "      <td>1.88</td>\n",
       "      <td>2016</td>\n",
       "      <td>1</td>\n",
       "      <td>10</td>\n",
       "      <td>Sunday</td>\n",
       "    </tr>\n",
       "    <tr>\n",
       "      <th>1</th>\n",
       "      <td>29290</td>\n",
       "      <td>Male</td>\n",
       "      <td>28</td>\n",
       "      <td>10813</td>\n",
       "      <td>10351127</td>\n",
       "      <td>Cash</td>\n",
       "      <td>Yellow Cab</td>\n",
       "      <td>ATLANTA GA</td>\n",
       "      <td>26.19</td>\n",
       "      <td>598.70</td>\n",
       "      <td>317.4228</td>\n",
       "      <td>2018-07-23</td>\n",
       "      <td>281.28</td>\n",
       "      <td>10.74</td>\n",
       "      <td>2018</td>\n",
       "      <td>7</td>\n",
       "      <td>23</td>\n",
       "      <td>Monday</td>\n",
       "    </tr>\n",
       "    <tr>\n",
       "      <th>2</th>\n",
       "      <td>29290</td>\n",
       "      <td>Male</td>\n",
       "      <td>28</td>\n",
       "      <td>10813</td>\n",
       "      <td>10412921</td>\n",
       "      <td>Card</td>\n",
       "      <td>Yellow Cab</td>\n",
       "      <td>ATLANTA GA</td>\n",
       "      <td>42.55</td>\n",
       "      <td>792.05</td>\n",
       "      <td>597.4020</td>\n",
       "      <td>2018-11-25</td>\n",
       "      <td>194.65</td>\n",
       "      <td>4.57</td>\n",
       "      <td>2018</td>\n",
       "      <td>11</td>\n",
       "      <td>25</td>\n",
       "      <td>Sunday</td>\n",
       "    </tr>\n",
       "    <tr>\n",
       "      <th>3</th>\n",
       "      <td>27703</td>\n",
       "      <td>Male</td>\n",
       "      <td>27</td>\n",
       "      <td>9237</td>\n",
       "      <td>10000012</td>\n",
       "      <td>Card</td>\n",
       "      <td>Pink Cab</td>\n",
       "      <td>ATLANTA GA</td>\n",
       "      <td>28.62</td>\n",
       "      <td>358.52</td>\n",
       "      <td>334.8540</td>\n",
       "      <td>2016-01-08</td>\n",
       "      <td>23.67</td>\n",
       "      <td>0.83</td>\n",
       "      <td>2016</td>\n",
       "      <td>1</td>\n",
       "      <td>8</td>\n",
       "      <td>Friday</td>\n",
       "    </tr>\n",
       "    <tr>\n",
       "      <th>4</th>\n",
       "      <td>27703</td>\n",
       "      <td>Male</td>\n",
       "      <td>27</td>\n",
       "      <td>9237</td>\n",
       "      <td>10320494</td>\n",
       "      <td>Card</td>\n",
       "      <td>Yellow Cab</td>\n",
       "      <td>ATLANTA GA</td>\n",
       "      <td>36.38</td>\n",
       "      <td>721.10</td>\n",
       "      <td>467.1192</td>\n",
       "      <td>2018-04-23</td>\n",
       "      <td>253.98</td>\n",
       "      <td>6.98</td>\n",
       "      <td>2018</td>\n",
       "      <td>4</td>\n",
       "      <td>23</td>\n",
       "      <td>Monday</td>\n",
       "    </tr>\n",
       "  </tbody>\n",
       "</table>\n",
       "</div>"
      ],
      "text/plain": [
       "   Customer ID Gender  Age  Income (USD/Month)  Transaction ID Payment_Mode  \\\n",
       "0        29290   Male   28               10813        10000011         Card   \n",
       "1        29290   Male   28               10813        10351127         Cash   \n",
       "2        29290   Male   28               10813        10412921         Card   \n",
       "3        27703   Male   27                9237        10000012         Card   \n",
       "4        27703   Male   27                9237        10320494         Card   \n",
       "\n",
       "      Company        City  KM Travelled  Price Charged  Cost of Trip  \\\n",
       "0    Pink Cab  ATLANTA GA         30.45         370.95      313.6350   \n",
       "1  Yellow Cab  ATLANTA GA         26.19         598.70      317.4228   \n",
       "2  Yellow Cab  ATLANTA GA         42.55         792.05      597.4020   \n",
       "3    Pink Cab  ATLANTA GA         28.62         358.52      334.8540   \n",
       "4  Yellow Cab  ATLANTA GA         36.38         721.10      467.1192   \n",
       "\n",
       "        Date  Profit  Profit per km  Year  Month  Day_of_month Day_of_week  \n",
       "0 2016-01-10   57.32           1.88  2016      1            10      Sunday  \n",
       "1 2018-07-23  281.28          10.74  2018      7            23      Monday  \n",
       "2 2018-11-25  194.65           4.57  2018     11            25      Sunday  \n",
       "3 2016-01-08   23.67           0.83  2016      1             8      Friday  \n",
       "4 2018-04-23  253.98           6.98  2018      4            23      Monday  "
      ]
     },
     "execution_count": 76,
     "metadata": {},
     "output_type": "execute_result"
    }
   ],
   "source": [
    "cab_data_customer_transaction_ids.head()"
   ]
  },
  {
   "cell_type": "code",
   "execution_count": 77,
   "metadata": {},
   "outputs": [],
   "source": [
    "#calculate the number of rides for each day of the month\n",
    "ride_day_of_month = pd.DataFrame()\n",
    "\n",
    "for company in cab_data_customer_transaction_ids['Company'].unique():\n",
    "    for day in np.sort(cab_data_customer_transaction_ids['Day_of_month'].unique()):\n",
    "        num_cust = cab_data_customer_transaction_ids[(cab_data_customer_transaction_ids['Company']==company) \n",
    "                                                       & (cab_data_customer_transaction_ids['Day_of_month']==day)]['Day_of_month'].count()\n",
    "        ride_day_of_month = ride_day_of_month.append({'Company':company, 'Day_of_month':str(day), 'Num_rides':num_cust}, ignore_index=True)"
   ]
  },
  {
   "cell_type": "code",
   "execution_count": 78,
   "metadata": {},
   "outputs": [
    {
     "data": {
      "text/html": [
       "<div>\n",
       "<style scoped>\n",
       "    .dataframe tbody tr th:only-of-type {\n",
       "        vertical-align: middle;\n",
       "    }\n",
       "\n",
       "    .dataframe tbody tr th {\n",
       "        vertical-align: top;\n",
       "    }\n",
       "\n",
       "    .dataframe thead th {\n",
       "        text-align: right;\n",
       "    }\n",
       "</style>\n",
       "<table border=\"1\" class=\"dataframe\">\n",
       "  <thead>\n",
       "    <tr style=\"text-align: right;\">\n",
       "      <th></th>\n",
       "      <th>Company</th>\n",
       "      <th>Day_of_month</th>\n",
       "      <th>Num_rides</th>\n",
       "    </tr>\n",
       "  </thead>\n",
       "  <tbody>\n",
       "    <tr>\n",
       "      <th>0</th>\n",
       "      <td>Pink Cab</td>\n",
       "      <td>1</td>\n",
       "      <td>2626.0</td>\n",
       "    </tr>\n",
       "    <tr>\n",
       "      <th>1</th>\n",
       "      <td>Pink Cab</td>\n",
       "      <td>2</td>\n",
       "      <td>2779.0</td>\n",
       "    </tr>\n",
       "    <tr>\n",
       "      <th>2</th>\n",
       "      <td>Pink Cab</td>\n",
       "      <td>3</td>\n",
       "      <td>2875.0</td>\n",
       "    </tr>\n",
       "    <tr>\n",
       "      <th>3</th>\n",
       "      <td>Pink Cab</td>\n",
       "      <td>4</td>\n",
       "      <td>2664.0</td>\n",
       "    </tr>\n",
       "    <tr>\n",
       "      <th>4</th>\n",
       "      <td>Pink Cab</td>\n",
       "      <td>5</td>\n",
       "      <td>3124.0</td>\n",
       "    </tr>\n",
       "  </tbody>\n",
       "</table>\n",
       "</div>"
      ],
      "text/plain": [
       "    Company Day_of_month  Num_rides\n",
       "0  Pink Cab            1     2626.0\n",
       "1  Pink Cab            2     2779.0\n",
       "2  Pink Cab            3     2875.0\n",
       "3  Pink Cab            4     2664.0\n",
       "4  Pink Cab            5     3124.0"
      ]
     },
     "execution_count": 78,
     "metadata": {},
     "output_type": "execute_result"
    }
   ],
   "source": [
    "ride_day_of_month.head()"
   ]
  },
  {
   "cell_type": "code",
   "execution_count": 79,
   "metadata": {},
   "outputs": [
    {
     "data": {
      "image/png": "[encoded data removed]",
      "text/plain": [
       "<Figure size 1080x432 with 2 Axes>"
      ]
     },
     "metadata": {
      "needs_background": "light"
     },
     "output_type": "display_data"
    }
   ],
   "source": [
    "#plot number of rides for each company and for each day of the month\n",
    "\n",
    "plt.subplots(1,2,figsize=(15,6))\n",
    "plt.subplot(1,2,1)\n",
    "sns.barplot(x= ride_day_of_month['Day_of_month'], \n",
    "            y= ride_day_of_month[ride_day_of_month['Company']=='Pink Cab']['Num_rides'])\n",
    "plt.ylim(0,5000)\n",
    "plt.title('Pink Cab', fontsize=15)\n",
    "plt.xlabel('DAY OF MONTH', fontsize=13)\n",
    "plt.ylabel('NUM RIDES', fontsize=13)\n",
    "plt.yticks(fontsize=12)\n",
    "plt.xticks(fontsize=12, rotation=90)\n",
    "plt.subplot(1,2,2)\n",
    "sns.barplot(x= ride_day_of_month['Day_of_month'], \n",
    "            y= ride_day_of_month[ride_day_of_month['Company']=='Yellow Cab']['Num_rides'])\n",
    "plt.ylim(0,15000)\n",
    "plt.xlabel('DAY OF MONTH', fontsize=13)\n",
    "plt.ylabel('NUM RIDES', fontsize=13)\n",
    "plt.yticks(fontsize=12)\n",
    "plt.xticks(fontsize=12, rotation=90)\n",
    "plt.title('Yellow Cab', fontsize=15)\n",
    "plt.show()"
   ]
  },
  {
   "cell_type": "markdown",
   "metadata": {},
   "source": [
    "There are spikes in demand for both companies on the 5th, 12th, 19th and 26th day of each month (i.e. every 7 days starting on the 5th)."
   ]
  },
  {
   "cell_type": "markdown",
   "metadata": {},
   "source": [
    "## For each city, and for each year, what are the fractions of cab customers serviced by each company?"
   ]
  },
  {
   "cell_type": "code",
   "execution_count": 80,
   "metadata": {},
   "outputs": [
    {
     "data": {
      "text/html": [
       "<div>\n",
       "<style scoped>\n",
       "    .dataframe tbody tr th:only-of-type {\n",
       "        vertical-align: middle;\n",
       "    }\n",
       "\n",
       "    .dataframe tbody tr th {\n",
       "        vertical-align: top;\n",
       "    }\n",
       "\n",
       "    .dataframe thead th {\n",
       "        text-align: right;\n",
       "    }\n",
       "</style>\n",
       "<table border=\"1\" class=\"dataframe\">\n",
       "  <thead>\n",
       "    <tr style=\"text-align: right;\">\n",
       "      <th></th>\n",
       "      <th>City</th>\n",
       "      <th>Population</th>\n",
       "      <th>Users</th>\n",
       "    </tr>\n",
       "  </thead>\n",
       "  <tbody>\n",
       "    <tr>\n",
       "      <th>0</th>\n",
       "      <td>NEW YORK NY</td>\n",
       "      <td>8,405,837</td>\n",
       "      <td>302,149</td>\n",
       "    </tr>\n",
       "    <tr>\n",
       "      <th>1</th>\n",
       "      <td>CHICAGO IL</td>\n",
       "      <td>1,955,130</td>\n",
       "      <td>164,468</td>\n",
       "    </tr>\n",
       "    <tr>\n",
       "      <th>2</th>\n",
       "      <td>LOS ANGELES CA</td>\n",
       "      <td>1,595,037</td>\n",
       "      <td>144,132</td>\n",
       "    </tr>\n",
       "    <tr>\n",
       "      <th>3</th>\n",
       "      <td>MIAMI FL</td>\n",
       "      <td>1,339,155</td>\n",
       "      <td>17,675</td>\n",
       "    </tr>\n",
       "    <tr>\n",
       "      <th>4</th>\n",
       "      <td>SILICON VALLEY</td>\n",
       "      <td>1,177,609</td>\n",
       "      <td>27,247</td>\n",
       "    </tr>\n",
       "    <tr>\n",
       "      <th>5</th>\n",
       "      <td>ORANGE COUNTY</td>\n",
       "      <td>1,030,185</td>\n",
       "      <td>12,994</td>\n",
       "    </tr>\n",
       "    <tr>\n",
       "      <th>6</th>\n",
       "      <td>SAN DIEGO CA</td>\n",
       "      <td>959,307</td>\n",
       "      <td>69,995</td>\n",
       "    </tr>\n",
       "    <tr>\n",
       "      <th>7</th>\n",
       "      <td>PHOENIX AZ</td>\n",
       "      <td>943,999</td>\n",
       "      <td>6,133</td>\n",
       "    </tr>\n",
       "    <tr>\n",
       "      <th>8</th>\n",
       "      <td>DALLAS TX</td>\n",
       "      <td>942,908</td>\n",
       "      <td>22,157</td>\n",
       "    </tr>\n",
       "    <tr>\n",
       "      <th>9</th>\n",
       "      <td>ATLANTA GA</td>\n",
       "      <td>814,885</td>\n",
       "      <td>24,701</td>\n",
       "    </tr>\n",
       "    <tr>\n",
       "      <th>10</th>\n",
       "      <td>DENVER CO</td>\n",
       "      <td>754,233</td>\n",
       "      <td>12,421</td>\n",
       "    </tr>\n",
       "    <tr>\n",
       "      <th>11</th>\n",
       "      <td>AUSTIN TX</td>\n",
       "      <td>698,371</td>\n",
       "      <td>14,978</td>\n",
       "    </tr>\n",
       "    <tr>\n",
       "      <th>12</th>\n",
       "      <td>SEATTLE WA</td>\n",
       "      <td>671,238</td>\n",
       "      <td>25,063</td>\n",
       "    </tr>\n",
       "    <tr>\n",
       "      <th>13</th>\n",
       "      <td>TUCSON AZ</td>\n",
       "      <td>631,442</td>\n",
       "      <td>5,712</td>\n",
       "    </tr>\n",
       "    <tr>\n",
       "      <th>14</th>\n",
       "      <td>SAN FRANCISCO CA</td>\n",
       "      <td>629,591</td>\n",
       "      <td>213,609</td>\n",
       "    </tr>\n",
       "    <tr>\n",
       "      <th>15</th>\n",
       "      <td>SACRAMENTO CA</td>\n",
       "      <td>545,776</td>\n",
       "      <td>7,044</td>\n",
       "    </tr>\n",
       "    <tr>\n",
       "      <th>16</th>\n",
       "      <td>PITTSBURGH PA</td>\n",
       "      <td>542,085</td>\n",
       "      <td>3,643</td>\n",
       "    </tr>\n",
       "    <tr>\n",
       "      <th>17</th>\n",
       "      <td>WASHINGTON DC</td>\n",
       "      <td>418,859</td>\n",
       "      <td>127,001</td>\n",
       "    </tr>\n",
       "    <tr>\n",
       "      <th>18</th>\n",
       "      <td>NASHVILLE TN</td>\n",
       "      <td>327,225</td>\n",
       "      <td>9,270</td>\n",
       "    </tr>\n",
       "    <tr>\n",
       "      <th>19</th>\n",
       "      <td>BOSTON MA</td>\n",
       "      <td>248,968</td>\n",
       "      <td>80,021</td>\n",
       "    </tr>\n",
       "  </tbody>\n",
       "</table>\n",
       "</div>"
      ],
      "text/plain": [
       "                City   Population      Users\n",
       "0        NEW YORK NY   8,405,837    302,149 \n",
       "1         CHICAGO IL   1,955,130    164,468 \n",
       "2     LOS ANGELES CA   1,595,037    144,132 \n",
       "3           MIAMI FL   1,339,155     17,675 \n",
       "4     SILICON VALLEY   1,177,609     27,247 \n",
       "5      ORANGE COUNTY   1,030,185     12,994 \n",
       "6       SAN DIEGO CA     959,307     69,995 \n",
       "7         PHOENIX AZ     943,999      6,133 \n",
       "8          DALLAS TX     942,908     22,157 \n",
       "9         ATLANTA GA     814,885     24,701 \n",
       "10         DENVER CO     754,233     12,421 \n",
       "11         AUSTIN TX     698,371     14,978 \n",
       "12        SEATTLE WA     671,238     25,063 \n",
       "13         TUCSON AZ     631,442      5,712 \n",
       "14  SAN FRANCISCO CA     629,591    213,609 \n",
       "15     SACRAMENTO CA     545,776      7,044 \n",
       "16     PITTSBURGH PA     542,085      3,643 \n",
       "17     WASHINGTON DC     418,859    127,001 \n",
       "18      NASHVILLE TN     327,225      9,270 \n",
       "19         BOSTON MA     248,968     80,021 "
      ]
     },
     "execution_count": 80,
     "metadata": {},
     "output_type": "execute_result"
    }
   ],
   "source": [
    "city_df"
   ]
  },
  {
   "cell_type": "code",
   "execution_count": 81,
   "metadata": {
    "scrolled": true
   },
   "outputs": [],
   "source": [
    "# how many cab customers are in each city? We make the assumption that the number of total cab users in each city are equal from\n",
    "# one year to the next. city_df #contains population and total cab user numbers data\n",
    "\n",
    "#the Users column values are strings with white spaces\n",
    "#therefore strip white spaces, remove commas in the number (','), and convert string value to integers\n",
    "city_df['Users'] = city_df['Users'].apply(lambda x: int(x.strip().replace(',', '')))"
   ]
  },
  {
   "cell_type": "code",
   "execution_count": 82,
   "metadata": {},
   "outputs": [
    {
     "data": {
      "text/plain": [
       "46148"
      ]
     },
     "execution_count": 82,
     "metadata": {},
     "output_type": "execute_result"
    }
   ],
   "source": [
    "cab_data_customer_transaction_ids['Customer ID'].nunique()"
   ]
  },
  {
   "cell_type": "code",
   "execution_count": 83,
   "metadata": {},
   "outputs": [],
   "source": [
    "annual_frac_of_total = pd.DataFrame()\n",
    "\n",
    "for year in [2016,2017,2018]:\n",
    "    for city in cab_data_customer_transaction_ids['City'].unique():\n",
    "        unique_yellow_cab_users = cab_data_customer_transaction_ids[(cab_data_customer_transaction_ids['Year']==year)\n",
    "                                                                   & (cab_data_customer_transaction_ids['City']==city)\n",
    "                                                                   &(cab_data_customer_transaction_ids['Company']=='Yellow Cab')]['Customer ID'].nunique()\n",
    "        \n",
    "        unique_pink_cab_users = cab_data_customer_transaction_ids[(cab_data_customer_transaction_ids['Year']==year)\n",
    "                                                                   & (cab_data_customer_transaction_ids['City']==city)\n",
    "                                                                   &(cab_data_customer_transaction_ids['Company']=='Pink Cab')]['Customer ID'].nunique()\n",
    "        number_cab_users = city_df[city_df['City']==city]['Users'].iloc[0]\n",
    "#         print(year, city , 'Yellow Cab users frac of total',unique_yellow_cab_users/number_cab_users, \n",
    "#               'Pink Cab Users frac of total', unique_pink_cab_users/number_cab_users)\n",
    "\n",
    "        annual_frac_of_total = annual_frac_of_total.append({'Year':year, 'City': city, \n",
    "                                                            'Yellow_cab_frac_total':round(unique_yellow_cab_users/number_cab_users,4),\n",
    "                                                            'Pink_cab_frac_total':round (unique_pink_cab_users/number_cab_users,4)}, ignore_index = True)\n"
   ]
  },
  {
   "cell_type": "code",
   "execution_count": 84,
   "metadata": {},
   "outputs": [
    {
     "data": {
      "text/html": [
       "<div>\n",
       "<style scoped>\n",
       "    .dataframe tbody tr th:only-of-type {\n",
       "        vertical-align: middle;\n",
       "    }\n",
       "\n",
       "    .dataframe tbody tr th {\n",
       "        vertical-align: top;\n",
       "    }\n",
       "\n",
       "    .dataframe thead th {\n",
       "        text-align: right;\n",
       "    }\n",
       "</style>\n",
       "<table border=\"1\" class=\"dataframe\">\n",
       "  <thead>\n",
       "    <tr style=\"text-align: right;\">\n",
       "      <th></th>\n",
       "      <th>City</th>\n",
       "      <th>Pink_cab_frac_total</th>\n",
       "      <th>Year</th>\n",
       "      <th>Yellow_cab_frac_total</th>\n",
       "    </tr>\n",
       "  </thead>\n",
       "  <tbody>\n",
       "    <tr>\n",
       "      <th>0</th>\n",
       "      <td>ATLANTA GA</td>\n",
       "      <td>0.0191</td>\n",
       "      <td>2016.0</td>\n",
       "      <td>0.0530</td>\n",
       "    </tr>\n",
       "    <tr>\n",
       "      <th>1</th>\n",
       "      <td>AUSTIN TX</td>\n",
       "      <td>0.0328</td>\n",
       "      <td>2016.0</td>\n",
       "      <td>0.0530</td>\n",
       "    </tr>\n",
       "    <tr>\n",
       "      <th>2</th>\n",
       "      <td>BOSTON MA</td>\n",
       "      <td>0.0150</td>\n",
       "      <td>2016.0</td>\n",
       "      <td>0.0344</td>\n",
       "    </tr>\n",
       "    <tr>\n",
       "      <th>3</th>\n",
       "      <td>CHICAGO IL</td>\n",
       "      <td>0.0109</td>\n",
       "      <td>2016.0</td>\n",
       "      <td>0.0180</td>\n",
       "    </tr>\n",
       "    <tr>\n",
       "      <th>4</th>\n",
       "      <td>DALLAS TX</td>\n",
       "      <td>0.0173</td>\n",
       "      <td>2016.0</td>\n",
       "      <td>0.0575</td>\n",
       "    </tr>\n",
       "  </tbody>\n",
       "</table>\n",
       "</div>"
      ],
      "text/plain": [
       "         City  Pink_cab_frac_total    Year  Yellow_cab_frac_total\n",
       "0  ATLANTA GA               0.0191  2016.0                 0.0530\n",
       "1   AUSTIN TX               0.0328  2016.0                 0.0530\n",
       "2   BOSTON MA               0.0150  2016.0                 0.0344\n",
       "3  CHICAGO IL               0.0109  2016.0                 0.0180\n",
       "4   DALLAS TX               0.0173  2016.0                 0.0575"
      ]
     },
     "execution_count": 84,
     "metadata": {},
     "output_type": "execute_result"
    }
   ],
   "source": [
    "annual_frac_of_total.head()"
   ]
  },
  {
   "cell_type": "code",
   "execution_count": 85,
   "metadata": {
    "scrolled": true
   },
   "outputs": [
    {
     "data": {
      "text/html": [
       "<div>\n",
       "<style scoped>\n",
       "    .dataframe tbody tr th:only-of-type {\n",
       "        vertical-align: middle;\n",
       "    }\n",
       "\n",
       "    .dataframe tbody tr th {\n",
       "        vertical-align: top;\n",
       "    }\n",
       "\n",
       "    .dataframe thead th {\n",
       "        text-align: right;\n",
       "    }\n",
       "</style>\n",
       "<table border=\"1\" class=\"dataframe\">\n",
       "  <thead>\n",
       "    <tr style=\"text-align: right;\">\n",
       "      <th></th>\n",
       "      <th>City</th>\n",
       "      <th>Year</th>\n",
       "      <th>Company</th>\n",
       "      <th>Fraction_of_total</th>\n",
       "    </tr>\n",
       "  </thead>\n",
       "  <tbody>\n",
       "    <tr>\n",
       "      <th>0</th>\n",
       "      <td>ATLANTA GA</td>\n",
       "      <td>2016.0</td>\n",
       "      <td>Pink_cab_frac_total</td>\n",
       "      <td>0.0191</td>\n",
       "    </tr>\n",
       "    <tr>\n",
       "      <th>1</th>\n",
       "      <td>AUSTIN TX</td>\n",
       "      <td>2016.0</td>\n",
       "      <td>Pink_cab_frac_total</td>\n",
       "      <td>0.0328</td>\n",
       "    </tr>\n",
       "    <tr>\n",
       "      <th>2</th>\n",
       "      <td>BOSTON MA</td>\n",
       "      <td>2016.0</td>\n",
       "      <td>Pink_cab_frac_total</td>\n",
       "      <td>0.0150</td>\n",
       "    </tr>\n",
       "    <tr>\n",
       "      <th>3</th>\n",
       "      <td>CHICAGO IL</td>\n",
       "      <td>2016.0</td>\n",
       "      <td>Pink_cab_frac_total</td>\n",
       "      <td>0.0109</td>\n",
       "    </tr>\n",
       "    <tr>\n",
       "      <th>4</th>\n",
       "      <td>DALLAS TX</td>\n",
       "      <td>2016.0</td>\n",
       "      <td>Pink_cab_frac_total</td>\n",
       "      <td>0.0173</td>\n",
       "    </tr>\n",
       "    <tr>\n",
       "      <th>...</th>\n",
       "      <td>...</td>\n",
       "      <td>...</td>\n",
       "      <td>...</td>\n",
       "      <td>...</td>\n",
       "    </tr>\n",
       "    <tr>\n",
       "      <th>109</th>\n",
       "      <td>SAN DIEGO CA</td>\n",
       "      <td>2018.0</td>\n",
       "      <td>Yellow_cab_frac_total</td>\n",
       "      <td>0.0295</td>\n",
       "    </tr>\n",
       "    <tr>\n",
       "      <th>110</th>\n",
       "      <td>SEATTLE WA</td>\n",
       "      <td>2018.0</td>\n",
       "      <td>Yellow_cab_frac_total</td>\n",
       "      <td>0.0539</td>\n",
       "    </tr>\n",
       "    <tr>\n",
       "      <th>111</th>\n",
       "      <td>SILICON VALLEY</td>\n",
       "      <td>2018.0</td>\n",
       "      <td>Yellow_cab_frac_total</td>\n",
       "      <td>0.0472</td>\n",
       "    </tr>\n",
       "    <tr>\n",
       "      <th>112</th>\n",
       "      <td>TUCSON AZ</td>\n",
       "      <td>2018.0</td>\n",
       "      <td>Yellow_cab_frac_total</td>\n",
       "      <td>0.0650</td>\n",
       "    </tr>\n",
       "    <tr>\n",
       "      <th>113</th>\n",
       "      <td>WASHINGTON DC</td>\n",
       "      <td>2018.0</td>\n",
       "      <td>Yellow_cab_frac_total</td>\n",
       "      <td>0.0233</td>\n",
       "    </tr>\n",
       "  </tbody>\n",
       "</table>\n",
       "<p>114 rows × 4 columns</p>\n",
       "</div>"
      ],
      "text/plain": [
       "               City    Year                Company  Fraction_of_total\n",
       "0        ATLANTA GA  2016.0    Pink_cab_frac_total             0.0191\n",
       "1         AUSTIN TX  2016.0    Pink_cab_frac_total             0.0328\n",
       "2         BOSTON MA  2016.0    Pink_cab_frac_total             0.0150\n",
       "3        CHICAGO IL  2016.0    Pink_cab_frac_total             0.0109\n",
       "4         DALLAS TX  2016.0    Pink_cab_frac_total             0.0173\n",
       "..              ...     ...                    ...                ...\n",
       "109    SAN DIEGO CA  2018.0  Yellow_cab_frac_total             0.0295\n",
       "110      SEATTLE WA  2018.0  Yellow_cab_frac_total             0.0539\n",
       "111  SILICON VALLEY  2018.0  Yellow_cab_frac_total             0.0472\n",
       "112       TUCSON AZ  2018.0  Yellow_cab_frac_total             0.0650\n",
       "113   WASHINGTON DC  2018.0  Yellow_cab_frac_total             0.0233\n",
       "\n",
       "[114 rows x 4 columns]"
      ]
     },
     "execution_count": 85,
     "metadata": {},
     "output_type": "execute_result"
    }
   ],
   "source": [
    "#reformat the data frame to make it easier to plot\n",
    "annual_frac_of_total = pd.melt(annual_frac_of_total, id_vars = ['City', 'Year'], \n",
    "                               value_vars=['Pink_cab_frac_total', 'Yellow_cab_frac_total'],\n",
    "                              var_name = 'Company', value_name='Fraction_of_total')\n",
    "annual_frac_of_total"
   ]
  },
  {
   "cell_type": "code",
   "execution_count": 86,
   "metadata": {
    "scrolled": true
   },
   "outputs": [
    {
     "data": {
      "image/png": "[encoded data removed]",
      "text/plain": [
       "<Figure size 1080x432 with 2 Axes>"
      ]
     },
     "metadata": {
      "needs_background": "light"
     },
     "output_type": "display_data"
    }
   ],
   "source": [
    "#plot number of rides for each company and for each day of the month\n",
    "\n",
    "plt.subplots(1,2,figsize=(15,6))\n",
    "plt.subplot(1,2,1)\n",
    "sns.barplot(x= annual_frac_of_total['City'], \n",
    "            y= annual_frac_of_total['Fraction_of_total'], hue=annual_frac_of_total['Company'],palette=['violet', 'yellow'])\n",
    "plt.ylim(0,0.08)\n",
    "plt.title('City-wise customer reach', fontsize=15)\n",
    "plt.xlabel('CITY', fontsize=13)\n",
    "plt.ylabel('Fraction of Total Customers', fontsize=13)\n",
    "plt.yticks(fontsize=12)\n",
    "plt.xticks(fontsize=12, rotation=90)\n",
    "plt.subplot(1,2,2)\n",
    "sns.barplot(x= annual_frac_of_total['Year'], \n",
    "            y= annual_frac_of_total['Fraction_of_total'], hue=annual_frac_of_total['Company'], palette=['violet', 'yellow'])\n",
    "plt.ylim(0,0.08)\n",
    "plt.xlabel('YEAR', fontsize=13)\n",
    "plt.ylabel('Fraction of Total Customers', fontsize=13)\n",
    "plt.yticks(fontsize=12)\n",
    "plt.xticks(fontsize=12, rotation=90)\n",
    "plt.title('Year-wise customer reach', fontsize=15)\n",
    "plt.show()"
   ]
  },
  {
   "cell_type": "markdown",
   "metadata": {},
   "source": [
    "Yellow Cab has a wider customer reach in all cities except Pittsburgh PA, San Diego CA and Sacramento CA where Pink Cab has an upper hand. Looking at the data annually, Yellow Cab again commands more customers than Pink Cab for the years 2016 to 2018."
   ]
  },
  {
   "cell_type": "markdown",
   "metadata": {},
   "source": [
    "### Customer Loyalty to either of the two cab companies"
   ]
  },
  {
   "cell_type": "code",
   "execution_count": 122,
   "metadata": {},
   "outputs": [
    {
     "data": {
      "text/html": [
       "<div>\n",
       "<style scoped>\n",
       "    .dataframe tbody tr th:only-of-type {\n",
       "        vertical-align: middle;\n",
       "    }\n",
       "\n",
       "    .dataframe tbody tr th {\n",
       "        vertical-align: top;\n",
       "    }\n",
       "\n",
       "    .dataframe thead th {\n",
       "        text-align: right;\n",
       "    }\n",
       "</style>\n",
       "<table border=\"1\" class=\"dataframe\">\n",
       "  <thead>\n",
       "    <tr style=\"text-align: right;\">\n",
       "      <th></th>\n",
       "      <th>Customer ID</th>\n",
       "      <th>Gender</th>\n",
       "      <th>Age</th>\n",
       "      <th>Income (USD/Month)</th>\n",
       "      <th>Transaction ID</th>\n",
       "      <th>Payment_Mode</th>\n",
       "      <th>Company</th>\n",
       "      <th>City</th>\n",
       "      <th>KM Travelled</th>\n",
       "      <th>Price Charged</th>\n",
       "      <th>Cost of Trip</th>\n",
       "      <th>Date</th>\n",
       "      <th>Profit</th>\n",
       "      <th>Profit per km</th>\n",
       "      <th>Year</th>\n",
       "      <th>Month</th>\n",
       "      <th>Day_of_month</th>\n",
       "      <th>Day_of_week</th>\n",
       "    </tr>\n",
       "  </thead>\n",
       "  <tbody>\n",
       "    <tr>\n",
       "      <th>0</th>\n",
       "      <td>29290</td>\n",
       "      <td>Male</td>\n",
       "      <td>28</td>\n",
       "      <td>10813</td>\n",
       "      <td>10000011</td>\n",
       "      <td>Card</td>\n",
       "      <td>Pink Cab</td>\n",
       "      <td>ATLANTA GA</td>\n",
       "      <td>30.45</td>\n",
       "      <td>370.95</td>\n",
       "      <td>313.6350</td>\n",
       "      <td>2016-01-10</td>\n",
       "      <td>57.32</td>\n",
       "      <td>1.88</td>\n",
       "      <td>2016</td>\n",
       "      <td>1</td>\n",
       "      <td>10</td>\n",
       "      <td>Sunday</td>\n",
       "    </tr>\n",
       "    <tr>\n",
       "      <th>1</th>\n",
       "      <td>29290</td>\n",
       "      <td>Male</td>\n",
       "      <td>28</td>\n",
       "      <td>10813</td>\n",
       "      <td>10351127</td>\n",
       "      <td>Cash</td>\n",
       "      <td>Yellow Cab</td>\n",
       "      <td>ATLANTA GA</td>\n",
       "      <td>26.19</td>\n",
       "      <td>598.70</td>\n",
       "      <td>317.4228</td>\n",
       "      <td>2018-07-23</td>\n",
       "      <td>281.28</td>\n",
       "      <td>10.74</td>\n",
       "      <td>2018</td>\n",
       "      <td>7</td>\n",
       "      <td>23</td>\n",
       "      <td>Monday</td>\n",
       "    </tr>\n",
       "    <tr>\n",
       "      <th>2</th>\n",
       "      <td>29290</td>\n",
       "      <td>Male</td>\n",
       "      <td>28</td>\n",
       "      <td>10813</td>\n",
       "      <td>10412921</td>\n",
       "      <td>Card</td>\n",
       "      <td>Yellow Cab</td>\n",
       "      <td>ATLANTA GA</td>\n",
       "      <td>42.55</td>\n",
       "      <td>792.05</td>\n",
       "      <td>597.4020</td>\n",
       "      <td>2018-11-25</td>\n",
       "      <td>194.65</td>\n",
       "      <td>4.57</td>\n",
       "      <td>2018</td>\n",
       "      <td>11</td>\n",
       "      <td>25</td>\n",
       "      <td>Sunday</td>\n",
       "    </tr>\n",
       "    <tr>\n",
       "      <th>3</th>\n",
       "      <td>27703</td>\n",
       "      <td>Male</td>\n",
       "      <td>27</td>\n",
       "      <td>9237</td>\n",
       "      <td>10000012</td>\n",
       "      <td>Card</td>\n",
       "      <td>Pink Cab</td>\n",
       "      <td>ATLANTA GA</td>\n",
       "      <td>28.62</td>\n",
       "      <td>358.52</td>\n",
       "      <td>334.8540</td>\n",
       "      <td>2016-01-08</td>\n",
       "      <td>23.67</td>\n",
       "      <td>0.83</td>\n",
       "      <td>2016</td>\n",
       "      <td>1</td>\n",
       "      <td>8</td>\n",
       "      <td>Friday</td>\n",
       "    </tr>\n",
       "    <tr>\n",
       "      <th>4</th>\n",
       "      <td>27703</td>\n",
       "      <td>Male</td>\n",
       "      <td>27</td>\n",
       "      <td>9237</td>\n",
       "      <td>10320494</td>\n",
       "      <td>Card</td>\n",
       "      <td>Yellow Cab</td>\n",
       "      <td>ATLANTA GA</td>\n",
       "      <td>36.38</td>\n",
       "      <td>721.10</td>\n",
       "      <td>467.1192</td>\n",
       "      <td>2018-04-23</td>\n",
       "      <td>253.98</td>\n",
       "      <td>6.98</td>\n",
       "      <td>2018</td>\n",
       "      <td>4</td>\n",
       "      <td>23</td>\n",
       "      <td>Monday</td>\n",
       "    </tr>\n",
       "  </tbody>\n",
       "</table>\n",
       "</div>"
      ],
      "text/plain": [
       "   Customer ID Gender  Age  Income (USD/Month)  Transaction ID Payment_Mode  \\\n",
       "0        29290   Male   28               10813        10000011         Card   \n",
       "1        29290   Male   28               10813        10351127         Cash   \n",
       "2        29290   Male   28               10813        10412921         Card   \n",
       "3        27703   Male   27                9237        10000012         Card   \n",
       "4        27703   Male   27                9237        10320494         Card   \n",
       "\n",
       "      Company        City  KM Travelled  Price Charged  Cost of Trip  \\\n",
       "0    Pink Cab  ATLANTA GA         30.45         370.95      313.6350   \n",
       "1  Yellow Cab  ATLANTA GA         26.19         598.70      317.4228   \n",
       "2  Yellow Cab  ATLANTA GA         42.55         792.05      597.4020   \n",
       "3    Pink Cab  ATLANTA GA         28.62         358.52      334.8540   \n",
       "4  Yellow Cab  ATLANTA GA         36.38         721.10      467.1192   \n",
       "\n",
       "        Date  Profit  Profit per km  Year  Month  Day_of_month Day_of_week  \n",
       "0 2016-01-10   57.32           1.88  2016      1            10      Sunday  \n",
       "1 2018-07-23  281.28          10.74  2018      7            23      Monday  \n",
       "2 2018-11-25  194.65           4.57  2018     11            25      Sunday  \n",
       "3 2016-01-08   23.67           0.83  2016      1             8      Friday  \n",
       "4 2018-04-23  253.98           6.98  2018      4            23      Monday  "
      ]
     },
     "execution_count": 122,
     "metadata": {},
     "output_type": "execute_result"
    }
   ],
   "source": [
    "cab_data_customer_transaction_ids.head()"
   ]
  },
  {
   "cell_type": "code",
   "execution_count": 134,
   "metadata": {
    "scrolled": false
   },
   "outputs": [],
   "source": [
    "#for customers who have taken 5 or more rides, calculate the fraction of these rides with each cab company\n",
    "# this block of code takes a long time to complete\n",
    "\n",
    "customer_loyalty = pd.DataFrame()\n",
    "\n",
    "for cust_id in cab_data_customer_transaction_ids['Customer ID'].unique():\n",
    "    customer_num_total_rides = cab_data_customer_transaction_ids[cab_data_customer_transaction_ids['Customer ID']==cust_id]['Customer ID'].count()\n",
    "    #only use Customer IDs of those customers who have taken at least 5 rides\n",
    "    if customer_num_total_rides >= 5:\n",
    "        Pink_cab_loyalty = cab_data_customer_transaction_ids[(cab_data_customer_transaction_ids['Customer ID']==cust_id)\n",
    "                                                            & (cab_data_customer_transaction_ids['Company']=='Pink Cab')]['Customer ID'].count()/customer_num_total_rides\n",
    "        Yellow_cab_loyalty = cab_data_customer_transaction_ids[(cab_data_customer_transaction_ids['Customer ID']==cust_id)\n",
    "                                                            & (cab_data_customer_transaction_ids['Company']=='Yellow Cab')]['Customer ID'].count()/customer_num_total_rides\n",
    "        customer_loyalty = customer_loyalty.append({'Customer ID':cust_id, 'Pink Cab':Pink_cab_loyalty, \n",
    "                                                   'Yellow Cab': Yellow_cab_loyalty}, ignore_index=True)"
   ]
  },
  {
   "cell_type": "code",
   "execution_count": 135,
   "metadata": {},
   "outputs": [
    {
     "data": {
      "text/html": [
       "<div>\n",
       "<style scoped>\n",
       "    .dataframe tbody tr th:only-of-type {\n",
       "        vertical-align: middle;\n",
       "    }\n",
       "\n",
       "    .dataframe tbody tr th {\n",
       "        vertical-align: top;\n",
       "    }\n",
       "\n",
       "    .dataframe thead th {\n",
       "        text-align: right;\n",
       "    }\n",
       "</style>\n",
       "<table border=\"1\" class=\"dataframe\">\n",
       "  <thead>\n",
       "    <tr style=\"text-align: right;\">\n",
       "      <th></th>\n",
       "      <th>Customer ID</th>\n",
       "      <th>Pink Cab</th>\n",
       "      <th>Yellow Cab</th>\n",
       "    </tr>\n",
       "  </thead>\n",
       "  <tbody>\n",
       "    <tr>\n",
       "      <th>0</th>\n",
       "      <td>27318.0</td>\n",
       "      <td>0.600000</td>\n",
       "      <td>0.400000</td>\n",
       "    </tr>\n",
       "    <tr>\n",
       "      <th>1</th>\n",
       "      <td>59799.0</td>\n",
       "      <td>0.222222</td>\n",
       "      <td>0.777778</td>\n",
       "    </tr>\n",
       "    <tr>\n",
       "      <th>2</th>\n",
       "      <td>57982.0</td>\n",
       "      <td>0.357143</td>\n",
       "      <td>0.642857</td>\n",
       "    </tr>\n",
       "    <tr>\n",
       "      <th>3</th>\n",
       "      <td>58774.0</td>\n",
       "      <td>0.181818</td>\n",
       "      <td>0.818182</td>\n",
       "    </tr>\n",
       "    <tr>\n",
       "      <th>4</th>\n",
       "      <td>58627.0</td>\n",
       "      <td>0.176471</td>\n",
       "      <td>0.823529</td>\n",
       "    </tr>\n",
       "  </tbody>\n",
       "</table>\n",
       "</div>"
      ],
      "text/plain": [
       "   Customer ID  Pink Cab  Yellow Cab\n",
       "0      27318.0  0.600000    0.400000\n",
       "1      59799.0  0.222222    0.777778\n",
       "2      57982.0  0.357143    0.642857\n",
       "3      58774.0  0.181818    0.818182\n",
       "4      58627.0  0.176471    0.823529"
      ]
     },
     "execution_count": 135,
     "metadata": {},
     "output_type": "execute_result"
    }
   ],
   "source": [
    "customer_loyalty.head()"
   ]
  },
  {
   "cell_type": "code",
   "execution_count": 136,
   "metadata": {
    "scrolled": true
   },
   "outputs": [
    {
     "data": {
      "text/plain": [
       "(19129, 3)"
      ]
     },
     "execution_count": 136,
     "metadata": {},
     "output_type": "execute_result"
    }
   ],
   "source": [
    "customer_loyalty.shape #layalty data from 19129 customers are available for analysis"
   ]
  },
  {
   "cell_type": "code",
   "execution_count": 139,
   "metadata": {},
   "outputs": [],
   "source": [
    "customer_loyalty2 = customer_loyalty.melt(id_vars = 'Customer ID', value_vars = ['Pink Cab', 'Yellow Cab'],\n",
    "                                    var_name = 'Company', value_name = 'Choice Fraction')"
   ]
  },
  {
   "cell_type": "code",
   "execution_count": 140,
   "metadata": {
    "scrolled": true
   },
   "outputs": [
    {
     "data": {
      "text/html": [
       "<div>\n",
       "<style scoped>\n",
       "    .dataframe tbody tr th:only-of-type {\n",
       "        vertical-align: middle;\n",
       "    }\n",
       "\n",
       "    .dataframe tbody tr th {\n",
       "        vertical-align: top;\n",
       "    }\n",
       "\n",
       "    .dataframe thead th {\n",
       "        text-align: right;\n",
       "    }\n",
       "</style>\n",
       "<table border=\"1\" class=\"dataframe\">\n",
       "  <thead>\n",
       "    <tr style=\"text-align: right;\">\n",
       "      <th></th>\n",
       "      <th>Customer ID</th>\n",
       "      <th>Company</th>\n",
       "      <th>Choice Fraction</th>\n",
       "    </tr>\n",
       "  </thead>\n",
       "  <tbody>\n",
       "    <tr>\n",
       "      <th>0</th>\n",
       "      <td>27318.0</td>\n",
       "      <td>Pink Cab</td>\n",
       "      <td>0.600000</td>\n",
       "    </tr>\n",
       "    <tr>\n",
       "      <th>1</th>\n",
       "      <td>59799.0</td>\n",
       "      <td>Pink Cab</td>\n",
       "      <td>0.222222</td>\n",
       "    </tr>\n",
       "    <tr>\n",
       "      <th>2</th>\n",
       "      <td>57982.0</td>\n",
       "      <td>Pink Cab</td>\n",
       "      <td>0.357143</td>\n",
       "    </tr>\n",
       "    <tr>\n",
       "      <th>3</th>\n",
       "      <td>58774.0</td>\n",
       "      <td>Pink Cab</td>\n",
       "      <td>0.181818</td>\n",
       "    </tr>\n",
       "    <tr>\n",
       "      <th>4</th>\n",
       "      <td>58627.0</td>\n",
       "      <td>Pink Cab</td>\n",
       "      <td>0.176471</td>\n",
       "    </tr>\n",
       "  </tbody>\n",
       "</table>\n",
       "</div>"
      ],
      "text/plain": [
       "   Customer ID   Company  Choice Fraction\n",
       "0      27318.0  Pink Cab         0.600000\n",
       "1      59799.0  Pink Cab         0.222222\n",
       "2      57982.0  Pink Cab         0.357143\n",
       "3      58774.0  Pink Cab         0.181818\n",
       "4      58627.0  Pink Cab         0.176471"
      ]
     },
     "execution_count": 140,
     "metadata": {},
     "output_type": "execute_result"
    }
   ],
   "source": [
    "customer_loyalty2.head()"
   ]
  },
  {
   "cell_type": "code",
   "execution_count": 165,
   "metadata": {},
   "outputs": [],
   "source": [
    "#calculate loyalty for each company orn o loyalty at all\n",
    "#a choice fraction above 0.5 is taken as brand loyalty to the corrresponding company\n",
    "# a fraction equal to 0.5 is taken as no loyalty to either company\n",
    "loyal_to_Pink_Cab = customer_loyalty2[(customer_loyalty2['Choice Fraction']>0.5)&(customer_loyalty2['Company']=='Pink Cab')]['Customer ID'].count()\n",
    "loyal_to_Yellow_Cab = customer_loyalty2[(customer_loyalty2['Choice Fraction']>0.5)&(customer_loyalty2['Company']=='Yellow Cab')]['Customer ID'].count()\n",
    "no_loyalty = customer_loyalty2[(customer_loyalty2['Choice Fraction']==0.5)]['Customer ID'].count()"
   ]
  },
  {
   "cell_type": "code",
   "execution_count": 177,
   "metadata": {},
   "outputs": [
    {
     "name": "stdout",
     "output_type": "stream",
     "text": [
      "% Loyal to Pink Cab : 11.37017094463903\n",
      "% Loyal to Yellow Cab : 84.93909770505515\n",
      "% Not loyal to a either company : 7.381462700611637\n"
     ]
    }
   ],
   "source": [
    "print('% Loyal to Pink Cab :', 100*loyal_to_Pink_Cab/customer_loyalty.shape[0])\n",
    "print('% Loyal to Yellow Cab :', 100*loyal_to_Yellow_Cab/customer_loyalty.shape[0])\n",
    "print('% Not loyal to a either company :', 100*no_loyalty/customer_loyalty.shape[0])"
   ]
  },
  {
   "cell_type": "code",
   "execution_count": 172,
   "metadata": {
    "scrolled": true
   },
   "outputs": [
    {
     "data": {
      "image/png": "[encoded data removed]",
      "text/plain": [
       "<Figure size 432x288 with 1 Axes>"
      ]
     },
     "metadata": {
      "needs_background": "light"
     },
     "output_type": "display_data"
    }
   ],
   "source": [
    "sns.barplot(y=[loyal_to_Pink_Cab,loyal_to_Yellow_Cab,no_loyalty], x=['Pink Cab', 'Yellow Cab', 'None'])\n",
    "plt.ylabel('Number of Customers', fontsize=12)\n",
    "plt.xlabel('Company', fontsize=12)\n",
    "plt.title('BRAND LOYALTY', fontsize=12)\n",
    "plt.show()"
   ]
  },
  {
   "cell_type": "markdown",
   "metadata": {},
   "source": [
    "Out of the 19129 customers who have taken more than 5 cab rides, Yellow Cab has the most brand-loyalty with about 16,000 customers."
   ]
  },
  {
   "cell_type": "markdown",
   "metadata": {},
   "source": [
    "## Conduct Time-series forecasting to predict the number of rides for each cab company for each month"
   ]
  },
  {
   "cell_type": "code",
   "execution_count": 91,
   "metadata": {},
   "outputs": [],
   "source": [
    "#create function to get monthly ride totals for each cab comapny\n",
    "def get_cab_monthly_ride_totals():\n",
    "    \n",
    "    pink_cab_monthly_rides = []\n",
    "    yellow_cab_monthly_rides = []\n",
    "\n",
    "    for year in [2016, 2017, 2018]:\n",
    "        for month in [1,2,3,4,5,6,7,8,9,10,11,12]:\n",
    "            pink_cab_monthly_rides.append(cab_data_customer_transaction_ids[(cab_data_customer_transaction_ids['Company']=='Pink Cab')\n",
    "                                                         & (cab_data_customer_transaction_ids['Year']==year)\n",
    "                                                        & (cab_data_customer_transaction_ids['Month']==month)]['Month'].count())\n",
    "            yellow_cab_monthly_rides.append(cab_data_customer_transaction_ids[(cab_data_customer_transaction_ids['Company']=='Yellow Cab')\n",
    "                                                         & (cab_data_customer_transaction_ids['Year']==year)\n",
    "                                                        & (cab_data_customer_transaction_ids['Month']==month)]['Month'].count())\n",
    "    return pink_cab_monthly_rides, yellow_cab_monthly_rides"
   ]
  },
  {
   "cell_type": "code",
   "execution_count": 93,
   "metadata": {},
   "outputs": [],
   "source": [
    "pink_cab_monthly_rides, yellow_cab_monthly_rides = get_cab_monthly_ride_totals()"
   ]
  },
  {
   "cell_type": "code",
   "execution_count": 95,
   "metadata": {
    "scrolled": true
   },
   "outputs": [
    {
     "data": {
      "image/png": "[encoded data removed]",
      "text/plain": [
       "<Figure size 864x288 with 2 Axes>"
      ]
     },
     "metadata": {
      "needs_background": "light"
     },
     "output_type": "display_data"
    }
   ],
   "source": [
    "# PLot monthly rides after first order differencing\n",
    "fig, axes = plt.subplots(1, 2, figsize = (12,4))\n",
    "axes[0].plot(pd.Series(pink_cab_monthly_rides).diff().dropna())\n",
    "axes[0].set_title('Pink Cab First Order Differencing')\n",
    "axes[0].set_ylim([-5000,5000])\n",
    "axes[1].plot(pd.Series(yellow_cab_monthly_rides).diff().dropna())\n",
    "axes[1].set_ylim([-5000,5000])\n",
    "axes[1].set_title('Yellow Cab First Order Differencing')\n",
    "\n",
    "plt.show()"
   ]
  },
  {
   "cell_type": "code",
   "execution_count": 96,
   "metadata": {},
   "outputs": [],
   "source": [
    "from statsmodels.tsa.stattools import adfuller #import Augmented Dickey-Fuller Test"
   ]
  },
  {
   "cell_type": "markdown",
   "metadata": {},
   "source": [
    "### Hypothesis testing: Test for the stationarity of monthly total rides data using Augmented Dickey-Fuller Test"
   ]
  },
  {
   "cell_type": "code",
   "execution_count": 97,
   "metadata": {
    "scrolled": true
   },
   "outputs": [
    {
     "data": {
      "text/plain": [
       "(-5.745078786724909,\n",
       " 6.14811288840376e-07,\n",
       " 10,\n",
       " 24,\n",
       " {'1%': -3.7377092158564813,\n",
       "  '5%': -2.9922162731481485,\n",
       "  '10%': -2.635746736111111},\n",
       " 354.0553884828233)"
      ]
     },
     "execution_count": 97,
     "metadata": {},
     "output_type": "execute_result"
    }
   ],
   "source": [
    "#H0 : The data is stationary\n",
    "#H1 : The data is non-stationary\n",
    "\n",
    "adfuller(pd.Series(pink_cab_monthly_rides).diff().dropna()) #the p-value (6.14x10**(-7)) for first order differencing for \n",
    "#Pink Cab monthly ride totals is less than 0.05 and therefore we accept the null hypothesis that the data is stationary"
   ]
  },
  {
   "cell_type": "code",
   "execution_count": 98,
   "metadata": {
    "scrolled": false
   },
   "outputs": [
    {
     "data": {
      "text/plain": [
       "(-6.229053118177731,\n",
       " 5.005283843698693e-08,\n",
       " 10,\n",
       " 24,\n",
       " {'1%': -3.7377092158564813,\n",
       "  '5%': -2.9922162731481485,\n",
       "  '10%': -2.635746736111111},\n",
       " 408.9015031600562)"
      ]
     },
     "execution_count": 98,
     "metadata": {},
     "output_type": "execute_result"
    }
   ],
   "source": [
    "adfuller(pd.Series(yellow_cab_monthly_rides).diff().dropna()) #the p-value (5.01x10**(-8)) for first order differencing for \n",
    "#Yellow Cab monthly ride totals is less than 0.05 and therefore we accept the null hypothesis that the data is stationary\n",
    "\n",
    "#so we will select d=1 for the ARIMA model"
   ]
  },
  {
   "cell_type": "code",
   "execution_count": 99,
   "metadata": {},
   "outputs": [],
   "source": [
    "from statsmodels.tsa.arima.model import ARIMA \n",
    "from statsmodels.graphics.tsaplots import plot_acf, plot_pacf"
   ]
  },
  {
   "cell_type": "code",
   "execution_count": 100,
   "metadata": {},
   "outputs": [
    {
     "data": {
      "image/png": "[encoded data removed]",
      "text/plain": [
       "<Figure size 864x288 with 2 Axes>"
      ]
     },
     "metadata": {
      "needs_background": "light"
     },
     "output_type": "display_data"
    }
   ],
   "source": [
    "# Plot autocorrelation for the first order differencing for the monthly ride total data\n",
    "fig, axes = plt.subplots(1, 2, figsize = (12,4))\n",
    "plot_acf(pd.Series(pink_cab_monthly_rides).diff().dropna(), ax = axes[0])\n",
    "axes[0].set_title('ACF Plot with Pink Cab Data - First Order Differencing')\n",
    "axes[0].set_ylim([-1,1.1])\n",
    "plot_acf(pd.Series(yellow_cab_monthly_rides).diff().dropna(), ax = axes[1])\n",
    "axes[1].set_title('ACF Plot with Yellow Cab Data - First Order Differencing')\n",
    "axes[1].set_ylim([-1,1.1])\n",
    "plt.show()\n",
    "\n",
    "# With first order differencing, the first positive correlation (i.e. first lag that is above the threshold)\n",
    "# is at 1 for both datasets. So we will tentatively select q = 1 which the error term for the moving average (MA)"
   ]
  },
  {
   "cell_type": "code",
   "execution_count": 101,
   "metadata": {},
   "outputs": [
    {
     "data": {
      "image/png": "[encoded data removed]",
      "text/plain": [
       "<Figure size 864x288 with 2 Axes>"
      ]
     },
     "metadata": {
      "needs_background": "light"
     },
     "output_type": "display_data"
    }
   ],
   "source": [
    "# Plot partial autocorrelation for the first order differencing\n",
    "fig, axes = plt.subplots(1, 2, figsize = (12,4))\n",
    "plot_pacf(pd.Series(pink_cab_monthly_rides).diff().dropna(), ax = axes[0], method='ywm')\n",
    "axes[0].set_title('PACF Plot with Pink Cab Data - First Order Differencing')\n",
    "axes[0].set_ylim([-1,1.1])\n",
    "plot_pacf(pd.Series(pink_cab_monthly_rides).diff().dropna(), ax = axes[1], method='ywm')\n",
    "axes[1].set_title('PACF Plot with Yellow Cab Data - First Order Differencing')\n",
    "axes[1].set_ylim([-1,1.1])\n",
    "plt.show()\n",
    "# With first order differencing, the first lag that indicates positive correlation is also at 1\n",
    "# We will therefore select p = 1 "
   ]
  },
  {
   "cell_type": "code",
   "execution_count": 102,
   "metadata": {},
   "outputs": [],
   "source": [
    "#model_predictions = []\n",
    "\n",
    "# reset the monthly ride totals using the function created above\n",
    "pink_cab_monthly_rides, yellow_cab_monthly_rides = get_cab_monthly_ride_totals() \n",
    "\n",
    "# num_test_obser = len(pink_cab_monthly_rides)\n",
    "\n",
    "\n",
    "for i in range(0,12):\n",
    "    #print(pink_cab_monthly_rides)\n",
    "    model = ARIMA(pd.Series(pink_cab_monthly_rides), order = (1, 1, 1)) # where p = 1 which is the number of lag observations, \n",
    "# #                                               #  d = 1 which is the number of times the raw observations are differenced to make the trend stationary\n",
    "# #                                               # q = 1 which is the size of the moving average window\n",
    "    model_fit =  model.fit()\n",
    "    output = model_fit.forecast()\n",
    "\n",
    "    pink_cab_monthly_rides.append(output.iloc[0])\n",
    "\n",
    "\n",
    "    \n"
   ]
  },
  {
   "cell_type": "code",
   "execution_count": 103,
   "metadata": {},
   "outputs": [
    {
     "data": {
      "text/plain": [
       "48"
      ]
     },
     "execution_count": 103,
     "metadata": {},
     "output_type": "execute_result"
    }
   ],
   "source": [
    "len(pink_cab_monthly_rides)"
   ]
  },
  {
   "cell_type": "code",
   "execution_count": 104,
   "metadata": {
    "scrolled": true
   },
   "outputs": [
    {
     "data": {
      "text/plain": [
       "<AxesSubplot:>"
      ]
     },
     "execution_count": 104,
     "metadata": {},
     "output_type": "execute_result"
    },
    {
     "data": {
      "image/png": "[encoded data removed]",
      "text/plain": [
       "<Figure size 432x288 with 1 Axes>"
      ]
     },
     "metadata": {
      "needs_background": "light"
     },
     "output_type": "display_data"
    }
   ],
   "source": [
    "sns.lineplot(y=pd.Series(pink_cab_monthly_rides), x=range(48))\n",
    "#forecasting over a 12 month period is difficult without continuous data input"
   ]
  },
  {
   "cell_type": "markdown",
   "metadata": {},
   "source": [
    "## Conduct Time-series forecasting to predict the total profit for each cab company for 2019"
   ]
  },
  {
   "cell_type": "code",
   "execution_count": 105,
   "metadata": {},
   "outputs": [],
   "source": [
    "#define function to calculate total rides for each company for each year (2016 to 2018)\n",
    "def get_cab_annual_ride_totals():\n",
    "    \n",
    "    pink_cab_annual_rides = []\n",
    "    yellow_cab_annual_rides = []\n",
    "\n",
    "    for year in [2016, 2017, 2018]:\n",
    "                \n",
    "        pink_cab_annual_rides.append(cab_data_customer_transaction_ids[(cab_data_customer_transaction_ids['Company']=='Pink Cab')\n",
    "                                                         & (cab_data_customer_transaction_ids['Year']==year)]['Month'].count())\n",
    "        yellow_cab_annual_rides.append(cab_data_customer_transaction_ids[(cab_data_customer_transaction_ids['Company']=='Yellow Cab')\n",
    "                                                         & (cab_data_customer_transaction_ids['Year']==year)]['Month'].count())\n",
    "    return pink_cab_annual_rides, yellow_cab_annual_rides"
   ]
  },
  {
   "cell_type": "code",
   "execution_count": 107,
   "metadata": {},
   "outputs": [],
   "source": [
    "pink_cab_annual_rides, yellow_cab_annual_rides = get_cab_annual_ride_totals()"
   ]
  },
  {
   "cell_type": "code",
   "execution_count": 109,
   "metadata": {},
   "outputs": [
    {
     "name": "stderr",
     "output_type": "stream",
     "text": [
      "C:\\Users\\Manj\\anaconda3\\lib\\site-packages\\statsmodels\\tsa\\statespace\\sarimax.py:866: UserWarning: Too few observations to estimate starting parameters for ARMA and trend. All parameters except for variances will be set to zeros.\n",
      "  warn('Too few observations to estimate starting parameters%s.'\n"
     ]
    },
    {
     "name": "stdout",
     "output_type": "stream",
     "text": [
      "<statsmodels.tsa.statespace.mlemodel.PredictionResultsWrapper object at 0x00000232BB58B550> 28642.06807529627 24272.288745409853 33011.847405182685\n",
      "<statsmodels.tsa.statespace.mlemodel.PredictionResultsWrapper object at 0x00000232CB3D8E20> 92337.48772920655 78233.11052389507 106441.86493451803\n"
     ]
    }
   ],
   "source": [
    "#get annual ride totals for Pink and Yello Cab companies using the function created above\n",
    "pink_cab_annual_rides, yellow_cab_annual_rides = get_cab_annual_ride_totals() \n",
    "\n",
    "annual_cab_rides_forecast = {}\n",
    "\n",
    "for company,ann_ride_list in zip (['Pink Cab', 'Yellow Cab'],[pink_cab_annual_rides, yellow_cab_annual_rides]):\n",
    "    \n",
    "\n",
    "    model2 = ARIMA(pd.Series(ann_ride_list), order = (2, 1, 2)) # where p = 2 which is the number of lag observations, \n",
    "    # #                                               #  d = 1 which is the number of times the raw observations are differenced to make the trend stationary\n",
    "    # #                                               # q = 2 which is the size of the moving average window\n",
    "    model2_fit =  model2.fit()\n",
    "    output = model2_fit.get_forecast()\n",
    "    forecast = output.predicted_mean\n",
    "    confid_int = output.conf_int(alpha=0.05)\n",
    "    print(output, forecast.iloc[0], confid_int.iloc[0][0] ,confid_int.iloc[0][1])\n",
    "    annual_cab_rides_forecast[company] = [int(forecast.iloc[0]), int(confid_int.iloc[0][0]), int(confid_int.iloc[0][1])]"
   ]
  },
  {
   "cell_type": "code",
   "execution_count": 110,
   "metadata": {},
   "outputs": [
    {
     "data": {
      "text/plain": [
       "([28642, 24272, 33011], [92337, 78233, 106441])"
      ]
     },
     "execution_count": 110,
     "metadata": {},
     "output_type": "execute_result"
    }
   ],
   "source": [
    "annual_cab_rides_forecast['Pink Cab'], annual_cab_rides_forecast['Yellow Cab']"
   ]
  },
  {
   "cell_type": "code",
   "execution_count": 111,
   "metadata": {
    "scrolled": true
   },
   "outputs": [
    {
     "data": {
      "text/plain": [
       "Text(0.5, 1.0, 'Yellow Cab Ride Total Prediction for 2019')"
      ]
     },
     "execution_count": 111,
     "metadata": {},
     "output_type": "execute_result"
    },
    {
     "data": {
      "image/png": "[encoded data removed]",
      "text/plain": [
       "<Figure size 1080x432 with 2 Axes>"
      ]
     },
     "metadata": {
      "needs_background": "light"
     },
     "output_type": "display_data"
    }
   ],
   "source": [
    "plt.subplots(1,2,figsize=(15,6))\n",
    "plt.subplot(1,2,1)\n",
    "plt.ylim(0,120000)\n",
    "sns.lineplot(y=pink_cab_annual_rides, x=[2016,2017,2018], color= 'blue', label='Pink Cab: 2016-2018')\n",
    "sns.scatterplot(y=annual_cab_rides_forecast['Pink Cab'][0],x=[2019], size=25, color= 'red', label='Pink Cab: 2019 pred')\n",
    "plt.errorbar(y=annual_cab_rides_forecast['Pink Cab'][0],x=[2019], yerr=4370, capsize = 10, color= 'red')\n",
    "plt.legend(['Pink Cab Totals: 2016-2018','Pink Cab: 2019 pred 95% CI'])\n",
    "plt.xlabel('YEAR')\n",
    "plt.ylabel('Annual Ride Total')\n",
    "plt.title('Pink Cab Ride Total Prediction for 2019')\n",
    "plt.subplot(1,2,2)\n",
    "plt.ylim(0,120000)\n",
    "sns.lineplot(y=yellow_cab_annual_rides, x=[2016,2017,2018], color= 'blue', label='Yellow Cab: 2016-2018')\n",
    "sns.scatterplot(y=annual_cab_rides_forecast['Yellow Cab'][0],x=[2019], size=25, color= 'red', label='Yellow Cab: 2019 pred')\n",
    "plt.errorbar(y=annual_cab_rides_forecast['Yellow Cab'][0],x=[2019], yerr=14104, capsize = 10, color= 'red')\n",
    "plt.legend(['Yellow Cab Totals: 2016-2018','Yellow Cab: 2019 pred 95% CI'])\n",
    "plt.ylabel('Annual Ride Total')\n",
    "plt.xlabel('YEAR')\n",
    "plt.title('Yellow Cab Ride Total Prediction for 2019')"
   ]
  },
  {
   "cell_type": "markdown",
   "metadata": {},
   "source": [
    "Both companies are predicted to have fewer rides for the whole of 2019, -2.8% and -2.5% for Pink and Yellow Cab respectively. However, the actual gain/loss within the 95% confidence interval are +12% and -18% for Pink Cab and +11%  and -17% for Yellow Cab."
   ]
  },
  {
   "cell_type": "markdown",
   "metadata": {},
   "source": [
    "### Conduct Time-series forecasting to predict the total number of rides for each cab company for 2019"
   ]
  },
  {
   "cell_type": "code",
   "execution_count": 112,
   "metadata": {},
   "outputs": [
    {
     "data": {
      "text/html": [
       "<div>\n",
       "<style scoped>\n",
       "    .dataframe tbody tr th:only-of-type {\n",
       "        vertical-align: middle;\n",
       "    }\n",
       "\n",
       "    .dataframe tbody tr th {\n",
       "        vertical-align: top;\n",
       "    }\n",
       "\n",
       "    .dataframe thead th {\n",
       "        text-align: right;\n",
       "    }\n",
       "</style>\n",
       "<table border=\"1\" class=\"dataframe\">\n",
       "  <thead>\n",
       "    <tr style=\"text-align: right;\">\n",
       "      <th></th>\n",
       "      <th>Customer ID</th>\n",
       "      <th>Gender</th>\n",
       "      <th>Age</th>\n",
       "      <th>Income (USD/Month)</th>\n",
       "      <th>Transaction ID</th>\n",
       "      <th>Payment_Mode</th>\n",
       "      <th>Company</th>\n",
       "      <th>City</th>\n",
       "      <th>KM Travelled</th>\n",
       "      <th>Price Charged</th>\n",
       "      <th>Cost of Trip</th>\n",
       "      <th>Date</th>\n",
       "      <th>Profit</th>\n",
       "      <th>Profit per km</th>\n",
       "      <th>Year</th>\n",
       "      <th>Month</th>\n",
       "      <th>Day_of_month</th>\n",
       "      <th>Day_of_week</th>\n",
       "    </tr>\n",
       "  </thead>\n",
       "  <tbody>\n",
       "    <tr>\n",
       "      <th>0</th>\n",
       "      <td>29290</td>\n",
       "      <td>Male</td>\n",
       "      <td>28</td>\n",
       "      <td>10813</td>\n",
       "      <td>10000011</td>\n",
       "      <td>Card</td>\n",
       "      <td>Pink Cab</td>\n",
       "      <td>ATLANTA GA</td>\n",
       "      <td>30.45</td>\n",
       "      <td>370.95</td>\n",
       "      <td>313.6350</td>\n",
       "      <td>2016-01-10</td>\n",
       "      <td>57.32</td>\n",
       "      <td>1.88</td>\n",
       "      <td>2016</td>\n",
       "      <td>1</td>\n",
       "      <td>10</td>\n",
       "      <td>Sunday</td>\n",
       "    </tr>\n",
       "    <tr>\n",
       "      <th>1</th>\n",
       "      <td>29290</td>\n",
       "      <td>Male</td>\n",
       "      <td>28</td>\n",
       "      <td>10813</td>\n",
       "      <td>10351127</td>\n",
       "      <td>Cash</td>\n",
       "      <td>Yellow Cab</td>\n",
       "      <td>ATLANTA GA</td>\n",
       "      <td>26.19</td>\n",
       "      <td>598.70</td>\n",
       "      <td>317.4228</td>\n",
       "      <td>2018-07-23</td>\n",
       "      <td>281.28</td>\n",
       "      <td>10.74</td>\n",
       "      <td>2018</td>\n",
       "      <td>7</td>\n",
       "      <td>23</td>\n",
       "      <td>Monday</td>\n",
       "    </tr>\n",
       "    <tr>\n",
       "      <th>2</th>\n",
       "      <td>29290</td>\n",
       "      <td>Male</td>\n",
       "      <td>28</td>\n",
       "      <td>10813</td>\n",
       "      <td>10412921</td>\n",
       "      <td>Card</td>\n",
       "      <td>Yellow Cab</td>\n",
       "      <td>ATLANTA GA</td>\n",
       "      <td>42.55</td>\n",
       "      <td>792.05</td>\n",
       "      <td>597.4020</td>\n",
       "      <td>2018-11-25</td>\n",
       "      <td>194.65</td>\n",
       "      <td>4.57</td>\n",
       "      <td>2018</td>\n",
       "      <td>11</td>\n",
       "      <td>25</td>\n",
       "      <td>Sunday</td>\n",
       "    </tr>\n",
       "    <tr>\n",
       "      <th>3</th>\n",
       "      <td>27703</td>\n",
       "      <td>Male</td>\n",
       "      <td>27</td>\n",
       "      <td>9237</td>\n",
       "      <td>10000012</td>\n",
       "      <td>Card</td>\n",
       "      <td>Pink Cab</td>\n",
       "      <td>ATLANTA GA</td>\n",
       "      <td>28.62</td>\n",
       "      <td>358.52</td>\n",
       "      <td>334.8540</td>\n",
       "      <td>2016-01-08</td>\n",
       "      <td>23.67</td>\n",
       "      <td>0.83</td>\n",
       "      <td>2016</td>\n",
       "      <td>1</td>\n",
       "      <td>8</td>\n",
       "      <td>Friday</td>\n",
       "    </tr>\n",
       "    <tr>\n",
       "      <th>4</th>\n",
       "      <td>27703</td>\n",
       "      <td>Male</td>\n",
       "      <td>27</td>\n",
       "      <td>9237</td>\n",
       "      <td>10320494</td>\n",
       "      <td>Card</td>\n",
       "      <td>Yellow Cab</td>\n",
       "      <td>ATLANTA GA</td>\n",
       "      <td>36.38</td>\n",
       "      <td>721.10</td>\n",
       "      <td>467.1192</td>\n",
       "      <td>2018-04-23</td>\n",
       "      <td>253.98</td>\n",
       "      <td>6.98</td>\n",
       "      <td>2018</td>\n",
       "      <td>4</td>\n",
       "      <td>23</td>\n",
       "      <td>Monday</td>\n",
       "    </tr>\n",
       "  </tbody>\n",
       "</table>\n",
       "</div>"
      ],
      "text/plain": [
       "   Customer ID Gender  Age  Income (USD/Month)  Transaction ID Payment_Mode  \\\n",
       "0        29290   Male   28               10813        10000011         Card   \n",
       "1        29290   Male   28               10813        10351127         Cash   \n",
       "2        29290   Male   28               10813        10412921         Card   \n",
       "3        27703   Male   27                9237        10000012         Card   \n",
       "4        27703   Male   27                9237        10320494         Card   \n",
       "\n",
       "      Company        City  KM Travelled  Price Charged  Cost of Trip  \\\n",
       "0    Pink Cab  ATLANTA GA         30.45         370.95      313.6350   \n",
       "1  Yellow Cab  ATLANTA GA         26.19         598.70      317.4228   \n",
       "2  Yellow Cab  ATLANTA GA         42.55         792.05      597.4020   \n",
       "3    Pink Cab  ATLANTA GA         28.62         358.52      334.8540   \n",
       "4  Yellow Cab  ATLANTA GA         36.38         721.10      467.1192   \n",
       "\n",
       "        Date  Profit  Profit per km  Year  Month  Day_of_month Day_of_week  \n",
       "0 2016-01-10   57.32           1.88  2016      1            10      Sunday  \n",
       "1 2018-07-23  281.28          10.74  2018      7            23      Monday  \n",
       "2 2018-11-25  194.65           4.57  2018     11            25      Sunday  \n",
       "3 2016-01-08   23.67           0.83  2016      1             8      Friday  \n",
       "4 2018-04-23  253.98           6.98  2018      4            23      Monday  "
      ]
     },
     "execution_count": 112,
     "metadata": {},
     "output_type": "execute_result"
    }
   ],
   "source": [
    "cab_data_customer_transaction_ids.head()"
   ]
  },
  {
   "cell_type": "code",
   "execution_count": 113,
   "metadata": {},
   "outputs": [],
   "source": [
    "#define function to calculate total profit for each company for each year (2016 to 2018)\n",
    "def get_cab_annual_profit_totals():\n",
    "    \n",
    "    pink_cab_annual_profit = []\n",
    "    yellow_cab_annual_profit = []\n",
    "\n",
    "    for year in [2016, 2017, 2018]:\n",
    "                \n",
    "        pink_cab_annual_profit.append(cab_data_customer_transaction_ids[(cab_data_customer_transaction_ids['Company']=='Pink Cab')\n",
    "                                                         & (cab_data_customer_transaction_ids['Year']==year)]['Profit'].sum())\n",
    "        yellow_cab_annual_profit.append(cab_data_customer_transaction_ids[(cab_data_customer_transaction_ids['Company']=='Yellow Cab')\n",
    "                                                         & (cab_data_customer_transaction_ids['Year']==year)]['Profit'].sum())\n",
    "    return pink_cab_annual_profit, yellow_cab_annual_profit"
   ]
  },
  {
   "cell_type": "code",
   "execution_count": 114,
   "metadata": {},
   "outputs": [
    {
     "data": {
      "text/plain": [
       "([1686457.64, 2033435.3599999999, 1578972.3000000003],\n",
       " [13786936.990000002, 16586613.300000003, 13609460.510000002])"
      ]
     },
     "execution_count": 114,
     "metadata": {},
     "output_type": "execute_result"
    }
   ],
   "source": [
    "pink_cab_annual_profit, yellow_cab_annual_profit = get_cab_annual_profit_totals()\n",
    "pink_cab_annual_profit, yellow_cab_annual_profit"
   ]
  },
  {
   "cell_type": "code",
   "execution_count": 115,
   "metadata": {
    "scrolled": true
   },
   "outputs": [
    {
     "name": "stderr",
     "output_type": "stream",
     "text": [
      "C:\\Users\\Manj\\anaconda3\\lib\\site-packages\\statsmodels\\tsa\\statespace\\sarimax.py:866: UserWarning: Too few observations to estimate starting parameters for ARMA and trend. All parameters except for variances will be set to zeros.\n",
      "  warn('Too few observations to estimate starting parameters%s.'\n"
     ]
    },
    {
     "name": "stdout",
     "output_type": "stream",
     "text": [
      "<statsmodels.tsa.statespace.mlemodel.PredictionResultsWrapper object at 0x00000232BB3CA1F0> 1348618.9391153941 793258.9417223472 1903978.936508441\n",
      "<statsmodels.tsa.statespace.mlemodel.PredictionResultsWrapper object at 0x00000232BB3CAEE0> 12126613.833666148 8123549.006059747 16129678.661272548\n"
     ]
    }
   ],
   "source": [
    "#get annual ride totals for Pink and Yello Cab companies using the function created above\n",
    "pink_cab_annual_profit, yellow_cab_annual_profit = get_cab_annual_profit_totals() \n",
    "\n",
    "annual_cab_profit_forecast = {}\n",
    "\n",
    "for company,ann_profit_list in zip (['Pink Cab', 'Yellow Cab'],[pink_cab_annual_profit, yellow_cab_annual_profit]):\n",
    "    \n",
    "\n",
    "    model3 = ARIMA(pd.Series(ann_profit_list), order = (2, 1, 2)) # where p = 2 which is the number of lag observations, \n",
    "    # #                                               #  d = 1 which is the number of times the raw observations are differenced to make the trend stationary\n",
    "    # #                                               # q = 2 which is the size of the moving average window\n",
    "    model3_fit =  model3.fit()\n",
    "    output = model3_fit.get_forecast()\n",
    "    forecast = output.predicted_mean\n",
    "    confid_int = output.conf_int(alpha=0.05) #95% confidence interval\n",
    "    print(output, forecast.iloc[0], confid_int.iloc[0][0] ,confid_int.iloc[0][1])\n",
    "    annual_cab_profit_forecast[company] = [int(forecast.iloc[0]), int(confid_int.iloc[0][0]), int(confid_int.iloc[0][1])]"
   ]
  },
  {
   "cell_type": "code",
   "execution_count": 116,
   "metadata": {},
   "outputs": [
    {
     "data": {
      "text/plain": [
       "{'Pink Cab': [1348618, 793258, 1903978],\n",
       " 'Yellow Cab': [12126613, 8123549, 16129678]}"
      ]
     },
     "execution_count": 116,
     "metadata": {},
     "output_type": "execute_result"
    }
   ],
   "source": [
    "annual_cab_profit_forecast"
   ]
  },
  {
   "cell_type": "code",
   "execution_count": 117,
   "metadata": {},
   "outputs": [
    {
     "data": {
      "text/plain": [
       "Text(0.5, 1.0, 'Yellow Cab Profit Prediction for 2019')"
      ]
     },
     "execution_count": 117,
     "metadata": {},
     "output_type": "execute_result"
    },
    {
     "data": {
      "image/png": "[encoded data removed]",
      "text/plain": [
       "<Figure size 1080x432 with 2 Axes>"
      ]
     },
     "metadata": {
      "needs_background": "light"
     },
     "output_type": "display_data"
    }
   ],
   "source": [
    "plt.subplots(1,2,figsize=(15,6))\n",
    "plt.subplot(1,2,1)\n",
    "plt.ylim(0,3000000)\n",
    "sns.lineplot(y=pink_cab_annual_profit, x=[2016,2017,2018], color= 'blue', label='Pink Cab: 2016-2018')\n",
    "sns.scatterplot(y=annual_cab_profit_forecast['Pink Cab'][0],x=[2019], size=25, color= 'red', label='Pink Cab: 2019 pred')\n",
    "plt.errorbar(y=annual_cab_profit_forecast['Pink Cab'][0],x=[2019], yerr=555360, capsize = 10, color= 'red')\n",
    "plt.legend(['Pink Cab Totals: 2016-2018','Pink Cab: 2019 pred 95% CI'])\n",
    "plt.xlabel('YEAR')\n",
    "plt.ylabel('Annual Profit Total(x $ 1 million)')\n",
    "plt.title('Pink Cab Profit Prediction for 2019')\n",
    "plt.subplot(1,2,2)\n",
    "plt.ylim(0,20000000)\n",
    "sns.lineplot(y=yellow_cab_annual_profit, x=[2016,2017,2018], color= 'blue', label='Yellow Cab: 2016-2018')\n",
    "sns.scatterplot(y=annual_cab_profit_forecast['Yellow Cab'][0],x=[2019], size=25, color= 'red', label='Yellow Cab: 2019 pred')\n",
    "plt.errorbar(y=annual_cab_profit_forecast['Yellow Cab'][0],x=[2019], yerr=4003065, capsize = 10, color= 'red')\n",
    "plt.legend(['Yellow Cab Totals: 2016-2018','Yellow Cab: 2019 pred 95% CI'])\n",
    "plt.ylabel('Annual Profit Total((x $ 10 million))')\n",
    "plt.xlabel('YEAR')\n",
    "plt.title('Yellow Cab Profit Prediction for 2019')"
   ]
  },
  {
   "cell_type": "code",
   "execution_count": null,
   "metadata": {},
   "outputs": [],
   "source": []
  }
 ],
 "metadata": {
  "kernelspec": {
   "display_name": "Python 3",
   "language": "python",
   "name": "python3"
  },
  "language_info": {
   "codemirror_mode": {
    "name": "ipython",
    "version": 3
   },
   "file_extension": ".py",
   "mimetype": "text/x-python",
   "name": "python",
   "nbconvert_exporter": "python",
   "pygments_lexer": "ipython3",
   "version": "3.8.5"
  }
 },
 "nbformat": 4,
 "nbformat_minor": 4
}
